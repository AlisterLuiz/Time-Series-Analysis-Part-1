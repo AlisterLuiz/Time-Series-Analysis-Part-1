{
 "cells": [
  {
   "attachments": {},
   "cell_type": "markdown",
   "metadata": {},
   "source": [
    "# Time Series Forecasting - Part 1"
   ]
  },
  {
   "attachments": {},
   "cell_type": "markdown",
   "metadata": {},
   "source": [
    "<center>\n",
    "<img src=\"./assets/timser.gif\" width=\"500\">\n",
    "</center>"
   ]
  },
  {
   "attachments": {},
   "cell_type": "markdown",
   "metadata": {},
   "source": [
    "In this series, we dive deep into the world of __Time Series Forecasting__.\n",
    "\n",
    "In order to master this domain, it is necessary to be familiar with all the mathematical concepts and theory surrounding this topic."
   ]
  },
  {
   "attachments": {},
   "cell_type": "markdown",
   "metadata": {},
   "source": [
    "In this notebook, we begin our journey by exploring two of the fundamental concepts in Time Series Analysis -\n",
    "\n",
    "- __Hodrick-Prescott Filter__\n",
    "- __ETS Decomposition__"
   ]
  },
  {
   "attachments": {},
   "cell_type": "markdown",
   "metadata": {},
   "source": [
    "We will be using the following libraries to illustrate some of our code examples -\n",
    "- [Statsmodels](https://www.statsmodels.org/)\n",
    "- [Pandas](https://pandas.pydata.org/)\n",
    "- [Numpy](https://numpy.org/)\n",
    "- [Plotly](https://plotly.com/)"
   ]
  },
  {
   "attachments": {},
   "cell_type": "markdown",
   "metadata": {},
   "source": [
    "__Let's get started!__\n",
    "\n",
    "First let's install and import the necessary libraries"
   ]
  },
  {
   "cell_type": "code",
   "execution_count": 1,
   "metadata": {},
   "outputs": [
    {
     "name": "stdout",
     "output_type": "stream",
     "text": [
      "Note: you may need to restart the kernel to use updated packages.\n"
     ]
    }
   ],
   "source": [
    "%pip install pandas numpy plotly statsmodels --quiet"
   ]
  },
  {
   "cell_type": "code",
   "execution_count": 2,
   "metadata": {},
   "outputs": [],
   "source": [
    "import pandas as pd\n",
    "import numpy as np\n",
    "from statsmodels.tsa.filters.hp_filter import hpfilter\n",
    "from statsmodels.tsa.seasonal import seasonal_decompose\n",
    "import plotly.express as px\n",
    "from plotly.subplots import make_subplots"
   ]
  },
  {
   "attachments": {},
   "cell_type": "markdown",
   "metadata": {},
   "source": [
    "### Properties of Time Series Data"
   ]
  },
  {
   "attachments": {},
   "cell_type": "markdown",
   "metadata": {},
   "source": [
    "Time Series Data has particular properties, let's take a look at some plots and discuss some important terms."
   ]
  },
  {
   "cell_type": "markdown",
   "metadata": {},
   "source": [
    "#### Trends"
   ]
  },
  {
   "attachments": {},
   "cell_type": "markdown",
   "metadata": {},
   "source": [
    "<center>\n",
    "<img src=\"./assets/trends.png\" width=\"500\">\n",
    "</center>"
   ]
  },
  {
   "attachments": {},
   "cell_type": "markdown",
   "metadata": {},
   "source": [
    "Three types of Trends - \n",
    "<ul><li>Upward</li><li>Horizontal/Stationary</li><li>Downward</li></ul>"
   ]
  },
  {
   "cell_type": "markdown",
   "metadata": {},
   "source": [
    "#### Seasonality"
   ]
  },
  {
   "attachments": {},
   "cell_type": "markdown",
   "metadata": {},
   "source": [
    "<center>\n",
    "<img src=\"./assets/seasonality.jpeg\" width=\"500\">\n",
    "<p>Repeating trends noticed <br> (In this example, every three months)</p>\n",
    "</center>"
   ]
  },
  {
   "attachments": {},
   "cell_type": "markdown",
   "metadata": {},
   "source": [
    "#### Cyclical"
   ]
  },
  {
   "attachments": {},
   "cell_type": "markdown",
   "metadata": {},
   "source": [
    "<center>\n",
    "<img src=\"./assets/cyclical.png\" width=\"750\">\n",
    "<p>Trends with no set repetition</p>\n",
    "</center>"
   ]
  },
  {
   "attachments": {},
   "cell_type": "markdown",
   "metadata": {},
   "source": [
    "#### Components of Time Series Data"
   ]
  },
  {
   "attachments": {},
   "cell_type": "markdown",
   "metadata": {},
   "source": [
    "<center>\n",
    "<img src=\"./assets/components.png\" width=\"500\">\n",
    "</center>"
   ]
  },
  {
   "attachments": {},
   "cell_type": "markdown",
   "metadata": {},
   "source": [
    "### Hodrick-Prescott Filter"
   ]
  },
  {
   "attachments": {},
   "cell_type": "markdown",
   "metadata": {},
   "source": [
    "The Hodrick-Prescott Filter separates a time-series $y_t$ into a trend component $\\tau_t$ and a cyclical component $c_t$"
   ]
  },
  {
   "attachments": {},
   "cell_type": "markdown",
   "metadata": {},
   "source": [
    "\\begin{align}\n",
    "y_t = \\tau_t + c_t\n",
    "\\end{align}"
   ]
  },
  {
   "attachments": {},
   "cell_type": "markdown",
   "metadata": {},
   "source": [
    "The trend and cyclical components are determined by minimizing the following quadratic loss function, where $\\lambda$ is the _smoothing_ parameter."
   ]
  },
  {
   "attachments": {},
   "cell_type": "markdown",
   "metadata": {},
   "source": [
    "\\begin{align}\n",
    "min_{\\tau_t} \\sum_{t=1}^{T} {c_t}^2 + \\lambda \\sum_{t=1}^{T} [(\\tau_t - \\tau_{t-1}) - (\\tau_{t-1} - \\tau_{t-2})]^2\n",
    "\\end{align}"
   ]
  },
  {
   "attachments": {},
   "cell_type": "markdown",
   "metadata": {},
   "source": [
    "The $\\lambda$ value above handles variations in the growth rate of the trend component"
   ]
  },
  {
   "attachments": {},
   "cell_type": "markdown",
   "metadata": {},
   "source": [
    "The ideal values of $\\lambda$ have already been identified -\n",
    "\n",
    "- __Default Data__ - 1600 (_Recommended_)\n",
    "- __Annual Data__ - 6.25\n",
    "- __Monthly Data__ - 129,600"
   ]
  },
  {
   "attachments": {},
   "cell_type": "markdown",
   "metadata": {},
   "source": [
    "Let's implement the Hodrick-Prescott Filter using the Statsmodels Library"
   ]
  },
  {
   "cell_type": "code",
   "execution_count": 3,
   "metadata": {},
   "outputs": [],
   "source": [
    "# Read in data\n",
    "gdp = pd.read_csv(\"https://github.com/LOST-STATS/lost-stats.github.io/raw/source/Time_Series/Data/GDPC1.csv\")\n",
    "\n",
    "# Convert date column to be of data type datetime64\n",
    "gdp['DATE'] = pd.to_datetime(gdp['DATE'])\n",
    "\n",
    "# Set the DATE as the index\n",
    "gdp.set_index('DATE', inplace=True)"
   ]
  },
  {
   "cell_type": "code",
   "execution_count": 5,
   "metadata": {},
   "outputs": [
    {
     "data": {
      "text/plain": [
       "(292, 1)"
      ]
     },
     "execution_count": 5,
     "metadata": {},
     "output_type": "execute_result"
    }
   ],
   "source": [
    "gdp.shape"
   ]
  },
  {
   "cell_type": "code",
   "execution_count": 7,
   "metadata": {},
   "outputs": [
    {
     "data": {
      "text/html": [
       "<div>\n",
       "<style scoped>\n",
       "    .dataframe tbody tr th:only-of-type {\n",
       "        vertical-align: middle;\n",
       "    }\n",
       "\n",
       "    .dataframe tbody tr th {\n",
       "        vertical-align: top;\n",
       "    }\n",
       "\n",
       "    .dataframe thead th {\n",
       "        text-align: right;\n",
       "    }\n",
       "</style>\n",
       "<table border=\"1\" class=\"dataframe\">\n",
       "  <thead>\n",
       "    <tr style=\"text-align: right;\">\n",
       "      <th></th>\n",
       "      <th>GDPC1</th>\n",
       "    </tr>\n",
       "    <tr>\n",
       "      <th>DATE</th>\n",
       "      <th></th>\n",
       "    </tr>\n",
       "  </thead>\n",
       "  <tbody>\n",
       "    <tr>\n",
       "      <th>1947-01-01</th>\n",
       "      <td>2033.061</td>\n",
       "    </tr>\n",
       "    <tr>\n",
       "      <th>1947-04-01</th>\n",
       "      <td>2027.639</td>\n",
       "    </tr>\n",
       "    <tr>\n",
       "      <th>1947-07-01</th>\n",
       "      <td>2023.452</td>\n",
       "    </tr>\n",
       "    <tr>\n",
       "      <th>1947-10-01</th>\n",
       "      <td>2055.103</td>\n",
       "    </tr>\n",
       "    <tr>\n",
       "      <th>1948-01-01</th>\n",
       "      <td>2086.017</td>\n",
       "    </tr>\n",
       "  </tbody>\n",
       "</table>\n",
       "</div>"
      ],
      "text/plain": [
       "               GDPC1\n",
       "DATE                \n",
       "1947-01-01  2033.061\n",
       "1947-04-01  2027.639\n",
       "1947-07-01  2023.452\n",
       "1947-10-01  2055.103\n",
       "1948-01-01  2086.017"
      ]
     },
     "execution_count": 7,
     "metadata": {},
     "output_type": "execute_result"
    }
   ],
   "source": [
    "gdp.head()"
   ]
  },
  {
   "cell_type": "code",
   "execution_count": 8,
   "metadata": {},
   "outputs": [
    {
     "data": {
      "application/vnd.plotly.v1+json": {
       "config": {
        "plotlyServerURL": "https://plot.ly"
       },
       "data": [
        {
         "hovertemplate": "Date=%{x}<br>GDP=%{y}<extra></extra>",
         "legendgroup": "",
         "line": {
          "color": "#636efa",
          "dash": "solid"
         },
         "marker": {
          "symbol": "circle"
         },
         "mode": "lines",
         "name": "",
         "orientation": "v",
         "showlegend": false,
         "type": "scatter",
         "x": [
          "1947-01-01T00:00:00",
          "1947-04-01T00:00:00",
          "1947-07-01T00:00:00",
          "1947-10-01T00:00:00",
          "1948-01-01T00:00:00",
          "1948-04-01T00:00:00",
          "1948-07-01T00:00:00",
          "1948-10-01T00:00:00",
          "1949-01-01T00:00:00",
          "1949-04-01T00:00:00",
          "1949-07-01T00:00:00",
          "1949-10-01T00:00:00",
          "1950-01-01T00:00:00",
          "1950-04-01T00:00:00",
          "1950-07-01T00:00:00",
          "1950-10-01T00:00:00",
          "1951-01-01T00:00:00",
          "1951-04-01T00:00:00",
          "1951-07-01T00:00:00",
          "1951-10-01T00:00:00",
          "1952-01-01T00:00:00",
          "1952-04-01T00:00:00",
          "1952-07-01T00:00:00",
          "1952-10-01T00:00:00",
          "1953-01-01T00:00:00",
          "1953-04-01T00:00:00",
          "1953-07-01T00:00:00",
          "1953-10-01T00:00:00",
          "1954-01-01T00:00:00",
          "1954-04-01T00:00:00",
          "1954-07-01T00:00:00",
          "1954-10-01T00:00:00",
          "1955-01-01T00:00:00",
          "1955-04-01T00:00:00",
          "1955-07-01T00:00:00",
          "1955-10-01T00:00:00",
          "1956-01-01T00:00:00",
          "1956-04-01T00:00:00",
          "1956-07-01T00:00:00",
          "1956-10-01T00:00:00",
          "1957-01-01T00:00:00",
          "1957-04-01T00:00:00",
          "1957-07-01T00:00:00",
          "1957-10-01T00:00:00",
          "1958-01-01T00:00:00",
          "1958-04-01T00:00:00",
          "1958-07-01T00:00:00",
          "1958-10-01T00:00:00",
          "1959-01-01T00:00:00",
          "1959-04-01T00:00:00",
          "1959-07-01T00:00:00",
          "1959-10-01T00:00:00",
          "1960-01-01T00:00:00",
          "1960-04-01T00:00:00",
          "1960-07-01T00:00:00",
          "1960-10-01T00:00:00",
          "1961-01-01T00:00:00",
          "1961-04-01T00:00:00",
          "1961-07-01T00:00:00",
          "1961-10-01T00:00:00",
          "1962-01-01T00:00:00",
          "1962-04-01T00:00:00",
          "1962-07-01T00:00:00",
          "1962-10-01T00:00:00",
          "1963-01-01T00:00:00",
          "1963-04-01T00:00:00",
          "1963-07-01T00:00:00",
          "1963-10-01T00:00:00",
          "1964-01-01T00:00:00",
          "1964-04-01T00:00:00",
          "1964-07-01T00:00:00",
          "1964-10-01T00:00:00",
          "1965-01-01T00:00:00",
          "1965-04-01T00:00:00",
          "1965-07-01T00:00:00",
          "1965-10-01T00:00:00",
          "1966-01-01T00:00:00",
          "1966-04-01T00:00:00",
          "1966-07-01T00:00:00",
          "1966-10-01T00:00:00",
          "1967-01-01T00:00:00",
          "1967-04-01T00:00:00",
          "1967-07-01T00:00:00",
          "1967-10-01T00:00:00",
          "1968-01-01T00:00:00",
          "1968-04-01T00:00:00",
          "1968-07-01T00:00:00",
          "1968-10-01T00:00:00",
          "1969-01-01T00:00:00",
          "1969-04-01T00:00:00",
          "1969-07-01T00:00:00",
          "1969-10-01T00:00:00",
          "1970-01-01T00:00:00",
          "1970-04-01T00:00:00",
          "1970-07-01T00:00:00",
          "1970-10-01T00:00:00",
          "1971-01-01T00:00:00",
          "1971-04-01T00:00:00",
          "1971-07-01T00:00:00",
          "1971-10-01T00:00:00",
          "1972-01-01T00:00:00",
          "1972-04-01T00:00:00",
          "1972-07-01T00:00:00",
          "1972-10-01T00:00:00",
          "1973-01-01T00:00:00",
          "1973-04-01T00:00:00",
          "1973-07-01T00:00:00",
          "1973-10-01T00:00:00",
          "1974-01-01T00:00:00",
          "1974-04-01T00:00:00",
          "1974-07-01T00:00:00",
          "1974-10-01T00:00:00",
          "1975-01-01T00:00:00",
          "1975-04-01T00:00:00",
          "1975-07-01T00:00:00",
          "1975-10-01T00:00:00",
          "1976-01-01T00:00:00",
          "1976-04-01T00:00:00",
          "1976-07-01T00:00:00",
          "1976-10-01T00:00:00",
          "1977-01-01T00:00:00",
          "1977-04-01T00:00:00",
          "1977-07-01T00:00:00",
          "1977-10-01T00:00:00",
          "1978-01-01T00:00:00",
          "1978-04-01T00:00:00",
          "1978-07-01T00:00:00",
          "1978-10-01T00:00:00",
          "1979-01-01T00:00:00",
          "1979-04-01T00:00:00",
          "1979-07-01T00:00:00",
          "1979-10-01T00:00:00",
          "1980-01-01T00:00:00",
          "1980-04-01T00:00:00",
          "1980-07-01T00:00:00",
          "1980-10-01T00:00:00",
          "1981-01-01T00:00:00",
          "1981-04-01T00:00:00",
          "1981-07-01T00:00:00",
          "1981-10-01T00:00:00",
          "1982-01-01T00:00:00",
          "1982-04-01T00:00:00",
          "1982-07-01T00:00:00",
          "1982-10-01T00:00:00",
          "1983-01-01T00:00:00",
          "1983-04-01T00:00:00",
          "1983-07-01T00:00:00",
          "1983-10-01T00:00:00",
          "1984-01-01T00:00:00",
          "1984-04-01T00:00:00",
          "1984-07-01T00:00:00",
          "1984-10-01T00:00:00",
          "1985-01-01T00:00:00",
          "1985-04-01T00:00:00",
          "1985-07-01T00:00:00",
          "1985-10-01T00:00:00",
          "1986-01-01T00:00:00",
          "1986-04-01T00:00:00",
          "1986-07-01T00:00:00",
          "1986-10-01T00:00:00",
          "1987-01-01T00:00:00",
          "1987-04-01T00:00:00",
          "1987-07-01T00:00:00",
          "1987-10-01T00:00:00",
          "1988-01-01T00:00:00",
          "1988-04-01T00:00:00",
          "1988-07-01T00:00:00",
          "1988-10-01T00:00:00",
          "1989-01-01T00:00:00",
          "1989-04-01T00:00:00",
          "1989-07-01T00:00:00",
          "1989-10-01T00:00:00",
          "1990-01-01T00:00:00",
          "1990-04-01T00:00:00",
          "1990-07-01T00:00:00",
          "1990-10-01T00:00:00",
          "1991-01-01T00:00:00",
          "1991-04-01T00:00:00",
          "1991-07-01T00:00:00",
          "1991-10-01T00:00:00",
          "1992-01-01T00:00:00",
          "1992-04-01T00:00:00",
          "1992-07-01T00:00:00",
          "1992-10-01T00:00:00",
          "1993-01-01T00:00:00",
          "1993-04-01T00:00:00",
          "1993-07-01T00:00:00",
          "1993-10-01T00:00:00",
          "1994-01-01T00:00:00",
          "1994-04-01T00:00:00",
          "1994-07-01T00:00:00",
          "1994-10-01T00:00:00",
          "1995-01-01T00:00:00",
          "1995-04-01T00:00:00",
          "1995-07-01T00:00:00",
          "1995-10-01T00:00:00",
          "1996-01-01T00:00:00",
          "1996-04-01T00:00:00",
          "1996-07-01T00:00:00",
          "1996-10-01T00:00:00",
          "1997-01-01T00:00:00",
          "1997-04-01T00:00:00",
          "1997-07-01T00:00:00",
          "1997-10-01T00:00:00",
          "1998-01-01T00:00:00",
          "1998-04-01T00:00:00",
          "1998-07-01T00:00:00",
          "1998-10-01T00:00:00",
          "1999-01-01T00:00:00",
          "1999-04-01T00:00:00",
          "1999-07-01T00:00:00",
          "1999-10-01T00:00:00",
          "2000-01-01T00:00:00",
          "2000-04-01T00:00:00",
          "2000-07-01T00:00:00",
          "2000-10-01T00:00:00",
          "2001-01-01T00:00:00",
          "2001-04-01T00:00:00",
          "2001-07-01T00:00:00",
          "2001-10-01T00:00:00",
          "2002-01-01T00:00:00",
          "2002-04-01T00:00:00",
          "2002-07-01T00:00:00",
          "2002-10-01T00:00:00",
          "2003-01-01T00:00:00",
          "2003-04-01T00:00:00",
          "2003-07-01T00:00:00",
          "2003-10-01T00:00:00",
          "2004-01-01T00:00:00",
          "2004-04-01T00:00:00",
          "2004-07-01T00:00:00",
          "2004-10-01T00:00:00",
          "2005-01-01T00:00:00",
          "2005-04-01T00:00:00",
          "2005-07-01T00:00:00",
          "2005-10-01T00:00:00",
          "2006-01-01T00:00:00",
          "2006-04-01T00:00:00",
          "2006-07-01T00:00:00",
          "2006-10-01T00:00:00",
          "2007-01-01T00:00:00",
          "2007-04-01T00:00:00",
          "2007-07-01T00:00:00",
          "2007-10-01T00:00:00",
          "2008-01-01T00:00:00",
          "2008-04-01T00:00:00",
          "2008-07-01T00:00:00",
          "2008-10-01T00:00:00",
          "2009-01-01T00:00:00",
          "2009-04-01T00:00:00",
          "2009-07-01T00:00:00",
          "2009-10-01T00:00:00",
          "2010-01-01T00:00:00",
          "2010-04-01T00:00:00",
          "2010-07-01T00:00:00",
          "2010-10-01T00:00:00",
          "2011-01-01T00:00:00",
          "2011-04-01T00:00:00",
          "2011-07-01T00:00:00",
          "2011-10-01T00:00:00",
          "2012-01-01T00:00:00",
          "2012-04-01T00:00:00",
          "2012-07-01T00:00:00",
          "2012-10-01T00:00:00",
          "2013-01-01T00:00:00",
          "2013-04-01T00:00:00",
          "2013-07-01T00:00:00",
          "2013-10-01T00:00:00",
          "2014-01-01T00:00:00",
          "2014-04-01T00:00:00",
          "2014-07-01T00:00:00",
          "2014-10-01T00:00:00",
          "2015-01-01T00:00:00",
          "2015-04-01T00:00:00",
          "2015-07-01T00:00:00",
          "2015-10-01T00:00:00",
          "2016-01-01T00:00:00",
          "2016-04-01T00:00:00",
          "2016-07-01T00:00:00",
          "2016-10-01T00:00:00",
          "2017-01-01T00:00:00",
          "2017-04-01T00:00:00",
          "2017-07-01T00:00:00",
          "2017-10-01T00:00:00",
          "2018-01-01T00:00:00",
          "2018-04-01T00:00:00",
          "2018-07-01T00:00:00",
          "2018-10-01T00:00:00",
          "2019-01-01T00:00:00",
          "2019-04-01T00:00:00",
          "2019-07-01T00:00:00",
          "2019-10-01T00:00:00"
         ],
         "xaxis": "x",
         "y": [
          2033.061,
          2027.639,
          2023.452,
          2055.103,
          2086.017,
          2120.45,
          2132.598,
          2134.981,
          2105.562,
          2098.38,
          2120.044,
          2102.251,
          2184.872,
          2251.507,
          2338.514,
          2383.291,
          2415.66,
          2457.517,
          2508.166,
          2513.69,
          2540.55,
          2546.022,
          2564.401,
          2648.621,
          2697.855,
          2718.709,
          2703.411,
          2662.482,
          2649.755,
          2652.643,
          2682.601,
          2735.091,
          2813.212,
          2858.988,
          2897.598,
          2914.993,
          2903.671,
          2927.665,
          2925.035,
          2973.179,
          2992.219,
          2985.663,
          3014.919,
          2983.727,
          2906.274,
          2925.379,
          2993.068,
          3063.085,
          3121.936,
          3192.38,
          3194.653,
          3203.759,
          3275.757,
          3258.088,
          3274.029,
          3232.009,
          3253.826,
          3309.059,
          3372.581,
          3438.721,
          3500.054,
          3531.683,
          3575.07,
          3586.827,
          3625.981,
          3666.669,
          3747.278,
          3771.845,
          3851.366,
          3893.296,
          3954.121,
          3966.335,
          4062.311,
          4113.629,
          4205.086,
          4301.973,
          4406.693,
          4421.747,
          4459.195,
          4495.777,
          4535.591,
          4538.37,
          4581.309,
          4615.853,
          4709.993,
          4788.688,
          4825.799,
          4844.779,
          4920.605,
          4935.564,
          4968.164,
          4943.935,
          4936.594,
          4943.6,
          4989.159,
          4935.693,
          5069.746,
          5097.179,
          5139.128,
          5151.245,
          5245.974,
          5365.045,
          5415.712,
          5506.396,
          5642.669,
          5704.098,
          5674.1,
          5727.96,
          5678.713,
          5692.21,
          5638.411,
          5616.526,
          5548.156,
          5587.8,
          5683.444,
          5759.972,
          5889.5,
          5932.711,
          5965.265,
          6008.504,
          6079.494,
          6197.686,
          6309.514,
          6309.652,
          6329.791,
          6574.39,
          6640.497,
          6729.755,
          6741.854,
          6749.063,
          6799.2,
          6816.203,
          6837.641,
          6696.753,
          6688.794,
          6813.535,
          6947.042,
          6895.559,
          6978.135,
          6902.105,
          6794.878,
          6825.876,
          6799.781,
          6802.497,
          6892.144,
          7048.982,
          7189.896,
          7339.893,
          7483.371,
          7612.668,
          7686.059,
          7749.151,
          7824.247,
          7893.136,
          8013.674,
          8073.239,
          8148.603,
          8185.303,
          8263.639,
          8308.021,
          8369.93,
          8460.233,
          8533.635,
          8680.162,
          8725.006,
          8839.641,
          8891.435,
          9009.913,
          9101.508,
          9170.977,
          9238.923,
          9257.128,
          9358.289,
          9392.251,
          9398.499,
          9312.937,
          9269.367,
          9341.642,
          9388.845,
          9421.565,
          9534.346,
          9637.732,
          9732.979,
          9834.51,
          9850.973,
          9908.347,
          9955.641,
          10091.049,
          10188.954,
          10327.019,
          10387.382,
          10506.372,
          10543.644,
          10575.1,
          10665.06,
          10737.478,
          10817.896,
          10998.322,
          11096.976,
          11212.205,
          11284.587,
          11472.137,
          11615.636,
          11715.393,
          11832.486,
          11942.032,
          12091.614,
          12287,
          12403.293,
          12498.694,
          12662.385,
          12877.593,
          12924.179,
          13160.842,
          13178.419,
          13260.506,
          13222.69,
          13299.984,
          13244.784,
          13280.859,
          13397.002,
          13478.152,
          13538.072,
          13559.032,
          13634.253,
          13751.543,
          13985.073,
          14145.645,
          14221.147,
          14329.523,
          14464.984,
          14609.876,
          14771.602,
          14839.782,
          14972.054,
          15066.597,
          15267.026,
          15302.705,
          15326.368,
          15456.928,
          15493.328,
          15582.085,
          15666.738,
          15761.967,
          15671.383,
          15752.308,
          15667.032,
          15328.027,
          15155.94,
          15134.117,
          15189.222,
          15356.058,
          15415.145,
          15557.277,
          15671.967,
          15750.625,
          15712.754,
          15825.096,
          15820.7,
          16004.107,
          16129.418,
          16198.807,
          16220.667,
          16239.138,
          16382.964,
          16403.18,
          16531.685,
          16663.649,
          16616.54,
          16841.475,
          17047.098,
          17143.038,
          17277.58,
          17405.669,
          17463.222,
          17468.902,
          17556.839,
          17639.417,
          17735.074,
          17824.231,
          17925.256,
          18021.048,
          18163.558,
          18322.464,
          18438.254,
          18598.135,
          18732.72,
          18783.548,
          18927.281,
          19021.86,
          19121.112,
          19219.767
         ],
         "yaxis": "y"
        }
       ],
       "layout": {
        "legend": {
         "tracegroupgap": 0
        },
        "template": {
         "data": {
          "bar": [
           {
            "error_x": {
             "color": "#2a3f5f"
            },
            "error_y": {
             "color": "#2a3f5f"
            },
            "marker": {
             "line": {
              "color": "#E5ECF6",
              "width": 0.5
             },
             "pattern": {
              "fillmode": "overlay",
              "size": 10,
              "solidity": 0.2
             }
            },
            "type": "bar"
           }
          ],
          "barpolar": [
           {
            "marker": {
             "line": {
              "color": "#E5ECF6",
              "width": 0.5
             },
             "pattern": {
              "fillmode": "overlay",
              "size": 10,
              "solidity": 0.2
             }
            },
            "type": "barpolar"
           }
          ],
          "carpet": [
           {
            "aaxis": {
             "endlinecolor": "#2a3f5f",
             "gridcolor": "white",
             "linecolor": "white",
             "minorgridcolor": "white",
             "startlinecolor": "#2a3f5f"
            },
            "baxis": {
             "endlinecolor": "#2a3f5f",
             "gridcolor": "white",
             "linecolor": "white",
             "minorgridcolor": "white",
             "startlinecolor": "#2a3f5f"
            },
            "type": "carpet"
           }
          ],
          "choropleth": [
           {
            "colorbar": {
             "outlinewidth": 0,
             "ticks": ""
            },
            "type": "choropleth"
           }
          ],
          "contour": [
           {
            "colorbar": {
             "outlinewidth": 0,
             "ticks": ""
            },
            "colorscale": [
             [
              0,
              "#0d0887"
             ],
             [
              0.1111111111111111,
              "#46039f"
             ],
             [
              0.2222222222222222,
              "#7201a8"
             ],
             [
              0.3333333333333333,
              "#9c179e"
             ],
             [
              0.4444444444444444,
              "#bd3786"
             ],
             [
              0.5555555555555556,
              "#d8576b"
             ],
             [
              0.6666666666666666,
              "#ed7953"
             ],
             [
              0.7777777777777778,
              "#fb9f3a"
             ],
             [
              0.8888888888888888,
              "#fdca26"
             ],
             [
              1,
              "#f0f921"
             ]
            ],
            "type": "contour"
           }
          ],
          "contourcarpet": [
           {
            "colorbar": {
             "outlinewidth": 0,
             "ticks": ""
            },
            "type": "contourcarpet"
           }
          ],
          "heatmap": [
           {
            "colorbar": {
             "outlinewidth": 0,
             "ticks": ""
            },
            "colorscale": [
             [
              0,
              "#0d0887"
             ],
             [
              0.1111111111111111,
              "#46039f"
             ],
             [
              0.2222222222222222,
              "#7201a8"
             ],
             [
              0.3333333333333333,
              "#9c179e"
             ],
             [
              0.4444444444444444,
              "#bd3786"
             ],
             [
              0.5555555555555556,
              "#d8576b"
             ],
             [
              0.6666666666666666,
              "#ed7953"
             ],
             [
              0.7777777777777778,
              "#fb9f3a"
             ],
             [
              0.8888888888888888,
              "#fdca26"
             ],
             [
              1,
              "#f0f921"
             ]
            ],
            "type": "heatmap"
           }
          ],
          "heatmapgl": [
           {
            "colorbar": {
             "outlinewidth": 0,
             "ticks": ""
            },
            "colorscale": [
             [
              0,
              "#0d0887"
             ],
             [
              0.1111111111111111,
              "#46039f"
             ],
             [
              0.2222222222222222,
              "#7201a8"
             ],
             [
              0.3333333333333333,
              "#9c179e"
             ],
             [
              0.4444444444444444,
              "#bd3786"
             ],
             [
              0.5555555555555556,
              "#d8576b"
             ],
             [
              0.6666666666666666,
              "#ed7953"
             ],
             [
              0.7777777777777778,
              "#fb9f3a"
             ],
             [
              0.8888888888888888,
              "#fdca26"
             ],
             [
              1,
              "#f0f921"
             ]
            ],
            "type": "heatmapgl"
           }
          ],
          "histogram": [
           {
            "marker": {
             "pattern": {
              "fillmode": "overlay",
              "size": 10,
              "solidity": 0.2
             }
            },
            "type": "histogram"
           }
          ],
          "histogram2d": [
           {
            "colorbar": {
             "outlinewidth": 0,
             "ticks": ""
            },
            "colorscale": [
             [
              0,
              "#0d0887"
             ],
             [
              0.1111111111111111,
              "#46039f"
             ],
             [
              0.2222222222222222,
              "#7201a8"
             ],
             [
              0.3333333333333333,
              "#9c179e"
             ],
             [
              0.4444444444444444,
              "#bd3786"
             ],
             [
              0.5555555555555556,
              "#d8576b"
             ],
             [
              0.6666666666666666,
              "#ed7953"
             ],
             [
              0.7777777777777778,
              "#fb9f3a"
             ],
             [
              0.8888888888888888,
              "#fdca26"
             ],
             [
              1,
              "#f0f921"
             ]
            ],
            "type": "histogram2d"
           }
          ],
          "histogram2dcontour": [
           {
            "colorbar": {
             "outlinewidth": 0,
             "ticks": ""
            },
            "colorscale": [
             [
              0,
              "#0d0887"
             ],
             [
              0.1111111111111111,
              "#46039f"
             ],
             [
              0.2222222222222222,
              "#7201a8"
             ],
             [
              0.3333333333333333,
              "#9c179e"
             ],
             [
              0.4444444444444444,
              "#bd3786"
             ],
             [
              0.5555555555555556,
              "#d8576b"
             ],
             [
              0.6666666666666666,
              "#ed7953"
             ],
             [
              0.7777777777777778,
              "#fb9f3a"
             ],
             [
              0.8888888888888888,
              "#fdca26"
             ],
             [
              1,
              "#f0f921"
             ]
            ],
            "type": "histogram2dcontour"
           }
          ],
          "mesh3d": [
           {
            "colorbar": {
             "outlinewidth": 0,
             "ticks": ""
            },
            "type": "mesh3d"
           }
          ],
          "parcoords": [
           {
            "line": {
             "colorbar": {
              "outlinewidth": 0,
              "ticks": ""
             }
            },
            "type": "parcoords"
           }
          ],
          "pie": [
           {
            "automargin": true,
            "type": "pie"
           }
          ],
          "scatter": [
           {
            "marker": {
             "colorbar": {
              "outlinewidth": 0,
              "ticks": ""
             }
            },
            "type": "scatter"
           }
          ],
          "scatter3d": [
           {
            "line": {
             "colorbar": {
              "outlinewidth": 0,
              "ticks": ""
             }
            },
            "marker": {
             "colorbar": {
              "outlinewidth": 0,
              "ticks": ""
             }
            },
            "type": "scatter3d"
           }
          ],
          "scattercarpet": [
           {
            "marker": {
             "colorbar": {
              "outlinewidth": 0,
              "ticks": ""
             }
            },
            "type": "scattercarpet"
           }
          ],
          "scattergeo": [
           {
            "marker": {
             "colorbar": {
              "outlinewidth": 0,
              "ticks": ""
             }
            },
            "type": "scattergeo"
           }
          ],
          "scattergl": [
           {
            "marker": {
             "colorbar": {
              "outlinewidth": 0,
              "ticks": ""
             }
            },
            "type": "scattergl"
           }
          ],
          "scattermapbox": [
           {
            "marker": {
             "colorbar": {
              "outlinewidth": 0,
              "ticks": ""
             }
            },
            "type": "scattermapbox"
           }
          ],
          "scatterpolar": [
           {
            "marker": {
             "colorbar": {
              "outlinewidth": 0,
              "ticks": ""
             }
            },
            "type": "scatterpolar"
           }
          ],
          "scatterpolargl": [
           {
            "marker": {
             "colorbar": {
              "outlinewidth": 0,
              "ticks": ""
             }
            },
            "type": "scatterpolargl"
           }
          ],
          "scatterternary": [
           {
            "marker": {
             "colorbar": {
              "outlinewidth": 0,
              "ticks": ""
             }
            },
            "type": "scatterternary"
           }
          ],
          "surface": [
           {
            "colorbar": {
             "outlinewidth": 0,
             "ticks": ""
            },
            "colorscale": [
             [
              0,
              "#0d0887"
             ],
             [
              0.1111111111111111,
              "#46039f"
             ],
             [
              0.2222222222222222,
              "#7201a8"
             ],
             [
              0.3333333333333333,
              "#9c179e"
             ],
             [
              0.4444444444444444,
              "#bd3786"
             ],
             [
              0.5555555555555556,
              "#d8576b"
             ],
             [
              0.6666666666666666,
              "#ed7953"
             ],
             [
              0.7777777777777778,
              "#fb9f3a"
             ],
             [
              0.8888888888888888,
              "#fdca26"
             ],
             [
              1,
              "#f0f921"
             ]
            ],
            "type": "surface"
           }
          ],
          "table": [
           {
            "cells": {
             "fill": {
              "color": "#EBF0F8"
             },
             "line": {
              "color": "white"
             }
            },
            "header": {
             "fill": {
              "color": "#C8D4E3"
             },
             "line": {
              "color": "white"
             }
            },
            "type": "table"
           }
          ]
         },
         "layout": {
          "annotationdefaults": {
           "arrowcolor": "#2a3f5f",
           "arrowhead": 0,
           "arrowwidth": 1
          },
          "autotypenumbers": "strict",
          "coloraxis": {
           "colorbar": {
            "outlinewidth": 0,
            "ticks": ""
           }
          },
          "colorscale": {
           "diverging": [
            [
             0,
             "#8e0152"
            ],
            [
             0.1,
             "#c51b7d"
            ],
            [
             0.2,
             "#de77ae"
            ],
            [
             0.3,
             "#f1b6da"
            ],
            [
             0.4,
             "#fde0ef"
            ],
            [
             0.5,
             "#f7f7f7"
            ],
            [
             0.6,
             "#e6f5d0"
            ],
            [
             0.7,
             "#b8e186"
            ],
            [
             0.8,
             "#7fbc41"
            ],
            [
             0.9,
             "#4d9221"
            ],
            [
             1,
             "#276419"
            ]
           ],
           "sequential": [
            [
             0,
             "#0d0887"
            ],
            [
             0.1111111111111111,
             "#46039f"
            ],
            [
             0.2222222222222222,
             "#7201a8"
            ],
            [
             0.3333333333333333,
             "#9c179e"
            ],
            [
             0.4444444444444444,
             "#bd3786"
            ],
            [
             0.5555555555555556,
             "#d8576b"
            ],
            [
             0.6666666666666666,
             "#ed7953"
            ],
            [
             0.7777777777777778,
             "#fb9f3a"
            ],
            [
             0.8888888888888888,
             "#fdca26"
            ],
            [
             1,
             "#f0f921"
            ]
           ],
           "sequentialminus": [
            [
             0,
             "#0d0887"
            ],
            [
             0.1111111111111111,
             "#46039f"
            ],
            [
             0.2222222222222222,
             "#7201a8"
            ],
            [
             0.3333333333333333,
             "#9c179e"
            ],
            [
             0.4444444444444444,
             "#bd3786"
            ],
            [
             0.5555555555555556,
             "#d8576b"
            ],
            [
             0.6666666666666666,
             "#ed7953"
            ],
            [
             0.7777777777777778,
             "#fb9f3a"
            ],
            [
             0.8888888888888888,
             "#fdca26"
            ],
            [
             1,
             "#f0f921"
            ]
           ]
          },
          "colorway": [
           "#636efa",
           "#EF553B",
           "#00cc96",
           "#ab63fa",
           "#FFA15A",
           "#19d3f3",
           "#FF6692",
           "#B6E880",
           "#FF97FF",
           "#FECB52"
          ],
          "font": {
           "color": "#2a3f5f"
          },
          "geo": {
           "bgcolor": "white",
           "lakecolor": "white",
           "landcolor": "#E5ECF6",
           "showlakes": true,
           "showland": true,
           "subunitcolor": "white"
          },
          "hoverlabel": {
           "align": "left"
          },
          "hovermode": "closest",
          "mapbox": {
           "style": "light"
          },
          "paper_bgcolor": "white",
          "plot_bgcolor": "#E5ECF6",
          "polar": {
           "angularaxis": {
            "gridcolor": "white",
            "linecolor": "white",
            "ticks": ""
           },
           "bgcolor": "#E5ECF6",
           "radialaxis": {
            "gridcolor": "white",
            "linecolor": "white",
            "ticks": ""
           }
          },
          "scene": {
           "xaxis": {
            "backgroundcolor": "#E5ECF6",
            "gridcolor": "white",
            "gridwidth": 2,
            "linecolor": "white",
            "showbackground": true,
            "ticks": "",
            "zerolinecolor": "white"
           },
           "yaxis": {
            "backgroundcolor": "#E5ECF6",
            "gridcolor": "white",
            "gridwidth": 2,
            "linecolor": "white",
            "showbackground": true,
            "ticks": "",
            "zerolinecolor": "white"
           },
           "zaxis": {
            "backgroundcolor": "#E5ECF6",
            "gridcolor": "white",
            "gridwidth": 2,
            "linecolor": "white",
            "showbackground": true,
            "ticks": "",
            "zerolinecolor": "white"
           }
          },
          "shapedefaults": {
           "line": {
            "color": "#2a3f5f"
           }
          },
          "ternary": {
           "aaxis": {
            "gridcolor": "white",
            "linecolor": "white",
            "ticks": ""
           },
           "baxis": {
            "gridcolor": "white",
            "linecolor": "white",
            "ticks": ""
           },
           "bgcolor": "#E5ECF6",
           "caxis": {
            "gridcolor": "white",
            "linecolor": "white",
            "ticks": ""
           }
          },
          "title": {
           "x": 0.05
          },
          "xaxis": {
           "automargin": true,
           "gridcolor": "white",
           "linecolor": "white",
           "ticks": "",
           "title": {
            "standoff": 15
           },
           "zerolinecolor": "white",
           "zerolinewidth": 2
          },
          "yaxis": {
           "automargin": true,
           "gridcolor": "white",
           "linecolor": "white",
           "ticks": "",
           "title": {
            "standoff": 15
           },
           "zerolinecolor": "white",
           "zerolinewidth": 2
          }
         }
        },
        "title": {
         "text": "Time Series"
        },
        "xaxis": {
         "anchor": "y",
         "domain": [
          0,
          1
         ],
         "title": {
          "text": "Date"
         }
        },
        "yaxis": {
         "anchor": "x",
         "domain": [
          0,
          1
         ],
         "title": {
          "text": "GDP"
         }
        }
       }
      }
     },
     "metadata": {},
     "output_type": "display_data"
    }
   ],
   "source": [
    "# Plot the GDP Trends\n",
    "fig = px.line(x=gdp.index, y=gdp['GDPC1'], title='Time Series', labels={'x':'Date', 'y':'GDP'})\n",
    "\n",
    "# Display the Chart\n",
    "fig.show()"
   ]
  },
  {
   "cell_type": "code",
   "execution_count": 9,
   "metadata": {},
   "outputs": [],
   "source": [
    "# Tuple Unpacking\n",
    "# Lambda set to 1600 (Default) because data is quarterly\n",
    "gdp_cycle, gdp_trend = hpfilter(gdp['GDPC1'], lamb=1600)"
   ]
  },
  {
   "cell_type": "code",
   "execution_count": 10,
   "metadata": {},
   "outputs": [
    {
     "data": {
      "application/vnd.plotly.v1+json": {
       "config": {
        "plotlyServerURL": "https://plot.ly"
       },
       "data": [
        {
         "hovertemplate": "Date=%{x}<br>GDP=%{y}<extra></extra>",
         "legendgroup": "",
         "line": {
          "color": "#636efa",
          "dash": "solid"
         },
         "marker": {
          "symbol": "circle"
         },
         "mode": "lines",
         "name": "",
         "orientation": "v",
         "showlegend": false,
         "type": "scatter",
         "x": [
          "1947-01-01T00:00:00",
          "1947-04-01T00:00:00",
          "1947-07-01T00:00:00",
          "1947-10-01T00:00:00",
          "1948-01-01T00:00:00",
          "1948-04-01T00:00:00",
          "1948-07-01T00:00:00",
          "1948-10-01T00:00:00",
          "1949-01-01T00:00:00",
          "1949-04-01T00:00:00",
          "1949-07-01T00:00:00",
          "1949-10-01T00:00:00",
          "1950-01-01T00:00:00",
          "1950-04-01T00:00:00",
          "1950-07-01T00:00:00",
          "1950-10-01T00:00:00",
          "1951-01-01T00:00:00",
          "1951-04-01T00:00:00",
          "1951-07-01T00:00:00",
          "1951-10-01T00:00:00",
          "1952-01-01T00:00:00",
          "1952-04-01T00:00:00",
          "1952-07-01T00:00:00",
          "1952-10-01T00:00:00",
          "1953-01-01T00:00:00",
          "1953-04-01T00:00:00",
          "1953-07-01T00:00:00",
          "1953-10-01T00:00:00",
          "1954-01-01T00:00:00",
          "1954-04-01T00:00:00",
          "1954-07-01T00:00:00",
          "1954-10-01T00:00:00",
          "1955-01-01T00:00:00",
          "1955-04-01T00:00:00",
          "1955-07-01T00:00:00",
          "1955-10-01T00:00:00",
          "1956-01-01T00:00:00",
          "1956-04-01T00:00:00",
          "1956-07-01T00:00:00",
          "1956-10-01T00:00:00",
          "1957-01-01T00:00:00",
          "1957-04-01T00:00:00",
          "1957-07-01T00:00:00",
          "1957-10-01T00:00:00",
          "1958-01-01T00:00:00",
          "1958-04-01T00:00:00",
          "1958-07-01T00:00:00",
          "1958-10-01T00:00:00",
          "1959-01-01T00:00:00",
          "1959-04-01T00:00:00",
          "1959-07-01T00:00:00",
          "1959-10-01T00:00:00",
          "1960-01-01T00:00:00",
          "1960-04-01T00:00:00",
          "1960-07-01T00:00:00",
          "1960-10-01T00:00:00",
          "1961-01-01T00:00:00",
          "1961-04-01T00:00:00",
          "1961-07-01T00:00:00",
          "1961-10-01T00:00:00",
          "1962-01-01T00:00:00",
          "1962-04-01T00:00:00",
          "1962-07-01T00:00:00",
          "1962-10-01T00:00:00",
          "1963-01-01T00:00:00",
          "1963-04-01T00:00:00",
          "1963-07-01T00:00:00",
          "1963-10-01T00:00:00",
          "1964-01-01T00:00:00",
          "1964-04-01T00:00:00",
          "1964-07-01T00:00:00",
          "1964-10-01T00:00:00",
          "1965-01-01T00:00:00",
          "1965-04-01T00:00:00",
          "1965-07-01T00:00:00",
          "1965-10-01T00:00:00",
          "1966-01-01T00:00:00",
          "1966-04-01T00:00:00",
          "1966-07-01T00:00:00",
          "1966-10-01T00:00:00",
          "1967-01-01T00:00:00",
          "1967-04-01T00:00:00",
          "1967-07-01T00:00:00",
          "1967-10-01T00:00:00",
          "1968-01-01T00:00:00",
          "1968-04-01T00:00:00",
          "1968-07-01T00:00:00",
          "1968-10-01T00:00:00",
          "1969-01-01T00:00:00",
          "1969-04-01T00:00:00",
          "1969-07-01T00:00:00",
          "1969-10-01T00:00:00",
          "1970-01-01T00:00:00",
          "1970-04-01T00:00:00",
          "1970-07-01T00:00:00",
          "1970-10-01T00:00:00",
          "1971-01-01T00:00:00",
          "1971-04-01T00:00:00",
          "1971-07-01T00:00:00",
          "1971-10-01T00:00:00",
          "1972-01-01T00:00:00",
          "1972-04-01T00:00:00",
          "1972-07-01T00:00:00",
          "1972-10-01T00:00:00",
          "1973-01-01T00:00:00",
          "1973-04-01T00:00:00",
          "1973-07-01T00:00:00",
          "1973-10-01T00:00:00",
          "1974-01-01T00:00:00",
          "1974-04-01T00:00:00",
          "1974-07-01T00:00:00",
          "1974-10-01T00:00:00",
          "1975-01-01T00:00:00",
          "1975-04-01T00:00:00",
          "1975-07-01T00:00:00",
          "1975-10-01T00:00:00",
          "1976-01-01T00:00:00",
          "1976-04-01T00:00:00",
          "1976-07-01T00:00:00",
          "1976-10-01T00:00:00",
          "1977-01-01T00:00:00",
          "1977-04-01T00:00:00",
          "1977-07-01T00:00:00",
          "1977-10-01T00:00:00",
          "1978-01-01T00:00:00",
          "1978-04-01T00:00:00",
          "1978-07-01T00:00:00",
          "1978-10-01T00:00:00",
          "1979-01-01T00:00:00",
          "1979-04-01T00:00:00",
          "1979-07-01T00:00:00",
          "1979-10-01T00:00:00",
          "1980-01-01T00:00:00",
          "1980-04-01T00:00:00",
          "1980-07-01T00:00:00",
          "1980-10-01T00:00:00",
          "1981-01-01T00:00:00",
          "1981-04-01T00:00:00",
          "1981-07-01T00:00:00",
          "1981-10-01T00:00:00",
          "1982-01-01T00:00:00",
          "1982-04-01T00:00:00",
          "1982-07-01T00:00:00",
          "1982-10-01T00:00:00",
          "1983-01-01T00:00:00",
          "1983-04-01T00:00:00",
          "1983-07-01T00:00:00",
          "1983-10-01T00:00:00",
          "1984-01-01T00:00:00",
          "1984-04-01T00:00:00",
          "1984-07-01T00:00:00",
          "1984-10-01T00:00:00",
          "1985-01-01T00:00:00",
          "1985-04-01T00:00:00",
          "1985-07-01T00:00:00",
          "1985-10-01T00:00:00",
          "1986-01-01T00:00:00",
          "1986-04-01T00:00:00",
          "1986-07-01T00:00:00",
          "1986-10-01T00:00:00",
          "1987-01-01T00:00:00",
          "1987-04-01T00:00:00",
          "1987-07-01T00:00:00",
          "1987-10-01T00:00:00",
          "1988-01-01T00:00:00",
          "1988-04-01T00:00:00",
          "1988-07-01T00:00:00",
          "1988-10-01T00:00:00",
          "1989-01-01T00:00:00",
          "1989-04-01T00:00:00",
          "1989-07-01T00:00:00",
          "1989-10-01T00:00:00",
          "1990-01-01T00:00:00",
          "1990-04-01T00:00:00",
          "1990-07-01T00:00:00",
          "1990-10-01T00:00:00",
          "1991-01-01T00:00:00",
          "1991-04-01T00:00:00",
          "1991-07-01T00:00:00",
          "1991-10-01T00:00:00",
          "1992-01-01T00:00:00",
          "1992-04-01T00:00:00",
          "1992-07-01T00:00:00",
          "1992-10-01T00:00:00",
          "1993-01-01T00:00:00",
          "1993-04-01T00:00:00",
          "1993-07-01T00:00:00",
          "1993-10-01T00:00:00",
          "1994-01-01T00:00:00",
          "1994-04-01T00:00:00",
          "1994-07-01T00:00:00",
          "1994-10-01T00:00:00",
          "1995-01-01T00:00:00",
          "1995-04-01T00:00:00",
          "1995-07-01T00:00:00",
          "1995-10-01T00:00:00",
          "1996-01-01T00:00:00",
          "1996-04-01T00:00:00",
          "1996-07-01T00:00:00",
          "1996-10-01T00:00:00",
          "1997-01-01T00:00:00",
          "1997-04-01T00:00:00",
          "1997-07-01T00:00:00",
          "1997-10-01T00:00:00",
          "1998-01-01T00:00:00",
          "1998-04-01T00:00:00",
          "1998-07-01T00:00:00",
          "1998-10-01T00:00:00",
          "1999-01-01T00:00:00",
          "1999-04-01T00:00:00",
          "1999-07-01T00:00:00",
          "1999-10-01T00:00:00",
          "2000-01-01T00:00:00",
          "2000-04-01T00:00:00",
          "2000-07-01T00:00:00",
          "2000-10-01T00:00:00",
          "2001-01-01T00:00:00",
          "2001-04-01T00:00:00",
          "2001-07-01T00:00:00",
          "2001-10-01T00:00:00",
          "2002-01-01T00:00:00",
          "2002-04-01T00:00:00",
          "2002-07-01T00:00:00",
          "2002-10-01T00:00:00",
          "2003-01-01T00:00:00",
          "2003-04-01T00:00:00",
          "2003-07-01T00:00:00",
          "2003-10-01T00:00:00",
          "2004-01-01T00:00:00",
          "2004-04-01T00:00:00",
          "2004-07-01T00:00:00",
          "2004-10-01T00:00:00",
          "2005-01-01T00:00:00",
          "2005-04-01T00:00:00",
          "2005-07-01T00:00:00",
          "2005-10-01T00:00:00",
          "2006-01-01T00:00:00",
          "2006-04-01T00:00:00",
          "2006-07-01T00:00:00",
          "2006-10-01T00:00:00",
          "2007-01-01T00:00:00",
          "2007-04-01T00:00:00",
          "2007-07-01T00:00:00",
          "2007-10-01T00:00:00",
          "2008-01-01T00:00:00",
          "2008-04-01T00:00:00",
          "2008-07-01T00:00:00",
          "2008-10-01T00:00:00",
          "2009-01-01T00:00:00",
          "2009-04-01T00:00:00",
          "2009-07-01T00:00:00",
          "2009-10-01T00:00:00",
          "2010-01-01T00:00:00",
          "2010-04-01T00:00:00",
          "2010-07-01T00:00:00",
          "2010-10-01T00:00:00",
          "2011-01-01T00:00:00",
          "2011-04-01T00:00:00",
          "2011-07-01T00:00:00",
          "2011-10-01T00:00:00",
          "2012-01-01T00:00:00",
          "2012-04-01T00:00:00",
          "2012-07-01T00:00:00",
          "2012-10-01T00:00:00",
          "2013-01-01T00:00:00",
          "2013-04-01T00:00:00",
          "2013-07-01T00:00:00",
          "2013-10-01T00:00:00",
          "2014-01-01T00:00:00",
          "2014-04-01T00:00:00",
          "2014-07-01T00:00:00",
          "2014-10-01T00:00:00",
          "2015-01-01T00:00:00",
          "2015-04-01T00:00:00",
          "2015-07-01T00:00:00",
          "2015-10-01T00:00:00",
          "2016-01-01T00:00:00",
          "2016-04-01T00:00:00",
          "2016-07-01T00:00:00",
          "2016-10-01T00:00:00",
          "2017-01-01T00:00:00",
          "2017-04-01T00:00:00",
          "2017-07-01T00:00:00",
          "2017-10-01T00:00:00",
          "2018-01-01T00:00:00",
          "2018-04-01T00:00:00",
          "2018-07-01T00:00:00",
          "2018-10-01T00:00:00",
          "2019-01-01T00:00:00",
          "2019-04-01T00:00:00",
          "2019-07-01T00:00:00",
          "2019-10-01T00:00:00"
         ],
         "xaxis": "x",
         "y": [
          1969.5965919308046,
          1993.0938563797072,
          2016.6307860836528,
          2040.268637012447,
          2064.072928394593,
          2088.1184509354603,
          2112.4937103851717,
          2137.3074197120145,
          2162.680857065286,
          2188.733846581964,
          2215.5505131133596,
          2243.1585103566736,
          2271.5258004384077,
          2300.532278291095,
          2330.003680221991,
          2359.735101739422,
          2389.526957301577,
          2419.194383803054,
          2448.568851290138,
          2477.505781444239,
          2505.897844164711,
          2533.6603244875078,
          2560.7301650459804,
          2587.052034520675,
          2612.572895863987,
          2637.2781926317352,
          2661.2066696948236,
          2684.447966178761,
          2707.1180989154955,
          2729.3193560081163,
          2751.118173622891,
          2772.5330652035823,
          2793.5397209604394,
          2814.090429812959,
          2834.1497758550368,
          2853.710404161938,
          2872.8046149490174,
          2891.5030100540266,
          2909.8954828053757,
          2928.094527775189,
          2946.222101733836,
          2964.428339246829,
          2982.892122941095,
          3001.805607106531,
          3021.380962831198,
          3041.819062073713,
          3063.2488349409273,
          3085.7264365008905,
          3109.264158799817,
          3133.860142986103,
          3159.5204501088947,
          3186.287716127972,
          3214.2265348467968,
          3243.412419621249,
          3273.9593403479284,
          3305.9904391611735,
          3339.6289017326053,
          3374.951675334371,
          3411.982080425033,
          3450.7022545410705,
          3491.0697095436967,
          3533.034469010036,
          3576.5521716987487,
          3621.577611700363,
          3668.0646567480944,
          3715.9454554428485,
          3765.1258541000634,
          3815.4809012505284,
          3866.8744905162175,
          3919.1432430808227,
          3972.1140873214613,
          4025.597797088326,
          4079.3939005520324,
          4133.264886635017,
          4186.962567446873,
          4240.226482668048,
          4292.807499124334,
          4344.495075214854,
          4395.149847776785,
          4444.680736100291,
          4493.03668769568,
          4540.198585238195,
          4586.173907848271,
          4630.968991780568,
          4674.587132722342,
          4717.022178865984,
          4758.29010707093,
          4798.451685334828,
          4837.6098747134,
          4875.89659083404,
          4913.4956212774405,
          4950.628045755026,
          4987.549111714922,
          5024.509883451666,
          5061.729578314971,
          5099.376844977398,
          5137.574975500061,
          5176.344959540965,
          5215.665393648427,
          5255.465395646055,
          5295.626247486427,
          5335.96409337484,
          5376.264044861913,
          5416.329389064911,
          5455.98806807306,
          5495.12431560742,
          5533.739040971508,
          5571.963762021588,
          5610.017722213315,
          5648.2176626510845,
          5686.923258987908,
          5726.521682087641,
          5767.369782652273,
          5809.7556640824805,
          5853.830421164785,
          5899.6064263956505,
          5946.989560758319,
          5995.798433719533,
          6045.815723770565,
          6096.784679756611,
          6148.398206320511,
          6200.294032680262,
          6252.066822924906,
          6303.309611123061,
          6353.651335829019,
          6402.724899590119,
          6450.148292243807,
          6495.646794315286,
          6539.064654272108,
          6580.392438210375,
          6619.747455567272,
          6657.352434881099,
          6693.542262530431,
          6728.751106497046,
          6763.5031964736345,
          6798.302763336327,
          6833.607344713459,
          6869.883998381278,
          6907.670678775585,
          6947.521387208194,
          6990.034165191681,
          7035.778668996612,
          7085.202582290312,
          7138.622399571985,
          7196.176226851898,
          7257.79209176559,
          7323.208001806817,
          7392.031458161978,
          7463.786642016345,
          7537.96514801884,
          7614.0708110421265,
          7691.654155241355,
          7770.310697389768,
          7849.671889788582,
          7929.402894928142,
          8009.1960403676785,
          8088.79632310709,
          8167.988766996041,
          8246.59577505725,
          8324.450571709069,
          8401.397033385432,
          8477.268768037964,
          8551.879716722418,
          8625.033173139524,
          8696.521028042067,
          8766.169627699623,
          8833.82312148924,
          8899.37157839566,
          8962.74107482769,
          9023.92677558264,
          9083.010574786056,
          9140.166272953744,
          9195.665115867263,
          9249.851450387578,
          9303.171263303237,
          9356.159541121304,
          9409.410850184273,
          9463.492742746443,
          9518.88524365574,
          9575.992221045886,
          9635.136267898306,
          9696.543460181278,
          9760.376879945645,
          9826.762852079628,
          9895.810577796487,
          9967.63410027693,
          10042.319439215538,
          10119.915559869212,
          10200.417253470356,
          10283.801269651449,
          10370.037193511547,
          10459.121621231181,
          10551.061989494923,
          10645.895266474074,
          10743.653784096496,
          10844.325627248503,
          10947.849759701357,
          11054.098365459286,
          11162.862407426706,
          11273.89798827963,
          11386.920031689424,
          11501.604903209773,
          11617.565010249564,
          11734.39434277817,
          11851.685685133558,
          11969.019945814456,
          12085.966033516384,
          12202.075989468733,
          12316.905384879941,
          12430.06286846503,
          12541.211081198471,
          12650.055558511955,
          12756.377569536413,
          12860.100594303713,
          12961.252988739752,
          13060.051072148995,
          13156.846892592937,
          13252.117782462985,
          13346.382226092679,
          13440.188624201524,
          13534.021878617721,
          13628.26731015435,
          13723.224602200333,
          13819.099616075748,
          13915.982492724306,
          14013.80083082966,
          14112.306148142503,
          14211.086051269267,
          14309.648626098793,
          14407.461057862885,
          14503.935218277029,
          14598.434267770528,
          14690.297022261275,
          14778.869448749803,
          14863.54832984773,
          14943.76851851121,
          15019.032683740243,
          15088.92026233575,
          15153.165686921322,
          15211.637005581593,
          15264.310517846878,
          15311.315830119009,
          15352.92568472617,
          15389.582054727725,
          15421.923045880085,
          15450.819504530467,
          15477.298189497405,
          15502.57428990912,
          15527.981578525396,
          15554.744736049837,
          15583.855917199471,
          15616.04438435629,
          15651.792753704038,
          15691.421149936232,
          15735.101792900328,
          15782.923062350066,
          15834.933878793618,
          15891.162976450185,
          15951.562727114713,
          16016.04421072186,
          16084.436718001829,
          16156.562078928117,
          16232.270236775472,
          16311.437537894319,
          16393.933076612095,
          16479.58076004505,
          16568.197639636557,
          16659.553016354967,
          16753.393370768863,
          16849.467743436606,
          16947.43964155983,
          17046.96757687552,
          17147.772347594673,
          17249.63479594276,
          17352.416893928,
          17456.078134936153,
          17560.64726554427,
          17666.161047245063,
          17772.653861365274,
          17880.14337420211,
          17988.623764639437,
          18098.054266327224,
          18208.35450806255,
          18319.39598972603,
          18431.022213380726,
          18543.078598596123,
          18655.415084808337,
          18767.916021704365,
          18880.514074543196,
          18993.151678570255,
          19105.80049835937,
          19218.45014118525
         ],
         "yaxis": "y"
        }
       ],
       "layout": {
        "legend": {
         "tracegroupgap": 0
        },
        "template": {
         "data": {
          "bar": [
           {
            "error_x": {
             "color": "#2a3f5f"
            },
            "error_y": {
             "color": "#2a3f5f"
            },
            "marker": {
             "line": {
              "color": "#E5ECF6",
              "width": 0.5
             },
             "pattern": {
              "fillmode": "overlay",
              "size": 10,
              "solidity": 0.2
             }
            },
            "type": "bar"
           }
          ],
          "barpolar": [
           {
            "marker": {
             "line": {
              "color": "#E5ECF6",
              "width": 0.5
             },
             "pattern": {
              "fillmode": "overlay",
              "size": 10,
              "solidity": 0.2
             }
            },
            "type": "barpolar"
           }
          ],
          "carpet": [
           {
            "aaxis": {
             "endlinecolor": "#2a3f5f",
             "gridcolor": "white",
             "linecolor": "white",
             "minorgridcolor": "white",
             "startlinecolor": "#2a3f5f"
            },
            "baxis": {
             "endlinecolor": "#2a3f5f",
             "gridcolor": "white",
             "linecolor": "white",
             "minorgridcolor": "white",
             "startlinecolor": "#2a3f5f"
            },
            "type": "carpet"
           }
          ],
          "choropleth": [
           {
            "colorbar": {
             "outlinewidth": 0,
             "ticks": ""
            },
            "type": "choropleth"
           }
          ],
          "contour": [
           {
            "colorbar": {
             "outlinewidth": 0,
             "ticks": ""
            },
            "colorscale": [
             [
              0,
              "#0d0887"
             ],
             [
              0.1111111111111111,
              "#46039f"
             ],
             [
              0.2222222222222222,
              "#7201a8"
             ],
             [
              0.3333333333333333,
              "#9c179e"
             ],
             [
              0.4444444444444444,
              "#bd3786"
             ],
             [
              0.5555555555555556,
              "#d8576b"
             ],
             [
              0.6666666666666666,
              "#ed7953"
             ],
             [
              0.7777777777777778,
              "#fb9f3a"
             ],
             [
              0.8888888888888888,
              "#fdca26"
             ],
             [
              1,
              "#f0f921"
             ]
            ],
            "type": "contour"
           }
          ],
          "contourcarpet": [
           {
            "colorbar": {
             "outlinewidth": 0,
             "ticks": ""
            },
            "type": "contourcarpet"
           }
          ],
          "heatmap": [
           {
            "colorbar": {
             "outlinewidth": 0,
             "ticks": ""
            },
            "colorscale": [
             [
              0,
              "#0d0887"
             ],
             [
              0.1111111111111111,
              "#46039f"
             ],
             [
              0.2222222222222222,
              "#7201a8"
             ],
             [
              0.3333333333333333,
              "#9c179e"
             ],
             [
              0.4444444444444444,
              "#bd3786"
             ],
             [
              0.5555555555555556,
              "#d8576b"
             ],
             [
              0.6666666666666666,
              "#ed7953"
             ],
             [
              0.7777777777777778,
              "#fb9f3a"
             ],
             [
              0.8888888888888888,
              "#fdca26"
             ],
             [
              1,
              "#f0f921"
             ]
            ],
            "type": "heatmap"
           }
          ],
          "heatmapgl": [
           {
            "colorbar": {
             "outlinewidth": 0,
             "ticks": ""
            },
            "colorscale": [
             [
              0,
              "#0d0887"
             ],
             [
              0.1111111111111111,
              "#46039f"
             ],
             [
              0.2222222222222222,
              "#7201a8"
             ],
             [
              0.3333333333333333,
              "#9c179e"
             ],
             [
              0.4444444444444444,
              "#bd3786"
             ],
             [
              0.5555555555555556,
              "#d8576b"
             ],
             [
              0.6666666666666666,
              "#ed7953"
             ],
             [
              0.7777777777777778,
              "#fb9f3a"
             ],
             [
              0.8888888888888888,
              "#fdca26"
             ],
             [
              1,
              "#f0f921"
             ]
            ],
            "type": "heatmapgl"
           }
          ],
          "histogram": [
           {
            "marker": {
             "pattern": {
              "fillmode": "overlay",
              "size": 10,
              "solidity": 0.2
             }
            },
            "type": "histogram"
           }
          ],
          "histogram2d": [
           {
            "colorbar": {
             "outlinewidth": 0,
             "ticks": ""
            },
            "colorscale": [
             [
              0,
              "#0d0887"
             ],
             [
              0.1111111111111111,
              "#46039f"
             ],
             [
              0.2222222222222222,
              "#7201a8"
             ],
             [
              0.3333333333333333,
              "#9c179e"
             ],
             [
              0.4444444444444444,
              "#bd3786"
             ],
             [
              0.5555555555555556,
              "#d8576b"
             ],
             [
              0.6666666666666666,
              "#ed7953"
             ],
             [
              0.7777777777777778,
              "#fb9f3a"
             ],
             [
              0.8888888888888888,
              "#fdca26"
             ],
             [
              1,
              "#f0f921"
             ]
            ],
            "type": "histogram2d"
           }
          ],
          "histogram2dcontour": [
           {
            "colorbar": {
             "outlinewidth": 0,
             "ticks": ""
            },
            "colorscale": [
             [
              0,
              "#0d0887"
             ],
             [
              0.1111111111111111,
              "#46039f"
             ],
             [
              0.2222222222222222,
              "#7201a8"
             ],
             [
              0.3333333333333333,
              "#9c179e"
             ],
             [
              0.4444444444444444,
              "#bd3786"
             ],
             [
              0.5555555555555556,
              "#d8576b"
             ],
             [
              0.6666666666666666,
              "#ed7953"
             ],
             [
              0.7777777777777778,
              "#fb9f3a"
             ],
             [
              0.8888888888888888,
              "#fdca26"
             ],
             [
              1,
              "#f0f921"
             ]
            ],
            "type": "histogram2dcontour"
           }
          ],
          "mesh3d": [
           {
            "colorbar": {
             "outlinewidth": 0,
             "ticks": ""
            },
            "type": "mesh3d"
           }
          ],
          "parcoords": [
           {
            "line": {
             "colorbar": {
              "outlinewidth": 0,
              "ticks": ""
             }
            },
            "type": "parcoords"
           }
          ],
          "pie": [
           {
            "automargin": true,
            "type": "pie"
           }
          ],
          "scatter": [
           {
            "marker": {
             "colorbar": {
              "outlinewidth": 0,
              "ticks": ""
             }
            },
            "type": "scatter"
           }
          ],
          "scatter3d": [
           {
            "line": {
             "colorbar": {
              "outlinewidth": 0,
              "ticks": ""
             }
            },
            "marker": {
             "colorbar": {
              "outlinewidth": 0,
              "ticks": ""
             }
            },
            "type": "scatter3d"
           }
          ],
          "scattercarpet": [
           {
            "marker": {
             "colorbar": {
              "outlinewidth": 0,
              "ticks": ""
             }
            },
            "type": "scattercarpet"
           }
          ],
          "scattergeo": [
           {
            "marker": {
             "colorbar": {
              "outlinewidth": 0,
              "ticks": ""
             }
            },
            "type": "scattergeo"
           }
          ],
          "scattergl": [
           {
            "marker": {
             "colorbar": {
              "outlinewidth": 0,
              "ticks": ""
             }
            },
            "type": "scattergl"
           }
          ],
          "scattermapbox": [
           {
            "marker": {
             "colorbar": {
              "outlinewidth": 0,
              "ticks": ""
             }
            },
            "type": "scattermapbox"
           }
          ],
          "scatterpolar": [
           {
            "marker": {
             "colorbar": {
              "outlinewidth": 0,
              "ticks": ""
             }
            },
            "type": "scatterpolar"
           }
          ],
          "scatterpolargl": [
           {
            "marker": {
             "colorbar": {
              "outlinewidth": 0,
              "ticks": ""
             }
            },
            "type": "scatterpolargl"
           }
          ],
          "scatterternary": [
           {
            "marker": {
             "colorbar": {
              "outlinewidth": 0,
              "ticks": ""
             }
            },
            "type": "scatterternary"
           }
          ],
          "surface": [
           {
            "colorbar": {
             "outlinewidth": 0,
             "ticks": ""
            },
            "colorscale": [
             [
              0,
              "#0d0887"
             ],
             [
              0.1111111111111111,
              "#46039f"
             ],
             [
              0.2222222222222222,
              "#7201a8"
             ],
             [
              0.3333333333333333,
              "#9c179e"
             ],
             [
              0.4444444444444444,
              "#bd3786"
             ],
             [
              0.5555555555555556,
              "#d8576b"
             ],
             [
              0.6666666666666666,
              "#ed7953"
             ],
             [
              0.7777777777777778,
              "#fb9f3a"
             ],
             [
              0.8888888888888888,
              "#fdca26"
             ],
             [
              1,
              "#f0f921"
             ]
            ],
            "type": "surface"
           }
          ],
          "table": [
           {
            "cells": {
             "fill": {
              "color": "#EBF0F8"
             },
             "line": {
              "color": "white"
             }
            },
            "header": {
             "fill": {
              "color": "#C8D4E3"
             },
             "line": {
              "color": "white"
             }
            },
            "type": "table"
           }
          ]
         },
         "layout": {
          "annotationdefaults": {
           "arrowcolor": "#2a3f5f",
           "arrowhead": 0,
           "arrowwidth": 1
          },
          "autotypenumbers": "strict",
          "coloraxis": {
           "colorbar": {
            "outlinewidth": 0,
            "ticks": ""
           }
          },
          "colorscale": {
           "diverging": [
            [
             0,
             "#8e0152"
            ],
            [
             0.1,
             "#c51b7d"
            ],
            [
             0.2,
             "#de77ae"
            ],
            [
             0.3,
             "#f1b6da"
            ],
            [
             0.4,
             "#fde0ef"
            ],
            [
             0.5,
             "#f7f7f7"
            ],
            [
             0.6,
             "#e6f5d0"
            ],
            [
             0.7,
             "#b8e186"
            ],
            [
             0.8,
             "#7fbc41"
            ],
            [
             0.9,
             "#4d9221"
            ],
            [
             1,
             "#276419"
            ]
           ],
           "sequential": [
            [
             0,
             "#0d0887"
            ],
            [
             0.1111111111111111,
             "#46039f"
            ],
            [
             0.2222222222222222,
             "#7201a8"
            ],
            [
             0.3333333333333333,
             "#9c179e"
            ],
            [
             0.4444444444444444,
             "#bd3786"
            ],
            [
             0.5555555555555556,
             "#d8576b"
            ],
            [
             0.6666666666666666,
             "#ed7953"
            ],
            [
             0.7777777777777778,
             "#fb9f3a"
            ],
            [
             0.8888888888888888,
             "#fdca26"
            ],
            [
             1,
             "#f0f921"
            ]
           ],
           "sequentialminus": [
            [
             0,
             "#0d0887"
            ],
            [
             0.1111111111111111,
             "#46039f"
            ],
            [
             0.2222222222222222,
             "#7201a8"
            ],
            [
             0.3333333333333333,
             "#9c179e"
            ],
            [
             0.4444444444444444,
             "#bd3786"
            ],
            [
             0.5555555555555556,
             "#d8576b"
            ],
            [
             0.6666666666666666,
             "#ed7953"
            ],
            [
             0.7777777777777778,
             "#fb9f3a"
            ],
            [
             0.8888888888888888,
             "#fdca26"
            ],
            [
             1,
             "#f0f921"
            ]
           ]
          },
          "colorway": [
           "#636efa",
           "#EF553B",
           "#00cc96",
           "#ab63fa",
           "#FFA15A",
           "#19d3f3",
           "#FF6692",
           "#B6E880",
           "#FF97FF",
           "#FECB52"
          ],
          "font": {
           "color": "#2a3f5f"
          },
          "geo": {
           "bgcolor": "white",
           "lakecolor": "white",
           "landcolor": "#E5ECF6",
           "showlakes": true,
           "showland": true,
           "subunitcolor": "white"
          },
          "hoverlabel": {
           "align": "left"
          },
          "hovermode": "closest",
          "mapbox": {
           "style": "light"
          },
          "paper_bgcolor": "white",
          "plot_bgcolor": "#E5ECF6",
          "polar": {
           "angularaxis": {
            "gridcolor": "white",
            "linecolor": "white",
            "ticks": ""
           },
           "bgcolor": "#E5ECF6",
           "radialaxis": {
            "gridcolor": "white",
            "linecolor": "white",
            "ticks": ""
           }
          },
          "scene": {
           "xaxis": {
            "backgroundcolor": "#E5ECF6",
            "gridcolor": "white",
            "gridwidth": 2,
            "linecolor": "white",
            "showbackground": true,
            "ticks": "",
            "zerolinecolor": "white"
           },
           "yaxis": {
            "backgroundcolor": "#E5ECF6",
            "gridcolor": "white",
            "gridwidth": 2,
            "linecolor": "white",
            "showbackground": true,
            "ticks": "",
            "zerolinecolor": "white"
           },
           "zaxis": {
            "backgroundcolor": "#E5ECF6",
            "gridcolor": "white",
            "gridwidth": 2,
            "linecolor": "white",
            "showbackground": true,
            "ticks": "",
            "zerolinecolor": "white"
           }
          },
          "shapedefaults": {
           "line": {
            "color": "#2a3f5f"
           }
          },
          "ternary": {
           "aaxis": {
            "gridcolor": "white",
            "linecolor": "white",
            "ticks": ""
           },
           "baxis": {
            "gridcolor": "white",
            "linecolor": "white",
            "ticks": ""
           },
           "bgcolor": "#E5ECF6",
           "caxis": {
            "gridcolor": "white",
            "linecolor": "white",
            "ticks": ""
           }
          },
          "title": {
           "x": 0.05
          },
          "xaxis": {
           "automargin": true,
           "gridcolor": "white",
           "linecolor": "white",
           "ticks": "",
           "title": {
            "standoff": 15
           },
           "zerolinecolor": "white",
           "zerolinewidth": 2
          },
          "yaxis": {
           "automargin": true,
           "gridcolor": "white",
           "linecolor": "white",
           "ticks": "",
           "title": {
            "standoff": 15
           },
           "zerolinecolor": "white",
           "zerolinewidth": 2
          }
         }
        },
        "title": {
         "text": "Trend Component"
        },
        "xaxis": {
         "anchor": "y",
         "domain": [
          0,
          1
         ],
         "title": {
          "text": "Date"
         }
        },
        "yaxis": {
         "anchor": "x",
         "domain": [
          0,
          1
         ],
         "title": {
          "text": "GDP"
         }
        }
       }
      }
     },
     "metadata": {},
     "output_type": "display_data"
    }
   ],
   "source": [
    "# Plot the Trend Component\n",
    "fig = px.line(x=gdp_trend.index, y=gdp_trend, title='Trend Component', labels={'x':'Date', 'y':'GDP'})\n",
    "\n",
    "# Display the Chart\n",
    "fig.show()"
   ]
  },
  {
   "cell_type": "code",
   "execution_count": 12,
   "metadata": {},
   "outputs": [
    {
     "data": {
      "application/vnd.plotly.v1+json": {
       "config": {
        "plotlyServerURL": "https://plot.ly"
       },
       "data": [
        {
         "hovertemplate": "Date=%{x}<br>Deviation=%{y}<extra></extra>",
         "legendgroup": "",
         "line": {
          "color": "#636efa",
          "dash": "solid"
         },
         "marker": {
          "symbol": "circle"
         },
         "mode": "lines",
         "name": "",
         "orientation": "v",
         "showlegend": false,
         "type": "scatter",
         "x": [
          "1947-01-01T00:00:00",
          "1947-04-01T00:00:00",
          "1947-07-01T00:00:00",
          "1947-10-01T00:00:00",
          "1948-01-01T00:00:00",
          "1948-04-01T00:00:00",
          "1948-07-01T00:00:00",
          "1948-10-01T00:00:00",
          "1949-01-01T00:00:00",
          "1949-04-01T00:00:00",
          "1949-07-01T00:00:00",
          "1949-10-01T00:00:00",
          "1950-01-01T00:00:00",
          "1950-04-01T00:00:00",
          "1950-07-01T00:00:00",
          "1950-10-01T00:00:00",
          "1951-01-01T00:00:00",
          "1951-04-01T00:00:00",
          "1951-07-01T00:00:00",
          "1951-10-01T00:00:00",
          "1952-01-01T00:00:00",
          "1952-04-01T00:00:00",
          "1952-07-01T00:00:00",
          "1952-10-01T00:00:00",
          "1953-01-01T00:00:00",
          "1953-04-01T00:00:00",
          "1953-07-01T00:00:00",
          "1953-10-01T00:00:00",
          "1954-01-01T00:00:00",
          "1954-04-01T00:00:00",
          "1954-07-01T00:00:00",
          "1954-10-01T00:00:00",
          "1955-01-01T00:00:00",
          "1955-04-01T00:00:00",
          "1955-07-01T00:00:00",
          "1955-10-01T00:00:00",
          "1956-01-01T00:00:00",
          "1956-04-01T00:00:00",
          "1956-07-01T00:00:00",
          "1956-10-01T00:00:00",
          "1957-01-01T00:00:00",
          "1957-04-01T00:00:00",
          "1957-07-01T00:00:00",
          "1957-10-01T00:00:00",
          "1958-01-01T00:00:00",
          "1958-04-01T00:00:00",
          "1958-07-01T00:00:00",
          "1958-10-01T00:00:00",
          "1959-01-01T00:00:00",
          "1959-04-01T00:00:00",
          "1959-07-01T00:00:00",
          "1959-10-01T00:00:00",
          "1960-01-01T00:00:00",
          "1960-04-01T00:00:00",
          "1960-07-01T00:00:00",
          "1960-10-01T00:00:00",
          "1961-01-01T00:00:00",
          "1961-04-01T00:00:00",
          "1961-07-01T00:00:00",
          "1961-10-01T00:00:00",
          "1962-01-01T00:00:00",
          "1962-04-01T00:00:00",
          "1962-07-01T00:00:00",
          "1962-10-01T00:00:00",
          "1963-01-01T00:00:00",
          "1963-04-01T00:00:00",
          "1963-07-01T00:00:00",
          "1963-10-01T00:00:00",
          "1964-01-01T00:00:00",
          "1964-04-01T00:00:00",
          "1964-07-01T00:00:00",
          "1964-10-01T00:00:00",
          "1965-01-01T00:00:00",
          "1965-04-01T00:00:00",
          "1965-07-01T00:00:00",
          "1965-10-01T00:00:00",
          "1966-01-01T00:00:00",
          "1966-04-01T00:00:00",
          "1966-07-01T00:00:00",
          "1966-10-01T00:00:00",
          "1967-01-01T00:00:00",
          "1967-04-01T00:00:00",
          "1967-07-01T00:00:00",
          "1967-10-01T00:00:00",
          "1968-01-01T00:00:00",
          "1968-04-01T00:00:00",
          "1968-07-01T00:00:00",
          "1968-10-01T00:00:00",
          "1969-01-01T00:00:00",
          "1969-04-01T00:00:00",
          "1969-07-01T00:00:00",
          "1969-10-01T00:00:00",
          "1970-01-01T00:00:00",
          "1970-04-01T00:00:00",
          "1970-07-01T00:00:00",
          "1970-10-01T00:00:00",
          "1971-01-01T00:00:00",
          "1971-04-01T00:00:00",
          "1971-07-01T00:00:00",
          "1971-10-01T00:00:00",
          "1972-01-01T00:00:00",
          "1972-04-01T00:00:00",
          "1972-07-01T00:00:00",
          "1972-10-01T00:00:00",
          "1973-01-01T00:00:00",
          "1973-04-01T00:00:00",
          "1973-07-01T00:00:00",
          "1973-10-01T00:00:00",
          "1974-01-01T00:00:00",
          "1974-04-01T00:00:00",
          "1974-07-01T00:00:00",
          "1974-10-01T00:00:00",
          "1975-01-01T00:00:00",
          "1975-04-01T00:00:00",
          "1975-07-01T00:00:00",
          "1975-10-01T00:00:00",
          "1976-01-01T00:00:00",
          "1976-04-01T00:00:00",
          "1976-07-01T00:00:00",
          "1976-10-01T00:00:00",
          "1977-01-01T00:00:00",
          "1977-04-01T00:00:00",
          "1977-07-01T00:00:00",
          "1977-10-01T00:00:00",
          "1978-01-01T00:00:00",
          "1978-04-01T00:00:00",
          "1978-07-01T00:00:00",
          "1978-10-01T00:00:00",
          "1979-01-01T00:00:00",
          "1979-04-01T00:00:00",
          "1979-07-01T00:00:00",
          "1979-10-01T00:00:00",
          "1980-01-01T00:00:00",
          "1980-04-01T00:00:00",
          "1980-07-01T00:00:00",
          "1980-10-01T00:00:00",
          "1981-01-01T00:00:00",
          "1981-04-01T00:00:00",
          "1981-07-01T00:00:00",
          "1981-10-01T00:00:00",
          "1982-01-01T00:00:00",
          "1982-04-01T00:00:00",
          "1982-07-01T00:00:00",
          "1982-10-01T00:00:00",
          "1983-01-01T00:00:00",
          "1983-04-01T00:00:00",
          "1983-07-01T00:00:00",
          "1983-10-01T00:00:00",
          "1984-01-01T00:00:00",
          "1984-04-01T00:00:00",
          "1984-07-01T00:00:00",
          "1984-10-01T00:00:00",
          "1985-01-01T00:00:00",
          "1985-04-01T00:00:00",
          "1985-07-01T00:00:00",
          "1985-10-01T00:00:00",
          "1986-01-01T00:00:00",
          "1986-04-01T00:00:00",
          "1986-07-01T00:00:00",
          "1986-10-01T00:00:00",
          "1987-01-01T00:00:00",
          "1987-04-01T00:00:00",
          "1987-07-01T00:00:00",
          "1987-10-01T00:00:00",
          "1988-01-01T00:00:00",
          "1988-04-01T00:00:00",
          "1988-07-01T00:00:00",
          "1988-10-01T00:00:00",
          "1989-01-01T00:00:00",
          "1989-04-01T00:00:00",
          "1989-07-01T00:00:00",
          "1989-10-01T00:00:00",
          "1990-01-01T00:00:00",
          "1990-04-01T00:00:00",
          "1990-07-01T00:00:00",
          "1990-10-01T00:00:00",
          "1991-01-01T00:00:00",
          "1991-04-01T00:00:00",
          "1991-07-01T00:00:00",
          "1991-10-01T00:00:00",
          "1992-01-01T00:00:00",
          "1992-04-01T00:00:00",
          "1992-07-01T00:00:00",
          "1992-10-01T00:00:00",
          "1993-01-01T00:00:00",
          "1993-04-01T00:00:00",
          "1993-07-01T00:00:00",
          "1993-10-01T00:00:00",
          "1994-01-01T00:00:00",
          "1994-04-01T00:00:00",
          "1994-07-01T00:00:00",
          "1994-10-01T00:00:00",
          "1995-01-01T00:00:00",
          "1995-04-01T00:00:00",
          "1995-07-01T00:00:00",
          "1995-10-01T00:00:00",
          "1996-01-01T00:00:00",
          "1996-04-01T00:00:00",
          "1996-07-01T00:00:00",
          "1996-10-01T00:00:00",
          "1997-01-01T00:00:00",
          "1997-04-01T00:00:00",
          "1997-07-01T00:00:00",
          "1997-10-01T00:00:00",
          "1998-01-01T00:00:00",
          "1998-04-01T00:00:00",
          "1998-07-01T00:00:00",
          "1998-10-01T00:00:00",
          "1999-01-01T00:00:00",
          "1999-04-01T00:00:00",
          "1999-07-01T00:00:00",
          "1999-10-01T00:00:00",
          "2000-01-01T00:00:00",
          "2000-04-01T00:00:00",
          "2000-07-01T00:00:00",
          "2000-10-01T00:00:00",
          "2001-01-01T00:00:00",
          "2001-04-01T00:00:00",
          "2001-07-01T00:00:00",
          "2001-10-01T00:00:00",
          "2002-01-01T00:00:00",
          "2002-04-01T00:00:00",
          "2002-07-01T00:00:00",
          "2002-10-01T00:00:00",
          "2003-01-01T00:00:00",
          "2003-04-01T00:00:00",
          "2003-07-01T00:00:00",
          "2003-10-01T00:00:00",
          "2004-01-01T00:00:00",
          "2004-04-01T00:00:00",
          "2004-07-01T00:00:00",
          "2004-10-01T00:00:00",
          "2005-01-01T00:00:00",
          "2005-04-01T00:00:00",
          "2005-07-01T00:00:00",
          "2005-10-01T00:00:00",
          "2006-01-01T00:00:00",
          "2006-04-01T00:00:00",
          "2006-07-01T00:00:00",
          "2006-10-01T00:00:00",
          "2007-01-01T00:00:00",
          "2007-04-01T00:00:00",
          "2007-07-01T00:00:00",
          "2007-10-01T00:00:00",
          "2008-01-01T00:00:00",
          "2008-04-01T00:00:00",
          "2008-07-01T00:00:00",
          "2008-10-01T00:00:00",
          "2009-01-01T00:00:00",
          "2009-04-01T00:00:00",
          "2009-07-01T00:00:00",
          "2009-10-01T00:00:00",
          "2010-01-01T00:00:00",
          "2010-04-01T00:00:00",
          "2010-07-01T00:00:00",
          "2010-10-01T00:00:00",
          "2011-01-01T00:00:00",
          "2011-04-01T00:00:00",
          "2011-07-01T00:00:00",
          "2011-10-01T00:00:00",
          "2012-01-01T00:00:00",
          "2012-04-01T00:00:00",
          "2012-07-01T00:00:00",
          "2012-10-01T00:00:00",
          "2013-01-01T00:00:00",
          "2013-04-01T00:00:00",
          "2013-07-01T00:00:00",
          "2013-10-01T00:00:00",
          "2014-01-01T00:00:00",
          "2014-04-01T00:00:00",
          "2014-07-01T00:00:00",
          "2014-10-01T00:00:00",
          "2015-01-01T00:00:00",
          "2015-04-01T00:00:00",
          "2015-07-01T00:00:00",
          "2015-10-01T00:00:00",
          "2016-01-01T00:00:00",
          "2016-04-01T00:00:00",
          "2016-07-01T00:00:00",
          "2016-10-01T00:00:00",
          "2017-01-01T00:00:00",
          "2017-04-01T00:00:00",
          "2017-07-01T00:00:00",
          "2017-10-01T00:00:00",
          "2018-01-01T00:00:00",
          "2018-04-01T00:00:00",
          "2018-07-01T00:00:00",
          "2018-10-01T00:00:00",
          "2019-01-01T00:00:00",
          "2019-04-01T00:00:00",
          "2019-07-01T00:00:00",
          "2019-10-01T00:00:00"
         ],
         "xaxis": "x",
         "y": [
          63.464408069195315,
          34.54514362029272,
          6.821213916347233,
          14.83436298755305,
          21.94407160540686,
          32.33154906453956,
          20.104289614828303,
          -2.3264197120142853,
          -57.11885706528619,
          -90.35384658196381,
          -95.50651311335969,
          -140.90751035667336,
          -86.65380043840787,
          -49.025278291094764,
          8.510319778009034,
          23.555898260578033,
          26.13304269842274,
          38.322616196946,
          59.59714870986227,
          36.18421855576116,
          34.65215583528925,
          12.361675512492184,
          3.670834954019483,
          61.568965479325016,
          85.282104136013,
          81.4308073682646,
          42.20433030517643,
          -21.965966178760937,
          -57.36309891549536,
          -76.67635600811627,
          -68.51717362289082,
          -37.44206520358239,
          19.672279039560635,
          44.897570187040856,
          63.448224144963206,
          61.28259583806175,
          30.866385050982444,
          36.161989945973346,
          15.139517194624204,
          45.08447222481118,
          45.99689826616395,
          21.23466075317083,
          32.02687705890503,
          -18.078607106531308,
          -115.10696283119796,
          -116.4400620737133,
          -70.18083494092707,
          -22.64143650089045,
          12.67184120018328,
          58.51985701389731,
          35.1325498911051,
          17.471283872027925,
          61.530465153203295,
          14.67558037875142,
          0.06965965207155023,
          -73.98143916117351,
          -85.80290173260528,
          -65.89267533437078,
          -39.40108042503289,
          -11.981254541070484,
          8.98429045630337,
          -1.3514690100359985,
          -1.482171698748516,
          -34.7506117003627,
          -42.0836567480942,
          -49.2764554428486,
          -17.847854100063614,
          -43.635901250528605,
          -15.508490516217535,
          -25.847243080822864,
          -17.99308732146119,
          -59.2627970883259,
          -17.082900552032243,
          -19.635886635017414,
          18.123432553126804,
          61.74651733195151,
          113.88550087566637,
          77.251924785146,
          64.04515222321515,
          51.0962638997089,
          42.554312304320774,
          -1.8285852381950463,
          -4.864907848270377,
          -15.115991780568038,
          35.40586727765822,
          71.66582113401637,
          67.50889292906959,
          46.32731466517271,
          82.99512528659943,
          59.667409165960635,
          54.66837872255928,
          -6.693045755025196,
          -50.95511171492217,
          -80.90988345166534,
          -72.5705783149715,
          -163.6838449773977,
          -67.82897550006055,
          -79.16595954096465,
          -76.5373936484275,
          -104.2203956460553,
          -49.65224748642686,
          29.080906625160424,
          39.44795513808731,
          90.06661093508865,
          186.6809319269396,
          208.97368439258025,
          140.3609590284923,
          155.99623797841195,
          68.69527778668453,
          43.9923373489155,
          -48.51225898790835,
          -109.9956820876414,
          -219.21378265227304,
          -221.95566408248033,
          -170.38642116478422,
          -139.63442639565073,
          -57.489560758319385,
          -63.08743371953278,
          -80.55072377056422,
          -88.28067975661088,
          -68.90420632051155,
          -2.608032680262113,
          57.44717707509426,
          6.342388876939367,
          -23.860335829019277,
          171.66510040988123,
          190.3487077561931,
          234.10820568471445,
          202.7893457278924,
          168.67056178962503,
          179.45254443272825,
          158.8505651189016,
          144.09873746956873,
          -31.998106497046138,
          -74.70919647363462,
          15.232236663672666,
          113.43465528654178,
          25.67500161872249,
          70.46432122441547,
          -45.416387208194465,
          -195.15616519168088,
          -209.9026689966122,
          -285.4215822903125,
          -336.1253995719844,
          -304.0322268518976,
          -208.8100917655902,
          -133.31200180681753,
          -52.138458161977724,
          19.584357983655536,
          74.70285198115926,
          71.98818895787372,
          57.49684475864524,
          53.936302610231905,
          43.4641102114183,
          84.27110507185807,
          64.04295963232107,
          59.80667689291022,
          17.31423300395909,
          17.043224942748566,
          -16.429571709068114,
          -31.467033385431932,
          -17.035768037963862,
          -18.24471672241816,
          55.12882686047669,
          28.48497195793243,
          73.47137230037697,
          57.6118785107592,
          110.54142160434094,
          138.76692517230913,
          147.05022441736037,
          155.91242521394452,
          116.96172704625678,
          162.62388413273766,
          142.39954961242256,
          95.32773669676317,
          -43.22254112130395,
          -140.04385018427274,
          -121.85074274644285,
          -130.0402436557415,
          -154.42722104588574,
          -100.79026789830641,
          -58.81146018127765,
          -27.3978799456454,
          7.747147920372299,
          -44.837577796486585,
          -59.28710027692978,
          -86.67843921553867,
          -28.866559869211414,
          -11.463253470355994,
          43.21773034855141,
          17.344806488452377,
          47.25037876881834,
          -7.417989494922949,
          -70.79526647407329,
          -78.59378409649617,
          -106.84762724850407,
          -129.95375970135683,
          -55.776365459285444,
          -65.88640742670577,
          -61.6929882796303,
          -102.33303168942439,
          -29.467903209771976,
          -1.9290102495633619,
          -19.00134277817051,
          -19.199685133557068,
          -26.987945814456907,
          5.647966483615164,
          84.92401053126741,
          86.3876151200584,
          68.63113153497034,
          121.173918801529,
          227.53744148804617,
          167.80143046358717,
          300.741405696288,
          217.16601126024761,
          200.45492785100396,
          65.84310740706314,
          47.86621753701547,
          -101.5982260926794,
          -159.32962420152398,
          -137.01987861772068,
          -150.11531015434957,
          -185.1526022003327,
          -260.06761607574845,
          -281.7294927243056,
          -262.2578308296597,
          -127.23314814250261,
          -65.44105126926661,
          -88.50162609879226,
          -77.93805786288613,
          -38.9512182770286,
          11.441732229472109,
          81.30497773872594,
          60.912551250195975,
          108.50567015226989,
          122.8284814887902,
          247.9933162597572,
          213.7847376642494,
          173.20231307867834,
          245.29099441840663,
          229.01748215312182,
          270.7691698809904,
          313.8123152738299,
          372.3849452722752,
          249.45995411991498,
          301.4884954695335,
          189.73381050259377,
          -174.54728990912008,
          -372.0415785253954,
          -420.62773604983704,
          -394.6339171994714,
          -259.9863843562889,
          -236.6477537040373,
          -134.14414993623177,
          -63.13479290032774,
          -32.298062350066175,
          -122.17987879361681,
          -66.0669764501854,
          -130.86272711471247,
          -11.937210721860538,
          44.98128199817074,
          42.244921071884164,
          -11.603236775472396,
          -72.29953789431784,
          -10.969076612094796,
          -76.40076004504954,
          -36.51263963655583,
          4.095983645034721,
          -136.85337076886208,
          -7.99274343660727,
          99.65835844017056,
          96.07042312448175,
          129.80765240532855,
          156.0342040572432,
          110.80510607200267,
          12.823865063845005,
          -3.808265544270398,
          -26.744047245061665,
          -37.579861365273246,
          -55.912374202111096,
          -63.367764639435336,
          -77.0062663272256,
          -44.796508062550856,
          3.068010273971595,
          7.231786619275226,
          55.0564014038755,
          77.3049151916639,
          15.631978295634326,
          46.76692545680271,
          28.70832142974541,
          15.311501640630013,
          1.3168588147491391
         ],
         "yaxis": "y"
        }
       ],
       "layout": {
        "legend": {
         "tracegroupgap": 0
        },
        "template": {
         "data": {
          "bar": [
           {
            "error_x": {
             "color": "#2a3f5f"
            },
            "error_y": {
             "color": "#2a3f5f"
            },
            "marker": {
             "line": {
              "color": "#E5ECF6",
              "width": 0.5
             },
             "pattern": {
              "fillmode": "overlay",
              "size": 10,
              "solidity": 0.2
             }
            },
            "type": "bar"
           }
          ],
          "barpolar": [
           {
            "marker": {
             "line": {
              "color": "#E5ECF6",
              "width": 0.5
             },
             "pattern": {
              "fillmode": "overlay",
              "size": 10,
              "solidity": 0.2
             }
            },
            "type": "barpolar"
           }
          ],
          "carpet": [
           {
            "aaxis": {
             "endlinecolor": "#2a3f5f",
             "gridcolor": "white",
             "linecolor": "white",
             "minorgridcolor": "white",
             "startlinecolor": "#2a3f5f"
            },
            "baxis": {
             "endlinecolor": "#2a3f5f",
             "gridcolor": "white",
             "linecolor": "white",
             "minorgridcolor": "white",
             "startlinecolor": "#2a3f5f"
            },
            "type": "carpet"
           }
          ],
          "choropleth": [
           {
            "colorbar": {
             "outlinewidth": 0,
             "ticks": ""
            },
            "type": "choropleth"
           }
          ],
          "contour": [
           {
            "colorbar": {
             "outlinewidth": 0,
             "ticks": ""
            },
            "colorscale": [
             [
              0,
              "#0d0887"
             ],
             [
              0.1111111111111111,
              "#46039f"
             ],
             [
              0.2222222222222222,
              "#7201a8"
             ],
             [
              0.3333333333333333,
              "#9c179e"
             ],
             [
              0.4444444444444444,
              "#bd3786"
             ],
             [
              0.5555555555555556,
              "#d8576b"
             ],
             [
              0.6666666666666666,
              "#ed7953"
             ],
             [
              0.7777777777777778,
              "#fb9f3a"
             ],
             [
              0.8888888888888888,
              "#fdca26"
             ],
             [
              1,
              "#f0f921"
             ]
            ],
            "type": "contour"
           }
          ],
          "contourcarpet": [
           {
            "colorbar": {
             "outlinewidth": 0,
             "ticks": ""
            },
            "type": "contourcarpet"
           }
          ],
          "heatmap": [
           {
            "colorbar": {
             "outlinewidth": 0,
             "ticks": ""
            },
            "colorscale": [
             [
              0,
              "#0d0887"
             ],
             [
              0.1111111111111111,
              "#46039f"
             ],
             [
              0.2222222222222222,
              "#7201a8"
             ],
             [
              0.3333333333333333,
              "#9c179e"
             ],
             [
              0.4444444444444444,
              "#bd3786"
             ],
             [
              0.5555555555555556,
              "#d8576b"
             ],
             [
              0.6666666666666666,
              "#ed7953"
             ],
             [
              0.7777777777777778,
              "#fb9f3a"
             ],
             [
              0.8888888888888888,
              "#fdca26"
             ],
             [
              1,
              "#f0f921"
             ]
            ],
            "type": "heatmap"
           }
          ],
          "heatmapgl": [
           {
            "colorbar": {
             "outlinewidth": 0,
             "ticks": ""
            },
            "colorscale": [
             [
              0,
              "#0d0887"
             ],
             [
              0.1111111111111111,
              "#46039f"
             ],
             [
              0.2222222222222222,
              "#7201a8"
             ],
             [
              0.3333333333333333,
              "#9c179e"
             ],
             [
              0.4444444444444444,
              "#bd3786"
             ],
             [
              0.5555555555555556,
              "#d8576b"
             ],
             [
              0.6666666666666666,
              "#ed7953"
             ],
             [
              0.7777777777777778,
              "#fb9f3a"
             ],
             [
              0.8888888888888888,
              "#fdca26"
             ],
             [
              1,
              "#f0f921"
             ]
            ],
            "type": "heatmapgl"
           }
          ],
          "histogram": [
           {
            "marker": {
             "pattern": {
              "fillmode": "overlay",
              "size": 10,
              "solidity": 0.2
             }
            },
            "type": "histogram"
           }
          ],
          "histogram2d": [
           {
            "colorbar": {
             "outlinewidth": 0,
             "ticks": ""
            },
            "colorscale": [
             [
              0,
              "#0d0887"
             ],
             [
              0.1111111111111111,
              "#46039f"
             ],
             [
              0.2222222222222222,
              "#7201a8"
             ],
             [
              0.3333333333333333,
              "#9c179e"
             ],
             [
              0.4444444444444444,
              "#bd3786"
             ],
             [
              0.5555555555555556,
              "#d8576b"
             ],
             [
              0.6666666666666666,
              "#ed7953"
             ],
             [
              0.7777777777777778,
              "#fb9f3a"
             ],
             [
              0.8888888888888888,
              "#fdca26"
             ],
             [
              1,
              "#f0f921"
             ]
            ],
            "type": "histogram2d"
           }
          ],
          "histogram2dcontour": [
           {
            "colorbar": {
             "outlinewidth": 0,
             "ticks": ""
            },
            "colorscale": [
             [
              0,
              "#0d0887"
             ],
             [
              0.1111111111111111,
              "#46039f"
             ],
             [
              0.2222222222222222,
              "#7201a8"
             ],
             [
              0.3333333333333333,
              "#9c179e"
             ],
             [
              0.4444444444444444,
              "#bd3786"
             ],
             [
              0.5555555555555556,
              "#d8576b"
             ],
             [
              0.6666666666666666,
              "#ed7953"
             ],
             [
              0.7777777777777778,
              "#fb9f3a"
             ],
             [
              0.8888888888888888,
              "#fdca26"
             ],
             [
              1,
              "#f0f921"
             ]
            ],
            "type": "histogram2dcontour"
           }
          ],
          "mesh3d": [
           {
            "colorbar": {
             "outlinewidth": 0,
             "ticks": ""
            },
            "type": "mesh3d"
           }
          ],
          "parcoords": [
           {
            "line": {
             "colorbar": {
              "outlinewidth": 0,
              "ticks": ""
             }
            },
            "type": "parcoords"
           }
          ],
          "pie": [
           {
            "automargin": true,
            "type": "pie"
           }
          ],
          "scatter": [
           {
            "marker": {
             "colorbar": {
              "outlinewidth": 0,
              "ticks": ""
             }
            },
            "type": "scatter"
           }
          ],
          "scatter3d": [
           {
            "line": {
             "colorbar": {
              "outlinewidth": 0,
              "ticks": ""
             }
            },
            "marker": {
             "colorbar": {
              "outlinewidth": 0,
              "ticks": ""
             }
            },
            "type": "scatter3d"
           }
          ],
          "scattercarpet": [
           {
            "marker": {
             "colorbar": {
              "outlinewidth": 0,
              "ticks": ""
             }
            },
            "type": "scattercarpet"
           }
          ],
          "scattergeo": [
           {
            "marker": {
             "colorbar": {
              "outlinewidth": 0,
              "ticks": ""
             }
            },
            "type": "scattergeo"
           }
          ],
          "scattergl": [
           {
            "marker": {
             "colorbar": {
              "outlinewidth": 0,
              "ticks": ""
             }
            },
            "type": "scattergl"
           }
          ],
          "scattermapbox": [
           {
            "marker": {
             "colorbar": {
              "outlinewidth": 0,
              "ticks": ""
             }
            },
            "type": "scattermapbox"
           }
          ],
          "scatterpolar": [
           {
            "marker": {
             "colorbar": {
              "outlinewidth": 0,
              "ticks": ""
             }
            },
            "type": "scatterpolar"
           }
          ],
          "scatterpolargl": [
           {
            "marker": {
             "colorbar": {
              "outlinewidth": 0,
              "ticks": ""
             }
            },
            "type": "scatterpolargl"
           }
          ],
          "scatterternary": [
           {
            "marker": {
             "colorbar": {
              "outlinewidth": 0,
              "ticks": ""
             }
            },
            "type": "scatterternary"
           }
          ],
          "surface": [
           {
            "colorbar": {
             "outlinewidth": 0,
             "ticks": ""
            },
            "colorscale": [
             [
              0,
              "#0d0887"
             ],
             [
              0.1111111111111111,
              "#46039f"
             ],
             [
              0.2222222222222222,
              "#7201a8"
             ],
             [
              0.3333333333333333,
              "#9c179e"
             ],
             [
              0.4444444444444444,
              "#bd3786"
             ],
             [
              0.5555555555555556,
              "#d8576b"
             ],
             [
              0.6666666666666666,
              "#ed7953"
             ],
             [
              0.7777777777777778,
              "#fb9f3a"
             ],
             [
              0.8888888888888888,
              "#fdca26"
             ],
             [
              1,
              "#f0f921"
             ]
            ],
            "type": "surface"
           }
          ],
          "table": [
           {
            "cells": {
             "fill": {
              "color": "#EBF0F8"
             },
             "line": {
              "color": "white"
             }
            },
            "header": {
             "fill": {
              "color": "#C8D4E3"
             },
             "line": {
              "color": "white"
             }
            },
            "type": "table"
           }
          ]
         },
         "layout": {
          "annotationdefaults": {
           "arrowcolor": "#2a3f5f",
           "arrowhead": 0,
           "arrowwidth": 1
          },
          "autotypenumbers": "strict",
          "coloraxis": {
           "colorbar": {
            "outlinewidth": 0,
            "ticks": ""
           }
          },
          "colorscale": {
           "diverging": [
            [
             0,
             "#8e0152"
            ],
            [
             0.1,
             "#c51b7d"
            ],
            [
             0.2,
             "#de77ae"
            ],
            [
             0.3,
             "#f1b6da"
            ],
            [
             0.4,
             "#fde0ef"
            ],
            [
             0.5,
             "#f7f7f7"
            ],
            [
             0.6,
             "#e6f5d0"
            ],
            [
             0.7,
             "#b8e186"
            ],
            [
             0.8,
             "#7fbc41"
            ],
            [
             0.9,
             "#4d9221"
            ],
            [
             1,
             "#276419"
            ]
           ],
           "sequential": [
            [
             0,
             "#0d0887"
            ],
            [
             0.1111111111111111,
             "#46039f"
            ],
            [
             0.2222222222222222,
             "#7201a8"
            ],
            [
             0.3333333333333333,
             "#9c179e"
            ],
            [
             0.4444444444444444,
             "#bd3786"
            ],
            [
             0.5555555555555556,
             "#d8576b"
            ],
            [
             0.6666666666666666,
             "#ed7953"
            ],
            [
             0.7777777777777778,
             "#fb9f3a"
            ],
            [
             0.8888888888888888,
             "#fdca26"
            ],
            [
             1,
             "#f0f921"
            ]
           ],
           "sequentialminus": [
            [
             0,
             "#0d0887"
            ],
            [
             0.1111111111111111,
             "#46039f"
            ],
            [
             0.2222222222222222,
             "#7201a8"
            ],
            [
             0.3333333333333333,
             "#9c179e"
            ],
            [
             0.4444444444444444,
             "#bd3786"
            ],
            [
             0.5555555555555556,
             "#d8576b"
            ],
            [
             0.6666666666666666,
             "#ed7953"
            ],
            [
             0.7777777777777778,
             "#fb9f3a"
            ],
            [
             0.8888888888888888,
             "#fdca26"
            ],
            [
             1,
             "#f0f921"
            ]
           ]
          },
          "colorway": [
           "#636efa",
           "#EF553B",
           "#00cc96",
           "#ab63fa",
           "#FFA15A",
           "#19d3f3",
           "#FF6692",
           "#B6E880",
           "#FF97FF",
           "#FECB52"
          ],
          "font": {
           "color": "#2a3f5f"
          },
          "geo": {
           "bgcolor": "white",
           "lakecolor": "white",
           "landcolor": "#E5ECF6",
           "showlakes": true,
           "showland": true,
           "subunitcolor": "white"
          },
          "hoverlabel": {
           "align": "left"
          },
          "hovermode": "closest",
          "mapbox": {
           "style": "light"
          },
          "paper_bgcolor": "white",
          "plot_bgcolor": "#E5ECF6",
          "polar": {
           "angularaxis": {
            "gridcolor": "white",
            "linecolor": "white",
            "ticks": ""
           },
           "bgcolor": "#E5ECF6",
           "radialaxis": {
            "gridcolor": "white",
            "linecolor": "white",
            "ticks": ""
           }
          },
          "scene": {
           "xaxis": {
            "backgroundcolor": "#E5ECF6",
            "gridcolor": "white",
            "gridwidth": 2,
            "linecolor": "white",
            "showbackground": true,
            "ticks": "",
            "zerolinecolor": "white"
           },
           "yaxis": {
            "backgroundcolor": "#E5ECF6",
            "gridcolor": "white",
            "gridwidth": 2,
            "linecolor": "white",
            "showbackground": true,
            "ticks": "",
            "zerolinecolor": "white"
           },
           "zaxis": {
            "backgroundcolor": "#E5ECF6",
            "gridcolor": "white",
            "gridwidth": 2,
            "linecolor": "white",
            "showbackground": true,
            "ticks": "",
            "zerolinecolor": "white"
           }
          },
          "shapedefaults": {
           "line": {
            "color": "#2a3f5f"
           }
          },
          "ternary": {
           "aaxis": {
            "gridcolor": "white",
            "linecolor": "white",
            "ticks": ""
           },
           "baxis": {
            "gridcolor": "white",
            "linecolor": "white",
            "ticks": ""
           },
           "bgcolor": "#E5ECF6",
           "caxis": {
            "gridcolor": "white",
            "linecolor": "white",
            "ticks": ""
           }
          },
          "title": {
           "x": 0.05
          },
          "xaxis": {
           "automargin": true,
           "gridcolor": "white",
           "linecolor": "white",
           "ticks": "",
           "title": {
            "standoff": 15
           },
           "zerolinecolor": "white",
           "zerolinewidth": 2
          },
          "yaxis": {
           "automargin": true,
           "gridcolor": "white",
           "linecolor": "white",
           "ticks": "",
           "title": {
            "standoff": 15
           },
           "zerolinecolor": "white",
           "zerolinewidth": 2
          }
         }
        },
        "title": {
         "text": "Cyclical Component"
        },
        "xaxis": {
         "anchor": "y",
         "domain": [
          0,
          1
         ],
         "title": {
          "text": "Date"
         }
        },
        "yaxis": {
         "anchor": "x",
         "domain": [
          0,
          1
         ],
         "title": {
          "text": "Deviation"
         }
        }
       }
      }
     },
     "metadata": {},
     "output_type": "display_data"
    }
   ],
   "source": [
    "# Plot the Cyclical Component\n",
    "fig = px.line(x=gdp_cycle.index, y=gdp_cycle, title='Cyclical Component', labels={'x':'Date', 'y':'Deviation'})\n",
    "\n",
    "# Display the chart\n",
    "fig.show()"
   ]
  },
  {
   "cell_type": "code",
   "execution_count": 14,
   "metadata": {},
   "outputs": [
    {
     "data": {
      "application/vnd.plotly.v1+json": {
       "config": {
        "plotlyServerURL": "https://plot.ly"
       },
       "data": [
        {
         "hovertemplate": "variable=GDPC1<br>DATE=%{x}<br>value=%{y}<extra></extra>",
         "legendgroup": "GDPC1",
         "line": {
          "color": "#636efa",
          "dash": "solid"
         },
         "marker": {
          "symbol": "circle"
         },
         "mode": "lines",
         "name": "GDPC1",
         "orientation": "v",
         "showlegend": true,
         "type": "scatter",
         "x": [
          "1947-01-01T00:00:00",
          "1947-04-01T00:00:00",
          "1947-07-01T00:00:00",
          "1947-10-01T00:00:00",
          "1948-01-01T00:00:00",
          "1948-04-01T00:00:00",
          "1948-07-01T00:00:00",
          "1948-10-01T00:00:00",
          "1949-01-01T00:00:00",
          "1949-04-01T00:00:00",
          "1949-07-01T00:00:00",
          "1949-10-01T00:00:00",
          "1950-01-01T00:00:00",
          "1950-04-01T00:00:00",
          "1950-07-01T00:00:00",
          "1950-10-01T00:00:00",
          "1951-01-01T00:00:00",
          "1951-04-01T00:00:00",
          "1951-07-01T00:00:00",
          "1951-10-01T00:00:00",
          "1952-01-01T00:00:00",
          "1952-04-01T00:00:00",
          "1952-07-01T00:00:00",
          "1952-10-01T00:00:00",
          "1953-01-01T00:00:00",
          "1953-04-01T00:00:00",
          "1953-07-01T00:00:00",
          "1953-10-01T00:00:00",
          "1954-01-01T00:00:00",
          "1954-04-01T00:00:00",
          "1954-07-01T00:00:00",
          "1954-10-01T00:00:00",
          "1955-01-01T00:00:00",
          "1955-04-01T00:00:00",
          "1955-07-01T00:00:00",
          "1955-10-01T00:00:00",
          "1956-01-01T00:00:00",
          "1956-04-01T00:00:00",
          "1956-07-01T00:00:00",
          "1956-10-01T00:00:00",
          "1957-01-01T00:00:00",
          "1957-04-01T00:00:00",
          "1957-07-01T00:00:00",
          "1957-10-01T00:00:00",
          "1958-01-01T00:00:00",
          "1958-04-01T00:00:00",
          "1958-07-01T00:00:00",
          "1958-10-01T00:00:00",
          "1959-01-01T00:00:00",
          "1959-04-01T00:00:00",
          "1959-07-01T00:00:00",
          "1959-10-01T00:00:00",
          "1960-01-01T00:00:00",
          "1960-04-01T00:00:00",
          "1960-07-01T00:00:00",
          "1960-10-01T00:00:00",
          "1961-01-01T00:00:00",
          "1961-04-01T00:00:00",
          "1961-07-01T00:00:00",
          "1961-10-01T00:00:00",
          "1962-01-01T00:00:00",
          "1962-04-01T00:00:00",
          "1962-07-01T00:00:00",
          "1962-10-01T00:00:00",
          "1963-01-01T00:00:00",
          "1963-04-01T00:00:00",
          "1963-07-01T00:00:00",
          "1963-10-01T00:00:00",
          "1964-01-01T00:00:00",
          "1964-04-01T00:00:00",
          "1964-07-01T00:00:00",
          "1964-10-01T00:00:00",
          "1965-01-01T00:00:00",
          "1965-04-01T00:00:00",
          "1965-07-01T00:00:00",
          "1965-10-01T00:00:00",
          "1966-01-01T00:00:00",
          "1966-04-01T00:00:00",
          "1966-07-01T00:00:00",
          "1966-10-01T00:00:00",
          "1967-01-01T00:00:00",
          "1967-04-01T00:00:00",
          "1967-07-01T00:00:00",
          "1967-10-01T00:00:00",
          "1968-01-01T00:00:00",
          "1968-04-01T00:00:00",
          "1968-07-01T00:00:00",
          "1968-10-01T00:00:00",
          "1969-01-01T00:00:00",
          "1969-04-01T00:00:00",
          "1969-07-01T00:00:00",
          "1969-10-01T00:00:00",
          "1970-01-01T00:00:00",
          "1970-04-01T00:00:00",
          "1970-07-01T00:00:00",
          "1970-10-01T00:00:00",
          "1971-01-01T00:00:00",
          "1971-04-01T00:00:00",
          "1971-07-01T00:00:00",
          "1971-10-01T00:00:00",
          "1972-01-01T00:00:00",
          "1972-04-01T00:00:00",
          "1972-07-01T00:00:00",
          "1972-10-01T00:00:00",
          "1973-01-01T00:00:00",
          "1973-04-01T00:00:00",
          "1973-07-01T00:00:00",
          "1973-10-01T00:00:00",
          "1974-01-01T00:00:00",
          "1974-04-01T00:00:00",
          "1974-07-01T00:00:00",
          "1974-10-01T00:00:00",
          "1975-01-01T00:00:00",
          "1975-04-01T00:00:00",
          "1975-07-01T00:00:00",
          "1975-10-01T00:00:00",
          "1976-01-01T00:00:00",
          "1976-04-01T00:00:00",
          "1976-07-01T00:00:00",
          "1976-10-01T00:00:00",
          "1977-01-01T00:00:00",
          "1977-04-01T00:00:00",
          "1977-07-01T00:00:00",
          "1977-10-01T00:00:00",
          "1978-01-01T00:00:00",
          "1978-04-01T00:00:00",
          "1978-07-01T00:00:00",
          "1978-10-01T00:00:00",
          "1979-01-01T00:00:00",
          "1979-04-01T00:00:00",
          "1979-07-01T00:00:00",
          "1979-10-01T00:00:00",
          "1980-01-01T00:00:00",
          "1980-04-01T00:00:00",
          "1980-07-01T00:00:00",
          "1980-10-01T00:00:00",
          "1981-01-01T00:00:00",
          "1981-04-01T00:00:00",
          "1981-07-01T00:00:00",
          "1981-10-01T00:00:00",
          "1982-01-01T00:00:00",
          "1982-04-01T00:00:00",
          "1982-07-01T00:00:00",
          "1982-10-01T00:00:00",
          "1983-01-01T00:00:00",
          "1983-04-01T00:00:00",
          "1983-07-01T00:00:00",
          "1983-10-01T00:00:00",
          "1984-01-01T00:00:00",
          "1984-04-01T00:00:00",
          "1984-07-01T00:00:00",
          "1984-10-01T00:00:00",
          "1985-01-01T00:00:00",
          "1985-04-01T00:00:00",
          "1985-07-01T00:00:00",
          "1985-10-01T00:00:00",
          "1986-01-01T00:00:00",
          "1986-04-01T00:00:00",
          "1986-07-01T00:00:00",
          "1986-10-01T00:00:00",
          "1987-01-01T00:00:00",
          "1987-04-01T00:00:00",
          "1987-07-01T00:00:00",
          "1987-10-01T00:00:00",
          "1988-01-01T00:00:00",
          "1988-04-01T00:00:00",
          "1988-07-01T00:00:00",
          "1988-10-01T00:00:00",
          "1989-01-01T00:00:00",
          "1989-04-01T00:00:00",
          "1989-07-01T00:00:00",
          "1989-10-01T00:00:00",
          "1990-01-01T00:00:00",
          "1990-04-01T00:00:00",
          "1990-07-01T00:00:00",
          "1990-10-01T00:00:00",
          "1991-01-01T00:00:00",
          "1991-04-01T00:00:00",
          "1991-07-01T00:00:00",
          "1991-10-01T00:00:00",
          "1992-01-01T00:00:00",
          "1992-04-01T00:00:00",
          "1992-07-01T00:00:00",
          "1992-10-01T00:00:00",
          "1993-01-01T00:00:00",
          "1993-04-01T00:00:00",
          "1993-07-01T00:00:00",
          "1993-10-01T00:00:00",
          "1994-01-01T00:00:00",
          "1994-04-01T00:00:00",
          "1994-07-01T00:00:00",
          "1994-10-01T00:00:00",
          "1995-01-01T00:00:00",
          "1995-04-01T00:00:00",
          "1995-07-01T00:00:00",
          "1995-10-01T00:00:00",
          "1996-01-01T00:00:00",
          "1996-04-01T00:00:00",
          "1996-07-01T00:00:00",
          "1996-10-01T00:00:00",
          "1997-01-01T00:00:00",
          "1997-04-01T00:00:00",
          "1997-07-01T00:00:00",
          "1997-10-01T00:00:00",
          "1998-01-01T00:00:00",
          "1998-04-01T00:00:00",
          "1998-07-01T00:00:00",
          "1998-10-01T00:00:00",
          "1999-01-01T00:00:00",
          "1999-04-01T00:00:00",
          "1999-07-01T00:00:00",
          "1999-10-01T00:00:00",
          "2000-01-01T00:00:00",
          "2000-04-01T00:00:00",
          "2000-07-01T00:00:00",
          "2000-10-01T00:00:00",
          "2001-01-01T00:00:00",
          "2001-04-01T00:00:00",
          "2001-07-01T00:00:00",
          "2001-10-01T00:00:00",
          "2002-01-01T00:00:00",
          "2002-04-01T00:00:00",
          "2002-07-01T00:00:00",
          "2002-10-01T00:00:00",
          "2003-01-01T00:00:00",
          "2003-04-01T00:00:00",
          "2003-07-01T00:00:00",
          "2003-10-01T00:00:00",
          "2004-01-01T00:00:00",
          "2004-04-01T00:00:00",
          "2004-07-01T00:00:00",
          "2004-10-01T00:00:00",
          "2005-01-01T00:00:00",
          "2005-04-01T00:00:00",
          "2005-07-01T00:00:00",
          "2005-10-01T00:00:00",
          "2006-01-01T00:00:00",
          "2006-04-01T00:00:00",
          "2006-07-01T00:00:00",
          "2006-10-01T00:00:00",
          "2007-01-01T00:00:00",
          "2007-04-01T00:00:00",
          "2007-07-01T00:00:00",
          "2007-10-01T00:00:00",
          "2008-01-01T00:00:00",
          "2008-04-01T00:00:00",
          "2008-07-01T00:00:00",
          "2008-10-01T00:00:00",
          "2009-01-01T00:00:00",
          "2009-04-01T00:00:00",
          "2009-07-01T00:00:00",
          "2009-10-01T00:00:00",
          "2010-01-01T00:00:00",
          "2010-04-01T00:00:00",
          "2010-07-01T00:00:00",
          "2010-10-01T00:00:00",
          "2011-01-01T00:00:00",
          "2011-04-01T00:00:00",
          "2011-07-01T00:00:00",
          "2011-10-01T00:00:00",
          "2012-01-01T00:00:00",
          "2012-04-01T00:00:00",
          "2012-07-01T00:00:00",
          "2012-10-01T00:00:00",
          "2013-01-01T00:00:00",
          "2013-04-01T00:00:00",
          "2013-07-01T00:00:00",
          "2013-10-01T00:00:00",
          "2014-01-01T00:00:00",
          "2014-04-01T00:00:00",
          "2014-07-01T00:00:00",
          "2014-10-01T00:00:00",
          "2015-01-01T00:00:00",
          "2015-04-01T00:00:00",
          "2015-07-01T00:00:00",
          "2015-10-01T00:00:00",
          "2016-01-01T00:00:00",
          "2016-04-01T00:00:00",
          "2016-07-01T00:00:00",
          "2016-10-01T00:00:00",
          "2017-01-01T00:00:00",
          "2017-04-01T00:00:00",
          "2017-07-01T00:00:00",
          "2017-10-01T00:00:00",
          "2018-01-01T00:00:00",
          "2018-04-01T00:00:00",
          "2018-07-01T00:00:00",
          "2018-10-01T00:00:00",
          "2019-01-01T00:00:00",
          "2019-04-01T00:00:00",
          "2019-07-01T00:00:00",
          "2019-10-01T00:00:00"
         ],
         "xaxis": "x",
         "y": [
          2033.061,
          2027.639,
          2023.452,
          2055.103,
          2086.017,
          2120.45,
          2132.598,
          2134.981,
          2105.562,
          2098.38,
          2120.044,
          2102.251,
          2184.872,
          2251.507,
          2338.514,
          2383.291,
          2415.66,
          2457.517,
          2508.166,
          2513.69,
          2540.55,
          2546.022,
          2564.401,
          2648.621,
          2697.855,
          2718.709,
          2703.411,
          2662.482,
          2649.755,
          2652.643,
          2682.601,
          2735.091,
          2813.212,
          2858.988,
          2897.598,
          2914.993,
          2903.671,
          2927.665,
          2925.035,
          2973.179,
          2992.219,
          2985.663,
          3014.919,
          2983.727,
          2906.274,
          2925.379,
          2993.068,
          3063.085,
          3121.936,
          3192.38,
          3194.653,
          3203.759,
          3275.757,
          3258.088,
          3274.029,
          3232.009,
          3253.826,
          3309.059,
          3372.581,
          3438.721,
          3500.054,
          3531.683,
          3575.07,
          3586.827,
          3625.981,
          3666.669,
          3747.278,
          3771.845,
          3851.366,
          3893.296,
          3954.121,
          3966.335,
          4062.311,
          4113.629,
          4205.086,
          4301.973,
          4406.693,
          4421.747,
          4459.195,
          4495.777,
          4535.591,
          4538.37,
          4581.309,
          4615.853,
          4709.993,
          4788.688,
          4825.799,
          4844.779,
          4920.605,
          4935.564,
          4968.164,
          4943.935,
          4936.594,
          4943.6,
          4989.159,
          4935.693,
          5069.746,
          5097.179,
          5139.128,
          5151.245,
          5245.974,
          5365.045,
          5415.712,
          5506.396,
          5642.669,
          5704.098,
          5674.1,
          5727.96,
          5678.713,
          5692.21,
          5638.411,
          5616.526,
          5548.156,
          5587.8,
          5683.444,
          5759.972,
          5889.5,
          5932.711,
          5965.265,
          6008.504,
          6079.494,
          6197.686,
          6309.514,
          6309.652,
          6329.791,
          6574.39,
          6640.497,
          6729.755,
          6741.854,
          6749.063,
          6799.2,
          6816.203,
          6837.641,
          6696.753,
          6688.794,
          6813.535,
          6947.042,
          6895.559,
          6978.135,
          6902.105,
          6794.878,
          6825.876,
          6799.781,
          6802.497,
          6892.144,
          7048.982,
          7189.896,
          7339.893,
          7483.371,
          7612.668,
          7686.059,
          7749.151,
          7824.247,
          7893.136,
          8013.674,
          8073.239,
          8148.603,
          8185.303,
          8263.639,
          8308.021,
          8369.93,
          8460.233,
          8533.635,
          8680.162,
          8725.006,
          8839.641,
          8891.435,
          9009.913,
          9101.508,
          9170.977,
          9238.923,
          9257.128,
          9358.289,
          9392.251,
          9398.499,
          9312.937,
          9269.367,
          9341.642,
          9388.845,
          9421.565,
          9534.346,
          9637.732,
          9732.979,
          9834.51,
          9850.973,
          9908.347,
          9955.641,
          10091.049,
          10188.954,
          10327.019,
          10387.382,
          10506.372,
          10543.644,
          10575.1,
          10665.06,
          10737.478,
          10817.896,
          10998.322,
          11096.976,
          11212.205,
          11284.587,
          11472.137,
          11615.636,
          11715.393,
          11832.486,
          11942.032,
          12091.614,
          12287,
          12403.293,
          12498.694,
          12662.385,
          12877.593,
          12924.179,
          13160.842,
          13178.419,
          13260.506,
          13222.69,
          13299.984,
          13244.784,
          13280.859,
          13397.002,
          13478.152,
          13538.072,
          13559.032,
          13634.253,
          13751.543,
          13985.073,
          14145.645,
          14221.147,
          14329.523,
          14464.984,
          14609.876,
          14771.602,
          14839.782,
          14972.054,
          15066.597,
          15267.026,
          15302.705,
          15326.368,
          15456.928,
          15493.328,
          15582.085,
          15666.738,
          15761.967,
          15671.383,
          15752.308,
          15667.032,
          15328.027,
          15155.94,
          15134.117,
          15189.222,
          15356.058,
          15415.145,
          15557.277,
          15671.967,
          15750.625,
          15712.754,
          15825.096,
          15820.7,
          16004.107,
          16129.418,
          16198.807,
          16220.667,
          16239.138,
          16382.964,
          16403.18,
          16531.685,
          16663.649,
          16616.54,
          16841.475,
          17047.098,
          17143.038,
          17277.58,
          17405.669,
          17463.222,
          17468.902,
          17556.839,
          17639.417,
          17735.074,
          17824.231,
          17925.256,
          18021.048,
          18163.558,
          18322.464,
          18438.254,
          18598.135,
          18732.72,
          18783.548,
          18927.281,
          19021.86,
          19121.112,
          19219.767
         ],
         "yaxis": "y"
        },
        {
         "name": "GDP Trends",
         "type": "scatter",
         "x": [
          "1947-01-01T00:00:00",
          "1947-04-01T00:00:00",
          "1947-07-01T00:00:00",
          "1947-10-01T00:00:00",
          "1948-01-01T00:00:00",
          "1948-04-01T00:00:00",
          "1948-07-01T00:00:00",
          "1948-10-01T00:00:00",
          "1949-01-01T00:00:00",
          "1949-04-01T00:00:00",
          "1949-07-01T00:00:00",
          "1949-10-01T00:00:00",
          "1950-01-01T00:00:00",
          "1950-04-01T00:00:00",
          "1950-07-01T00:00:00",
          "1950-10-01T00:00:00",
          "1951-01-01T00:00:00",
          "1951-04-01T00:00:00",
          "1951-07-01T00:00:00",
          "1951-10-01T00:00:00",
          "1952-01-01T00:00:00",
          "1952-04-01T00:00:00",
          "1952-07-01T00:00:00",
          "1952-10-01T00:00:00",
          "1953-01-01T00:00:00",
          "1953-04-01T00:00:00",
          "1953-07-01T00:00:00",
          "1953-10-01T00:00:00",
          "1954-01-01T00:00:00",
          "1954-04-01T00:00:00",
          "1954-07-01T00:00:00",
          "1954-10-01T00:00:00",
          "1955-01-01T00:00:00",
          "1955-04-01T00:00:00",
          "1955-07-01T00:00:00",
          "1955-10-01T00:00:00",
          "1956-01-01T00:00:00",
          "1956-04-01T00:00:00",
          "1956-07-01T00:00:00",
          "1956-10-01T00:00:00",
          "1957-01-01T00:00:00",
          "1957-04-01T00:00:00",
          "1957-07-01T00:00:00",
          "1957-10-01T00:00:00",
          "1958-01-01T00:00:00",
          "1958-04-01T00:00:00",
          "1958-07-01T00:00:00",
          "1958-10-01T00:00:00",
          "1959-01-01T00:00:00",
          "1959-04-01T00:00:00",
          "1959-07-01T00:00:00",
          "1959-10-01T00:00:00",
          "1960-01-01T00:00:00",
          "1960-04-01T00:00:00",
          "1960-07-01T00:00:00",
          "1960-10-01T00:00:00",
          "1961-01-01T00:00:00",
          "1961-04-01T00:00:00",
          "1961-07-01T00:00:00",
          "1961-10-01T00:00:00",
          "1962-01-01T00:00:00",
          "1962-04-01T00:00:00",
          "1962-07-01T00:00:00",
          "1962-10-01T00:00:00",
          "1963-01-01T00:00:00",
          "1963-04-01T00:00:00",
          "1963-07-01T00:00:00",
          "1963-10-01T00:00:00",
          "1964-01-01T00:00:00",
          "1964-04-01T00:00:00",
          "1964-07-01T00:00:00",
          "1964-10-01T00:00:00",
          "1965-01-01T00:00:00",
          "1965-04-01T00:00:00",
          "1965-07-01T00:00:00",
          "1965-10-01T00:00:00",
          "1966-01-01T00:00:00",
          "1966-04-01T00:00:00",
          "1966-07-01T00:00:00",
          "1966-10-01T00:00:00",
          "1967-01-01T00:00:00",
          "1967-04-01T00:00:00",
          "1967-07-01T00:00:00",
          "1967-10-01T00:00:00",
          "1968-01-01T00:00:00",
          "1968-04-01T00:00:00",
          "1968-07-01T00:00:00",
          "1968-10-01T00:00:00",
          "1969-01-01T00:00:00",
          "1969-04-01T00:00:00",
          "1969-07-01T00:00:00",
          "1969-10-01T00:00:00",
          "1970-01-01T00:00:00",
          "1970-04-01T00:00:00",
          "1970-07-01T00:00:00",
          "1970-10-01T00:00:00",
          "1971-01-01T00:00:00",
          "1971-04-01T00:00:00",
          "1971-07-01T00:00:00",
          "1971-10-01T00:00:00",
          "1972-01-01T00:00:00",
          "1972-04-01T00:00:00",
          "1972-07-01T00:00:00",
          "1972-10-01T00:00:00",
          "1973-01-01T00:00:00",
          "1973-04-01T00:00:00",
          "1973-07-01T00:00:00",
          "1973-10-01T00:00:00",
          "1974-01-01T00:00:00",
          "1974-04-01T00:00:00",
          "1974-07-01T00:00:00",
          "1974-10-01T00:00:00",
          "1975-01-01T00:00:00",
          "1975-04-01T00:00:00",
          "1975-07-01T00:00:00",
          "1975-10-01T00:00:00",
          "1976-01-01T00:00:00",
          "1976-04-01T00:00:00",
          "1976-07-01T00:00:00",
          "1976-10-01T00:00:00",
          "1977-01-01T00:00:00",
          "1977-04-01T00:00:00",
          "1977-07-01T00:00:00",
          "1977-10-01T00:00:00",
          "1978-01-01T00:00:00",
          "1978-04-01T00:00:00",
          "1978-07-01T00:00:00",
          "1978-10-01T00:00:00",
          "1979-01-01T00:00:00",
          "1979-04-01T00:00:00",
          "1979-07-01T00:00:00",
          "1979-10-01T00:00:00",
          "1980-01-01T00:00:00",
          "1980-04-01T00:00:00",
          "1980-07-01T00:00:00",
          "1980-10-01T00:00:00",
          "1981-01-01T00:00:00",
          "1981-04-01T00:00:00",
          "1981-07-01T00:00:00",
          "1981-10-01T00:00:00",
          "1982-01-01T00:00:00",
          "1982-04-01T00:00:00",
          "1982-07-01T00:00:00",
          "1982-10-01T00:00:00",
          "1983-01-01T00:00:00",
          "1983-04-01T00:00:00",
          "1983-07-01T00:00:00",
          "1983-10-01T00:00:00",
          "1984-01-01T00:00:00",
          "1984-04-01T00:00:00",
          "1984-07-01T00:00:00",
          "1984-10-01T00:00:00",
          "1985-01-01T00:00:00",
          "1985-04-01T00:00:00",
          "1985-07-01T00:00:00",
          "1985-10-01T00:00:00",
          "1986-01-01T00:00:00",
          "1986-04-01T00:00:00",
          "1986-07-01T00:00:00",
          "1986-10-01T00:00:00",
          "1987-01-01T00:00:00",
          "1987-04-01T00:00:00",
          "1987-07-01T00:00:00",
          "1987-10-01T00:00:00",
          "1988-01-01T00:00:00",
          "1988-04-01T00:00:00",
          "1988-07-01T00:00:00",
          "1988-10-01T00:00:00",
          "1989-01-01T00:00:00",
          "1989-04-01T00:00:00",
          "1989-07-01T00:00:00",
          "1989-10-01T00:00:00",
          "1990-01-01T00:00:00",
          "1990-04-01T00:00:00",
          "1990-07-01T00:00:00",
          "1990-10-01T00:00:00",
          "1991-01-01T00:00:00",
          "1991-04-01T00:00:00",
          "1991-07-01T00:00:00",
          "1991-10-01T00:00:00",
          "1992-01-01T00:00:00",
          "1992-04-01T00:00:00",
          "1992-07-01T00:00:00",
          "1992-10-01T00:00:00",
          "1993-01-01T00:00:00",
          "1993-04-01T00:00:00",
          "1993-07-01T00:00:00",
          "1993-10-01T00:00:00",
          "1994-01-01T00:00:00",
          "1994-04-01T00:00:00",
          "1994-07-01T00:00:00",
          "1994-10-01T00:00:00",
          "1995-01-01T00:00:00",
          "1995-04-01T00:00:00",
          "1995-07-01T00:00:00",
          "1995-10-01T00:00:00",
          "1996-01-01T00:00:00",
          "1996-04-01T00:00:00",
          "1996-07-01T00:00:00",
          "1996-10-01T00:00:00",
          "1997-01-01T00:00:00",
          "1997-04-01T00:00:00",
          "1997-07-01T00:00:00",
          "1997-10-01T00:00:00",
          "1998-01-01T00:00:00",
          "1998-04-01T00:00:00",
          "1998-07-01T00:00:00",
          "1998-10-01T00:00:00",
          "1999-01-01T00:00:00",
          "1999-04-01T00:00:00",
          "1999-07-01T00:00:00",
          "1999-10-01T00:00:00",
          "2000-01-01T00:00:00",
          "2000-04-01T00:00:00",
          "2000-07-01T00:00:00",
          "2000-10-01T00:00:00",
          "2001-01-01T00:00:00",
          "2001-04-01T00:00:00",
          "2001-07-01T00:00:00",
          "2001-10-01T00:00:00",
          "2002-01-01T00:00:00",
          "2002-04-01T00:00:00",
          "2002-07-01T00:00:00",
          "2002-10-01T00:00:00",
          "2003-01-01T00:00:00",
          "2003-04-01T00:00:00",
          "2003-07-01T00:00:00",
          "2003-10-01T00:00:00",
          "2004-01-01T00:00:00",
          "2004-04-01T00:00:00",
          "2004-07-01T00:00:00",
          "2004-10-01T00:00:00",
          "2005-01-01T00:00:00",
          "2005-04-01T00:00:00",
          "2005-07-01T00:00:00",
          "2005-10-01T00:00:00",
          "2006-01-01T00:00:00",
          "2006-04-01T00:00:00",
          "2006-07-01T00:00:00",
          "2006-10-01T00:00:00",
          "2007-01-01T00:00:00",
          "2007-04-01T00:00:00",
          "2007-07-01T00:00:00",
          "2007-10-01T00:00:00",
          "2008-01-01T00:00:00",
          "2008-04-01T00:00:00",
          "2008-07-01T00:00:00",
          "2008-10-01T00:00:00",
          "2009-01-01T00:00:00",
          "2009-04-01T00:00:00",
          "2009-07-01T00:00:00",
          "2009-10-01T00:00:00",
          "2010-01-01T00:00:00",
          "2010-04-01T00:00:00",
          "2010-07-01T00:00:00",
          "2010-10-01T00:00:00",
          "2011-01-01T00:00:00",
          "2011-04-01T00:00:00",
          "2011-07-01T00:00:00",
          "2011-10-01T00:00:00",
          "2012-01-01T00:00:00",
          "2012-04-01T00:00:00",
          "2012-07-01T00:00:00",
          "2012-10-01T00:00:00",
          "2013-01-01T00:00:00",
          "2013-04-01T00:00:00",
          "2013-07-01T00:00:00",
          "2013-10-01T00:00:00",
          "2014-01-01T00:00:00",
          "2014-04-01T00:00:00",
          "2014-07-01T00:00:00",
          "2014-10-01T00:00:00",
          "2015-01-01T00:00:00",
          "2015-04-01T00:00:00",
          "2015-07-01T00:00:00",
          "2015-10-01T00:00:00",
          "2016-01-01T00:00:00",
          "2016-04-01T00:00:00",
          "2016-07-01T00:00:00",
          "2016-10-01T00:00:00",
          "2017-01-01T00:00:00",
          "2017-04-01T00:00:00",
          "2017-07-01T00:00:00",
          "2017-10-01T00:00:00",
          "2018-01-01T00:00:00",
          "2018-04-01T00:00:00",
          "2018-07-01T00:00:00",
          "2018-10-01T00:00:00",
          "2019-01-01T00:00:00",
          "2019-04-01T00:00:00",
          "2019-07-01T00:00:00",
          "2019-10-01T00:00:00"
         ],
         "y": [
          1969.5965919308046,
          1993.0938563797072,
          2016.6307860836528,
          2040.268637012447,
          2064.072928394593,
          2088.1184509354603,
          2112.4937103851717,
          2137.3074197120145,
          2162.680857065286,
          2188.733846581964,
          2215.5505131133596,
          2243.1585103566736,
          2271.5258004384077,
          2300.532278291095,
          2330.003680221991,
          2359.735101739422,
          2389.526957301577,
          2419.194383803054,
          2448.568851290138,
          2477.505781444239,
          2505.897844164711,
          2533.6603244875078,
          2560.7301650459804,
          2587.052034520675,
          2612.572895863987,
          2637.2781926317352,
          2661.2066696948236,
          2684.447966178761,
          2707.1180989154955,
          2729.3193560081163,
          2751.118173622891,
          2772.5330652035823,
          2793.5397209604394,
          2814.090429812959,
          2834.1497758550368,
          2853.710404161938,
          2872.8046149490174,
          2891.5030100540266,
          2909.8954828053757,
          2928.094527775189,
          2946.222101733836,
          2964.428339246829,
          2982.892122941095,
          3001.805607106531,
          3021.380962831198,
          3041.819062073713,
          3063.2488349409273,
          3085.7264365008905,
          3109.264158799817,
          3133.860142986103,
          3159.5204501088947,
          3186.287716127972,
          3214.2265348467968,
          3243.412419621249,
          3273.9593403479284,
          3305.9904391611735,
          3339.6289017326053,
          3374.951675334371,
          3411.982080425033,
          3450.7022545410705,
          3491.0697095436967,
          3533.034469010036,
          3576.5521716987487,
          3621.577611700363,
          3668.0646567480944,
          3715.9454554428485,
          3765.1258541000634,
          3815.4809012505284,
          3866.8744905162175,
          3919.1432430808227,
          3972.1140873214613,
          4025.597797088326,
          4079.3939005520324,
          4133.264886635017,
          4186.962567446873,
          4240.226482668048,
          4292.807499124334,
          4344.495075214854,
          4395.149847776785,
          4444.680736100291,
          4493.03668769568,
          4540.198585238195,
          4586.173907848271,
          4630.968991780568,
          4674.587132722342,
          4717.022178865984,
          4758.29010707093,
          4798.451685334828,
          4837.6098747134,
          4875.89659083404,
          4913.4956212774405,
          4950.628045755026,
          4987.549111714922,
          5024.509883451666,
          5061.729578314971,
          5099.376844977398,
          5137.574975500061,
          5176.344959540965,
          5215.665393648427,
          5255.465395646055,
          5295.626247486427,
          5335.96409337484,
          5376.264044861913,
          5416.329389064911,
          5455.98806807306,
          5495.12431560742,
          5533.739040971508,
          5571.963762021588,
          5610.017722213315,
          5648.2176626510845,
          5686.923258987908,
          5726.521682087641,
          5767.369782652273,
          5809.7556640824805,
          5853.830421164785,
          5899.6064263956505,
          5946.989560758319,
          5995.798433719533,
          6045.815723770565,
          6096.784679756611,
          6148.398206320511,
          6200.294032680262,
          6252.066822924906,
          6303.309611123061,
          6353.651335829019,
          6402.724899590119,
          6450.148292243807,
          6495.646794315286,
          6539.064654272108,
          6580.392438210375,
          6619.747455567272,
          6657.352434881099,
          6693.542262530431,
          6728.751106497046,
          6763.5031964736345,
          6798.302763336327,
          6833.607344713459,
          6869.883998381278,
          6907.670678775585,
          6947.521387208194,
          6990.034165191681,
          7035.778668996612,
          7085.202582290312,
          7138.622399571985,
          7196.176226851898,
          7257.79209176559,
          7323.208001806817,
          7392.031458161978,
          7463.786642016345,
          7537.96514801884,
          7614.0708110421265,
          7691.654155241355,
          7770.310697389768,
          7849.671889788582,
          7929.402894928142,
          8009.1960403676785,
          8088.79632310709,
          8167.988766996041,
          8246.59577505725,
          8324.450571709069,
          8401.397033385432,
          8477.268768037964,
          8551.879716722418,
          8625.033173139524,
          8696.521028042067,
          8766.169627699623,
          8833.82312148924,
          8899.37157839566,
          8962.74107482769,
          9023.92677558264,
          9083.010574786056,
          9140.166272953744,
          9195.665115867263,
          9249.851450387578,
          9303.171263303237,
          9356.159541121304,
          9409.410850184273,
          9463.492742746443,
          9518.88524365574,
          9575.992221045886,
          9635.136267898306,
          9696.543460181278,
          9760.376879945645,
          9826.762852079628,
          9895.810577796487,
          9967.63410027693,
          10042.319439215538,
          10119.915559869212,
          10200.417253470356,
          10283.801269651449,
          10370.037193511547,
          10459.121621231181,
          10551.061989494923,
          10645.895266474074,
          10743.653784096496,
          10844.325627248503,
          10947.849759701357,
          11054.098365459286,
          11162.862407426706,
          11273.89798827963,
          11386.920031689424,
          11501.604903209773,
          11617.565010249564,
          11734.39434277817,
          11851.685685133558,
          11969.019945814456,
          12085.966033516384,
          12202.075989468733,
          12316.905384879941,
          12430.06286846503,
          12541.211081198471,
          12650.055558511955,
          12756.377569536413,
          12860.100594303713,
          12961.252988739752,
          13060.051072148995,
          13156.846892592937,
          13252.117782462985,
          13346.382226092679,
          13440.188624201524,
          13534.021878617721,
          13628.26731015435,
          13723.224602200333,
          13819.099616075748,
          13915.982492724306,
          14013.80083082966,
          14112.306148142503,
          14211.086051269267,
          14309.648626098793,
          14407.461057862885,
          14503.935218277029,
          14598.434267770528,
          14690.297022261275,
          14778.869448749803,
          14863.54832984773,
          14943.76851851121,
          15019.032683740243,
          15088.92026233575,
          15153.165686921322,
          15211.637005581593,
          15264.310517846878,
          15311.315830119009,
          15352.92568472617,
          15389.582054727725,
          15421.923045880085,
          15450.819504530467,
          15477.298189497405,
          15502.57428990912,
          15527.981578525396,
          15554.744736049837,
          15583.855917199471,
          15616.04438435629,
          15651.792753704038,
          15691.421149936232,
          15735.101792900328,
          15782.923062350066,
          15834.933878793618,
          15891.162976450185,
          15951.562727114713,
          16016.04421072186,
          16084.436718001829,
          16156.562078928117,
          16232.270236775472,
          16311.437537894319,
          16393.933076612095,
          16479.58076004505,
          16568.197639636557,
          16659.553016354967,
          16753.393370768863,
          16849.467743436606,
          16947.43964155983,
          17046.96757687552,
          17147.772347594673,
          17249.63479594276,
          17352.416893928,
          17456.078134936153,
          17560.64726554427,
          17666.161047245063,
          17772.653861365274,
          17880.14337420211,
          17988.623764639437,
          18098.054266327224,
          18208.35450806255,
          18319.39598972603,
          18431.022213380726,
          18543.078598596123,
          18655.415084808337,
          18767.916021704365,
          18880.514074543196,
          18993.151678570255,
          19105.80049835937,
          19218.45014118525
         ]
        }
       ],
       "layout": {
        "legend": {
         "title": {
          "text": "variable"
         },
         "tracegroupgap": 0
        },
        "template": {
         "data": {
          "bar": [
           {
            "error_x": {
             "color": "#2a3f5f"
            },
            "error_y": {
             "color": "#2a3f5f"
            },
            "marker": {
             "line": {
              "color": "#E5ECF6",
              "width": 0.5
             },
             "pattern": {
              "fillmode": "overlay",
              "size": 10,
              "solidity": 0.2
             }
            },
            "type": "bar"
           }
          ],
          "barpolar": [
           {
            "marker": {
             "line": {
              "color": "#E5ECF6",
              "width": 0.5
             },
             "pattern": {
              "fillmode": "overlay",
              "size": 10,
              "solidity": 0.2
             }
            },
            "type": "barpolar"
           }
          ],
          "carpet": [
           {
            "aaxis": {
             "endlinecolor": "#2a3f5f",
             "gridcolor": "white",
             "linecolor": "white",
             "minorgridcolor": "white",
             "startlinecolor": "#2a3f5f"
            },
            "baxis": {
             "endlinecolor": "#2a3f5f",
             "gridcolor": "white",
             "linecolor": "white",
             "minorgridcolor": "white",
             "startlinecolor": "#2a3f5f"
            },
            "type": "carpet"
           }
          ],
          "choropleth": [
           {
            "colorbar": {
             "outlinewidth": 0,
             "ticks": ""
            },
            "type": "choropleth"
           }
          ],
          "contour": [
           {
            "colorbar": {
             "outlinewidth": 0,
             "ticks": ""
            },
            "colorscale": [
             [
              0,
              "#0d0887"
             ],
             [
              0.1111111111111111,
              "#46039f"
             ],
             [
              0.2222222222222222,
              "#7201a8"
             ],
             [
              0.3333333333333333,
              "#9c179e"
             ],
             [
              0.4444444444444444,
              "#bd3786"
             ],
             [
              0.5555555555555556,
              "#d8576b"
             ],
             [
              0.6666666666666666,
              "#ed7953"
             ],
             [
              0.7777777777777778,
              "#fb9f3a"
             ],
             [
              0.8888888888888888,
              "#fdca26"
             ],
             [
              1,
              "#f0f921"
             ]
            ],
            "type": "contour"
           }
          ],
          "contourcarpet": [
           {
            "colorbar": {
             "outlinewidth": 0,
             "ticks": ""
            },
            "type": "contourcarpet"
           }
          ],
          "heatmap": [
           {
            "colorbar": {
             "outlinewidth": 0,
             "ticks": ""
            },
            "colorscale": [
             [
              0,
              "#0d0887"
             ],
             [
              0.1111111111111111,
              "#46039f"
             ],
             [
              0.2222222222222222,
              "#7201a8"
             ],
             [
              0.3333333333333333,
              "#9c179e"
             ],
             [
              0.4444444444444444,
              "#bd3786"
             ],
             [
              0.5555555555555556,
              "#d8576b"
             ],
             [
              0.6666666666666666,
              "#ed7953"
             ],
             [
              0.7777777777777778,
              "#fb9f3a"
             ],
             [
              0.8888888888888888,
              "#fdca26"
             ],
             [
              1,
              "#f0f921"
             ]
            ],
            "type": "heatmap"
           }
          ],
          "heatmapgl": [
           {
            "colorbar": {
             "outlinewidth": 0,
             "ticks": ""
            },
            "colorscale": [
             [
              0,
              "#0d0887"
             ],
             [
              0.1111111111111111,
              "#46039f"
             ],
             [
              0.2222222222222222,
              "#7201a8"
             ],
             [
              0.3333333333333333,
              "#9c179e"
             ],
             [
              0.4444444444444444,
              "#bd3786"
             ],
             [
              0.5555555555555556,
              "#d8576b"
             ],
             [
              0.6666666666666666,
              "#ed7953"
             ],
             [
              0.7777777777777778,
              "#fb9f3a"
             ],
             [
              0.8888888888888888,
              "#fdca26"
             ],
             [
              1,
              "#f0f921"
             ]
            ],
            "type": "heatmapgl"
           }
          ],
          "histogram": [
           {
            "marker": {
             "pattern": {
              "fillmode": "overlay",
              "size": 10,
              "solidity": 0.2
             }
            },
            "type": "histogram"
           }
          ],
          "histogram2d": [
           {
            "colorbar": {
             "outlinewidth": 0,
             "ticks": ""
            },
            "colorscale": [
             [
              0,
              "#0d0887"
             ],
             [
              0.1111111111111111,
              "#46039f"
             ],
             [
              0.2222222222222222,
              "#7201a8"
             ],
             [
              0.3333333333333333,
              "#9c179e"
             ],
             [
              0.4444444444444444,
              "#bd3786"
             ],
             [
              0.5555555555555556,
              "#d8576b"
             ],
             [
              0.6666666666666666,
              "#ed7953"
             ],
             [
              0.7777777777777778,
              "#fb9f3a"
             ],
             [
              0.8888888888888888,
              "#fdca26"
             ],
             [
              1,
              "#f0f921"
             ]
            ],
            "type": "histogram2d"
           }
          ],
          "histogram2dcontour": [
           {
            "colorbar": {
             "outlinewidth": 0,
             "ticks": ""
            },
            "colorscale": [
             [
              0,
              "#0d0887"
             ],
             [
              0.1111111111111111,
              "#46039f"
             ],
             [
              0.2222222222222222,
              "#7201a8"
             ],
             [
              0.3333333333333333,
              "#9c179e"
             ],
             [
              0.4444444444444444,
              "#bd3786"
             ],
             [
              0.5555555555555556,
              "#d8576b"
             ],
             [
              0.6666666666666666,
              "#ed7953"
             ],
             [
              0.7777777777777778,
              "#fb9f3a"
             ],
             [
              0.8888888888888888,
              "#fdca26"
             ],
             [
              1,
              "#f0f921"
             ]
            ],
            "type": "histogram2dcontour"
           }
          ],
          "mesh3d": [
           {
            "colorbar": {
             "outlinewidth": 0,
             "ticks": ""
            },
            "type": "mesh3d"
           }
          ],
          "parcoords": [
           {
            "line": {
             "colorbar": {
              "outlinewidth": 0,
              "ticks": ""
             }
            },
            "type": "parcoords"
           }
          ],
          "pie": [
           {
            "automargin": true,
            "type": "pie"
           }
          ],
          "scatter": [
           {
            "marker": {
             "colorbar": {
              "outlinewidth": 0,
              "ticks": ""
             }
            },
            "type": "scatter"
           }
          ],
          "scatter3d": [
           {
            "line": {
             "colorbar": {
              "outlinewidth": 0,
              "ticks": ""
             }
            },
            "marker": {
             "colorbar": {
              "outlinewidth": 0,
              "ticks": ""
             }
            },
            "type": "scatter3d"
           }
          ],
          "scattercarpet": [
           {
            "marker": {
             "colorbar": {
              "outlinewidth": 0,
              "ticks": ""
             }
            },
            "type": "scattercarpet"
           }
          ],
          "scattergeo": [
           {
            "marker": {
             "colorbar": {
              "outlinewidth": 0,
              "ticks": ""
             }
            },
            "type": "scattergeo"
           }
          ],
          "scattergl": [
           {
            "marker": {
             "colorbar": {
              "outlinewidth": 0,
              "ticks": ""
             }
            },
            "type": "scattergl"
           }
          ],
          "scattermapbox": [
           {
            "marker": {
             "colorbar": {
              "outlinewidth": 0,
              "ticks": ""
             }
            },
            "type": "scattermapbox"
           }
          ],
          "scatterpolar": [
           {
            "marker": {
             "colorbar": {
              "outlinewidth": 0,
              "ticks": ""
             }
            },
            "type": "scatterpolar"
           }
          ],
          "scatterpolargl": [
           {
            "marker": {
             "colorbar": {
              "outlinewidth": 0,
              "ticks": ""
             }
            },
            "type": "scatterpolargl"
           }
          ],
          "scatterternary": [
           {
            "marker": {
             "colorbar": {
              "outlinewidth": 0,
              "ticks": ""
             }
            },
            "type": "scatterternary"
           }
          ],
          "surface": [
           {
            "colorbar": {
             "outlinewidth": 0,
             "ticks": ""
            },
            "colorscale": [
             [
              0,
              "#0d0887"
             ],
             [
              0.1111111111111111,
              "#46039f"
             ],
             [
              0.2222222222222222,
              "#7201a8"
             ],
             [
              0.3333333333333333,
              "#9c179e"
             ],
             [
              0.4444444444444444,
              "#bd3786"
             ],
             [
              0.5555555555555556,
              "#d8576b"
             ],
             [
              0.6666666666666666,
              "#ed7953"
             ],
             [
              0.7777777777777778,
              "#fb9f3a"
             ],
             [
              0.8888888888888888,
              "#fdca26"
             ],
             [
              1,
              "#f0f921"
             ]
            ],
            "type": "surface"
           }
          ],
          "table": [
           {
            "cells": {
             "fill": {
              "color": "#EBF0F8"
             },
             "line": {
              "color": "white"
             }
            },
            "header": {
             "fill": {
              "color": "#C8D4E3"
             },
             "line": {
              "color": "white"
             }
            },
            "type": "table"
           }
          ]
         },
         "layout": {
          "annotationdefaults": {
           "arrowcolor": "#2a3f5f",
           "arrowhead": 0,
           "arrowwidth": 1
          },
          "autotypenumbers": "strict",
          "coloraxis": {
           "colorbar": {
            "outlinewidth": 0,
            "ticks": ""
           }
          },
          "colorscale": {
           "diverging": [
            [
             0,
             "#8e0152"
            ],
            [
             0.1,
             "#c51b7d"
            ],
            [
             0.2,
             "#de77ae"
            ],
            [
             0.3,
             "#f1b6da"
            ],
            [
             0.4,
             "#fde0ef"
            ],
            [
             0.5,
             "#f7f7f7"
            ],
            [
             0.6,
             "#e6f5d0"
            ],
            [
             0.7,
             "#b8e186"
            ],
            [
             0.8,
             "#7fbc41"
            ],
            [
             0.9,
             "#4d9221"
            ],
            [
             1,
             "#276419"
            ]
           ],
           "sequential": [
            [
             0,
             "#0d0887"
            ],
            [
             0.1111111111111111,
             "#46039f"
            ],
            [
             0.2222222222222222,
             "#7201a8"
            ],
            [
             0.3333333333333333,
             "#9c179e"
            ],
            [
             0.4444444444444444,
             "#bd3786"
            ],
            [
             0.5555555555555556,
             "#d8576b"
            ],
            [
             0.6666666666666666,
             "#ed7953"
            ],
            [
             0.7777777777777778,
             "#fb9f3a"
            ],
            [
             0.8888888888888888,
             "#fdca26"
            ],
            [
             1,
             "#f0f921"
            ]
           ],
           "sequentialminus": [
            [
             0,
             "#0d0887"
            ],
            [
             0.1111111111111111,
             "#46039f"
            ],
            [
             0.2222222222222222,
             "#7201a8"
            ],
            [
             0.3333333333333333,
             "#9c179e"
            ],
            [
             0.4444444444444444,
             "#bd3786"
            ],
            [
             0.5555555555555556,
             "#d8576b"
            ],
            [
             0.6666666666666666,
             "#ed7953"
            ],
            [
             0.7777777777777778,
             "#fb9f3a"
            ],
            [
             0.8888888888888888,
             "#fdca26"
            ],
            [
             1,
             "#f0f921"
            ]
           ]
          },
          "colorway": [
           "#636efa",
           "#EF553B",
           "#00cc96",
           "#ab63fa",
           "#FFA15A",
           "#19d3f3",
           "#FF6692",
           "#B6E880",
           "#FF97FF",
           "#FECB52"
          ],
          "font": {
           "color": "#2a3f5f"
          },
          "geo": {
           "bgcolor": "white",
           "lakecolor": "white",
           "landcolor": "#E5ECF6",
           "showlakes": true,
           "showland": true,
           "subunitcolor": "white"
          },
          "hoverlabel": {
           "align": "left"
          },
          "hovermode": "closest",
          "mapbox": {
           "style": "light"
          },
          "paper_bgcolor": "white",
          "plot_bgcolor": "#E5ECF6",
          "polar": {
           "angularaxis": {
            "gridcolor": "white",
            "linecolor": "white",
            "ticks": ""
           },
           "bgcolor": "#E5ECF6",
           "radialaxis": {
            "gridcolor": "white",
            "linecolor": "white",
            "ticks": ""
           }
          },
          "scene": {
           "xaxis": {
            "backgroundcolor": "#E5ECF6",
            "gridcolor": "white",
            "gridwidth": 2,
            "linecolor": "white",
            "showbackground": true,
            "ticks": "",
            "zerolinecolor": "white"
           },
           "yaxis": {
            "backgroundcolor": "#E5ECF6",
            "gridcolor": "white",
            "gridwidth": 2,
            "linecolor": "white",
            "showbackground": true,
            "ticks": "",
            "zerolinecolor": "white"
           },
           "zaxis": {
            "backgroundcolor": "#E5ECF6",
            "gridcolor": "white",
            "gridwidth": 2,
            "linecolor": "white",
            "showbackground": true,
            "ticks": "",
            "zerolinecolor": "white"
           }
          },
          "shapedefaults": {
           "line": {
            "color": "#2a3f5f"
           }
          },
          "ternary": {
           "aaxis": {
            "gridcolor": "white",
            "linecolor": "white",
            "ticks": ""
           },
           "baxis": {
            "gridcolor": "white",
            "linecolor": "white",
            "ticks": ""
           },
           "bgcolor": "#E5ECF6",
           "caxis": {
            "gridcolor": "white",
            "linecolor": "white",
            "ticks": ""
           }
          },
          "title": {
           "x": 0.05
          },
          "xaxis": {
           "automargin": true,
           "gridcolor": "white",
           "linecolor": "white",
           "ticks": "",
           "title": {
            "standoff": 15
           },
           "zerolinecolor": "white",
           "zerolinewidth": 2
          },
          "yaxis": {
           "automargin": true,
           "gridcolor": "white",
           "linecolor": "white",
           "ticks": "",
           "title": {
            "standoff": 15
           },
           "zerolinecolor": "white",
           "zerolinewidth": 2
          }
         }
        },
        "title": {
         "text": "Time Series Analysis"
        },
        "xaxis": {
         "anchor": "y",
         "domain": [
          0,
          1
         ],
         "title": {
          "text": "DATE"
         }
        },
        "yaxis": {
         "anchor": "x",
         "domain": [
          0,
          1
         ],
         "title": {
          "text": "value"
         }
        }
       }
      }
     },
     "metadata": {},
     "output_type": "display_data"
    }
   ],
   "source": [
    "# Overlapping the Trend with the Original Time Series Data\n",
    "fig = px.line(gdp, title='Time Series Analysis')\n",
    "\n",
    "# Add each column to the line chart\n",
    "fig.add_scatter(x=gdp_trend.index, y=gdp_trend, name='GDP Trends')\n",
    "\n",
    "# Display the chart\n",
    "fig.show()"
   ]
  },
  {
   "cell_type": "markdown",
   "metadata": {},
   "source": [
    "### ETS Decomposition"
   ]
  },
  {
   "attachments": {},
   "cell_type": "markdown",
   "metadata": {},
   "source": [
    "<center>\n",
    "<img src=\"./assets/ets.png\" width=\"400\">\n",
    "</center>"
   ]
  },
  {
   "attachments": {},
   "cell_type": "markdown",
   "metadata": {},
   "source": [
    "As its name suggests ETS Decomposition breaks down a Time Series into three separate components,\n",
    "- __Trend__ - General Growth Pattern\n",
    "- __Seasonality__ - Repeating Patterns\n",
    "- __Error__ (__Residual__) - Not explained by Trends or Seasonality also known as Noise\n",
    "\n",
    "The Hodrick-Prescott Filter explored above can be seen as a simplistic version of ETS Decomposition."
   ]
  },
  {
   "attachments": {},
   "cell_type": "markdown",
   "metadata": {},
   "source": [
    "Two types of main ETS Models -\n",
    "- __Additive Model__ - Use when Trend is more _Linear_, Seasonality and Trend Components seem _constant_ over time. \n",
    "- __Multiplicative Model__ - Use when Trend increases or decreases at a non-linear rate."
   ]
  },
  {
   "cell_type": "code",
   "execution_count": 15,
   "metadata": {},
   "outputs": [
    {
     "data": {
      "application/vnd.plotly.v1+json": {
       "config": {
        "plotlyServerURL": "https://plot.ly"
       },
       "data": [
        {
         "hovertemplate": "Date=%{x}<br>GDP=%{y}<extra></extra>",
         "legendgroup": "",
         "line": {
          "color": "#636efa",
          "dash": "solid"
         },
         "marker": {
          "symbol": "circle"
         },
         "mode": "lines",
         "name": "",
         "orientation": "v",
         "showlegend": false,
         "type": "scatter",
         "x": [
          "1947-01-01T00:00:00",
          "1947-04-01T00:00:00",
          "1947-07-01T00:00:00",
          "1947-10-01T00:00:00",
          "1948-01-01T00:00:00",
          "1948-04-01T00:00:00",
          "1948-07-01T00:00:00",
          "1948-10-01T00:00:00",
          "1949-01-01T00:00:00",
          "1949-04-01T00:00:00",
          "1949-07-01T00:00:00",
          "1949-10-01T00:00:00",
          "1950-01-01T00:00:00",
          "1950-04-01T00:00:00",
          "1950-07-01T00:00:00",
          "1950-10-01T00:00:00",
          "1951-01-01T00:00:00",
          "1951-04-01T00:00:00",
          "1951-07-01T00:00:00",
          "1951-10-01T00:00:00",
          "1952-01-01T00:00:00",
          "1952-04-01T00:00:00",
          "1952-07-01T00:00:00",
          "1952-10-01T00:00:00",
          "1953-01-01T00:00:00",
          "1953-04-01T00:00:00",
          "1953-07-01T00:00:00",
          "1953-10-01T00:00:00",
          "1954-01-01T00:00:00",
          "1954-04-01T00:00:00",
          "1954-07-01T00:00:00",
          "1954-10-01T00:00:00",
          "1955-01-01T00:00:00",
          "1955-04-01T00:00:00",
          "1955-07-01T00:00:00",
          "1955-10-01T00:00:00",
          "1956-01-01T00:00:00",
          "1956-04-01T00:00:00",
          "1956-07-01T00:00:00",
          "1956-10-01T00:00:00",
          "1957-01-01T00:00:00",
          "1957-04-01T00:00:00",
          "1957-07-01T00:00:00",
          "1957-10-01T00:00:00",
          "1958-01-01T00:00:00",
          "1958-04-01T00:00:00",
          "1958-07-01T00:00:00",
          "1958-10-01T00:00:00",
          "1959-01-01T00:00:00",
          "1959-04-01T00:00:00",
          "1959-07-01T00:00:00",
          "1959-10-01T00:00:00",
          "1960-01-01T00:00:00",
          "1960-04-01T00:00:00",
          "1960-07-01T00:00:00",
          "1960-10-01T00:00:00",
          "1961-01-01T00:00:00",
          "1961-04-01T00:00:00",
          "1961-07-01T00:00:00",
          "1961-10-01T00:00:00",
          "1962-01-01T00:00:00",
          "1962-04-01T00:00:00",
          "1962-07-01T00:00:00",
          "1962-10-01T00:00:00",
          "1963-01-01T00:00:00",
          "1963-04-01T00:00:00",
          "1963-07-01T00:00:00",
          "1963-10-01T00:00:00",
          "1964-01-01T00:00:00",
          "1964-04-01T00:00:00",
          "1964-07-01T00:00:00",
          "1964-10-01T00:00:00",
          "1965-01-01T00:00:00",
          "1965-04-01T00:00:00",
          "1965-07-01T00:00:00",
          "1965-10-01T00:00:00",
          "1966-01-01T00:00:00",
          "1966-04-01T00:00:00",
          "1966-07-01T00:00:00",
          "1966-10-01T00:00:00",
          "1967-01-01T00:00:00",
          "1967-04-01T00:00:00",
          "1967-07-01T00:00:00",
          "1967-10-01T00:00:00",
          "1968-01-01T00:00:00",
          "1968-04-01T00:00:00",
          "1968-07-01T00:00:00",
          "1968-10-01T00:00:00",
          "1969-01-01T00:00:00",
          "1969-04-01T00:00:00",
          "1969-07-01T00:00:00",
          "1969-10-01T00:00:00",
          "1970-01-01T00:00:00",
          "1970-04-01T00:00:00",
          "1970-07-01T00:00:00",
          "1970-10-01T00:00:00",
          "1971-01-01T00:00:00",
          "1971-04-01T00:00:00",
          "1971-07-01T00:00:00",
          "1971-10-01T00:00:00",
          "1972-01-01T00:00:00",
          "1972-04-01T00:00:00",
          "1972-07-01T00:00:00",
          "1972-10-01T00:00:00",
          "1973-01-01T00:00:00",
          "1973-04-01T00:00:00",
          "1973-07-01T00:00:00",
          "1973-10-01T00:00:00",
          "1974-01-01T00:00:00",
          "1974-04-01T00:00:00",
          "1974-07-01T00:00:00",
          "1974-10-01T00:00:00",
          "1975-01-01T00:00:00",
          "1975-04-01T00:00:00",
          "1975-07-01T00:00:00",
          "1975-10-01T00:00:00",
          "1976-01-01T00:00:00",
          "1976-04-01T00:00:00",
          "1976-07-01T00:00:00",
          "1976-10-01T00:00:00",
          "1977-01-01T00:00:00",
          "1977-04-01T00:00:00",
          "1977-07-01T00:00:00",
          "1977-10-01T00:00:00",
          "1978-01-01T00:00:00",
          "1978-04-01T00:00:00",
          "1978-07-01T00:00:00",
          "1978-10-01T00:00:00",
          "1979-01-01T00:00:00",
          "1979-04-01T00:00:00",
          "1979-07-01T00:00:00",
          "1979-10-01T00:00:00",
          "1980-01-01T00:00:00",
          "1980-04-01T00:00:00",
          "1980-07-01T00:00:00",
          "1980-10-01T00:00:00",
          "1981-01-01T00:00:00",
          "1981-04-01T00:00:00",
          "1981-07-01T00:00:00",
          "1981-10-01T00:00:00",
          "1982-01-01T00:00:00",
          "1982-04-01T00:00:00",
          "1982-07-01T00:00:00",
          "1982-10-01T00:00:00",
          "1983-01-01T00:00:00",
          "1983-04-01T00:00:00",
          "1983-07-01T00:00:00",
          "1983-10-01T00:00:00",
          "1984-01-01T00:00:00",
          "1984-04-01T00:00:00",
          "1984-07-01T00:00:00",
          "1984-10-01T00:00:00",
          "1985-01-01T00:00:00",
          "1985-04-01T00:00:00",
          "1985-07-01T00:00:00",
          "1985-10-01T00:00:00",
          "1986-01-01T00:00:00",
          "1986-04-01T00:00:00",
          "1986-07-01T00:00:00",
          "1986-10-01T00:00:00",
          "1987-01-01T00:00:00",
          "1987-04-01T00:00:00",
          "1987-07-01T00:00:00",
          "1987-10-01T00:00:00",
          "1988-01-01T00:00:00",
          "1988-04-01T00:00:00",
          "1988-07-01T00:00:00",
          "1988-10-01T00:00:00",
          "1989-01-01T00:00:00",
          "1989-04-01T00:00:00",
          "1989-07-01T00:00:00",
          "1989-10-01T00:00:00",
          "1990-01-01T00:00:00",
          "1990-04-01T00:00:00",
          "1990-07-01T00:00:00",
          "1990-10-01T00:00:00",
          "1991-01-01T00:00:00",
          "1991-04-01T00:00:00",
          "1991-07-01T00:00:00",
          "1991-10-01T00:00:00",
          "1992-01-01T00:00:00",
          "1992-04-01T00:00:00",
          "1992-07-01T00:00:00",
          "1992-10-01T00:00:00",
          "1993-01-01T00:00:00",
          "1993-04-01T00:00:00",
          "1993-07-01T00:00:00",
          "1993-10-01T00:00:00",
          "1994-01-01T00:00:00",
          "1994-04-01T00:00:00",
          "1994-07-01T00:00:00",
          "1994-10-01T00:00:00",
          "1995-01-01T00:00:00",
          "1995-04-01T00:00:00",
          "1995-07-01T00:00:00",
          "1995-10-01T00:00:00",
          "1996-01-01T00:00:00",
          "1996-04-01T00:00:00",
          "1996-07-01T00:00:00",
          "1996-10-01T00:00:00",
          "1997-01-01T00:00:00",
          "1997-04-01T00:00:00",
          "1997-07-01T00:00:00",
          "1997-10-01T00:00:00",
          "1998-01-01T00:00:00",
          "1998-04-01T00:00:00",
          "1998-07-01T00:00:00",
          "1998-10-01T00:00:00",
          "1999-01-01T00:00:00",
          "1999-04-01T00:00:00",
          "1999-07-01T00:00:00",
          "1999-10-01T00:00:00",
          "2000-01-01T00:00:00",
          "2000-04-01T00:00:00",
          "2000-07-01T00:00:00",
          "2000-10-01T00:00:00",
          "2001-01-01T00:00:00",
          "2001-04-01T00:00:00",
          "2001-07-01T00:00:00",
          "2001-10-01T00:00:00",
          "2002-01-01T00:00:00",
          "2002-04-01T00:00:00",
          "2002-07-01T00:00:00",
          "2002-10-01T00:00:00",
          "2003-01-01T00:00:00",
          "2003-04-01T00:00:00",
          "2003-07-01T00:00:00",
          "2003-10-01T00:00:00",
          "2004-01-01T00:00:00",
          "2004-04-01T00:00:00",
          "2004-07-01T00:00:00",
          "2004-10-01T00:00:00",
          "2005-01-01T00:00:00",
          "2005-04-01T00:00:00",
          "2005-07-01T00:00:00",
          "2005-10-01T00:00:00",
          "2006-01-01T00:00:00",
          "2006-04-01T00:00:00",
          "2006-07-01T00:00:00",
          "2006-10-01T00:00:00",
          "2007-01-01T00:00:00",
          "2007-04-01T00:00:00",
          "2007-07-01T00:00:00",
          "2007-10-01T00:00:00",
          "2008-01-01T00:00:00",
          "2008-04-01T00:00:00",
          "2008-07-01T00:00:00",
          "2008-10-01T00:00:00",
          "2009-01-01T00:00:00",
          "2009-04-01T00:00:00",
          "2009-07-01T00:00:00",
          "2009-10-01T00:00:00",
          "2010-01-01T00:00:00",
          "2010-04-01T00:00:00",
          "2010-07-01T00:00:00",
          "2010-10-01T00:00:00",
          "2011-01-01T00:00:00",
          "2011-04-01T00:00:00",
          "2011-07-01T00:00:00",
          "2011-10-01T00:00:00",
          "2012-01-01T00:00:00",
          "2012-04-01T00:00:00",
          "2012-07-01T00:00:00",
          "2012-10-01T00:00:00",
          "2013-01-01T00:00:00",
          "2013-04-01T00:00:00",
          "2013-07-01T00:00:00",
          "2013-10-01T00:00:00",
          "2014-01-01T00:00:00",
          "2014-04-01T00:00:00",
          "2014-07-01T00:00:00",
          "2014-10-01T00:00:00",
          "2015-01-01T00:00:00",
          "2015-04-01T00:00:00",
          "2015-07-01T00:00:00",
          "2015-10-01T00:00:00",
          "2016-01-01T00:00:00",
          "2016-04-01T00:00:00",
          "2016-07-01T00:00:00",
          "2016-10-01T00:00:00",
          "2017-01-01T00:00:00",
          "2017-04-01T00:00:00",
          "2017-07-01T00:00:00",
          "2017-10-01T00:00:00",
          "2018-01-01T00:00:00",
          "2018-04-01T00:00:00",
          "2018-07-01T00:00:00",
          "2018-10-01T00:00:00",
          "2019-01-01T00:00:00",
          "2019-04-01T00:00:00",
          "2019-07-01T00:00:00",
          "2019-10-01T00:00:00"
         ],
         "xaxis": "x",
         "y": [
          2033.061,
          2027.639,
          2023.452,
          2055.103,
          2086.017,
          2120.45,
          2132.598,
          2134.981,
          2105.562,
          2098.38,
          2120.044,
          2102.251,
          2184.872,
          2251.507,
          2338.514,
          2383.291,
          2415.66,
          2457.517,
          2508.166,
          2513.69,
          2540.55,
          2546.022,
          2564.401,
          2648.621,
          2697.855,
          2718.709,
          2703.411,
          2662.482,
          2649.755,
          2652.643,
          2682.601,
          2735.091,
          2813.212,
          2858.988,
          2897.598,
          2914.993,
          2903.671,
          2927.665,
          2925.035,
          2973.179,
          2992.219,
          2985.663,
          3014.919,
          2983.727,
          2906.274,
          2925.379,
          2993.068,
          3063.085,
          3121.936,
          3192.38,
          3194.653,
          3203.759,
          3275.757,
          3258.088,
          3274.029,
          3232.009,
          3253.826,
          3309.059,
          3372.581,
          3438.721,
          3500.054,
          3531.683,
          3575.07,
          3586.827,
          3625.981,
          3666.669,
          3747.278,
          3771.845,
          3851.366,
          3893.296,
          3954.121,
          3966.335,
          4062.311,
          4113.629,
          4205.086,
          4301.973,
          4406.693,
          4421.747,
          4459.195,
          4495.777,
          4535.591,
          4538.37,
          4581.309,
          4615.853,
          4709.993,
          4788.688,
          4825.799,
          4844.779,
          4920.605,
          4935.564,
          4968.164,
          4943.935,
          4936.594,
          4943.6,
          4989.159,
          4935.693,
          5069.746,
          5097.179,
          5139.128,
          5151.245,
          5245.974,
          5365.045,
          5415.712,
          5506.396,
          5642.669,
          5704.098,
          5674.1,
          5727.96,
          5678.713,
          5692.21,
          5638.411,
          5616.526,
          5548.156,
          5587.8,
          5683.444,
          5759.972,
          5889.5,
          5932.711,
          5965.265,
          6008.504,
          6079.494,
          6197.686,
          6309.514,
          6309.652,
          6329.791,
          6574.39,
          6640.497,
          6729.755,
          6741.854,
          6749.063,
          6799.2,
          6816.203,
          6837.641,
          6696.753,
          6688.794,
          6813.535,
          6947.042,
          6895.559,
          6978.135,
          6902.105,
          6794.878,
          6825.876,
          6799.781,
          6802.497,
          6892.144,
          7048.982,
          7189.896,
          7339.893,
          7483.371,
          7612.668,
          7686.059,
          7749.151,
          7824.247,
          7893.136,
          8013.674,
          8073.239,
          8148.603,
          8185.303,
          8263.639,
          8308.021,
          8369.93,
          8460.233,
          8533.635,
          8680.162,
          8725.006,
          8839.641,
          8891.435,
          9009.913,
          9101.508,
          9170.977,
          9238.923,
          9257.128,
          9358.289,
          9392.251,
          9398.499,
          9312.937,
          9269.367,
          9341.642,
          9388.845,
          9421.565,
          9534.346,
          9637.732,
          9732.979,
          9834.51,
          9850.973,
          9908.347,
          9955.641,
          10091.049,
          10188.954,
          10327.019,
          10387.382,
          10506.372,
          10543.644,
          10575.1,
          10665.06,
          10737.478,
          10817.896,
          10998.322,
          11096.976,
          11212.205,
          11284.587,
          11472.137,
          11615.636,
          11715.393,
          11832.486,
          11942.032,
          12091.614,
          12287,
          12403.293,
          12498.694,
          12662.385,
          12877.593,
          12924.179,
          13160.842,
          13178.419,
          13260.506,
          13222.69,
          13299.984,
          13244.784,
          13280.859,
          13397.002,
          13478.152,
          13538.072,
          13559.032,
          13634.253,
          13751.543,
          13985.073,
          14145.645,
          14221.147,
          14329.523,
          14464.984,
          14609.876,
          14771.602,
          14839.782,
          14972.054,
          15066.597,
          15267.026,
          15302.705,
          15326.368,
          15456.928,
          15493.328,
          15582.085,
          15666.738,
          15761.967,
          15671.383,
          15752.308,
          15667.032,
          15328.027,
          15155.94,
          15134.117,
          15189.222,
          15356.058,
          15415.145,
          15557.277,
          15671.967,
          15750.625,
          15712.754,
          15825.096,
          15820.7,
          16004.107,
          16129.418,
          16198.807,
          16220.667,
          16239.138,
          16382.964,
          16403.18,
          16531.685,
          16663.649,
          16616.54,
          16841.475,
          17047.098,
          17143.038,
          17277.58,
          17405.669,
          17463.222,
          17468.902,
          17556.839,
          17639.417,
          17735.074,
          17824.231,
          17925.256,
          18021.048,
          18163.558,
          18322.464,
          18438.254,
          18598.135,
          18732.72,
          18783.548,
          18927.281,
          19021.86,
          19121.112,
          19219.767
         ],
         "yaxis": "y"
        }
       ],
       "layout": {
        "legend": {
         "tracegroupgap": 0
        },
        "template": {
         "data": {
          "bar": [
           {
            "error_x": {
             "color": "#2a3f5f"
            },
            "error_y": {
             "color": "#2a3f5f"
            },
            "marker": {
             "line": {
              "color": "#E5ECF6",
              "width": 0.5
             },
             "pattern": {
              "fillmode": "overlay",
              "size": 10,
              "solidity": 0.2
             }
            },
            "type": "bar"
           }
          ],
          "barpolar": [
           {
            "marker": {
             "line": {
              "color": "#E5ECF6",
              "width": 0.5
             },
             "pattern": {
              "fillmode": "overlay",
              "size": 10,
              "solidity": 0.2
             }
            },
            "type": "barpolar"
           }
          ],
          "carpet": [
           {
            "aaxis": {
             "endlinecolor": "#2a3f5f",
             "gridcolor": "white",
             "linecolor": "white",
             "minorgridcolor": "white",
             "startlinecolor": "#2a3f5f"
            },
            "baxis": {
             "endlinecolor": "#2a3f5f",
             "gridcolor": "white",
             "linecolor": "white",
             "minorgridcolor": "white",
             "startlinecolor": "#2a3f5f"
            },
            "type": "carpet"
           }
          ],
          "choropleth": [
           {
            "colorbar": {
             "outlinewidth": 0,
             "ticks": ""
            },
            "type": "choropleth"
           }
          ],
          "contour": [
           {
            "colorbar": {
             "outlinewidth": 0,
             "ticks": ""
            },
            "colorscale": [
             [
              0,
              "#0d0887"
             ],
             [
              0.1111111111111111,
              "#46039f"
             ],
             [
              0.2222222222222222,
              "#7201a8"
             ],
             [
              0.3333333333333333,
              "#9c179e"
             ],
             [
              0.4444444444444444,
              "#bd3786"
             ],
             [
              0.5555555555555556,
              "#d8576b"
             ],
             [
              0.6666666666666666,
              "#ed7953"
             ],
             [
              0.7777777777777778,
              "#fb9f3a"
             ],
             [
              0.8888888888888888,
              "#fdca26"
             ],
             [
              1,
              "#f0f921"
             ]
            ],
            "type": "contour"
           }
          ],
          "contourcarpet": [
           {
            "colorbar": {
             "outlinewidth": 0,
             "ticks": ""
            },
            "type": "contourcarpet"
           }
          ],
          "heatmap": [
           {
            "colorbar": {
             "outlinewidth": 0,
             "ticks": ""
            },
            "colorscale": [
             [
              0,
              "#0d0887"
             ],
             [
              0.1111111111111111,
              "#46039f"
             ],
             [
              0.2222222222222222,
              "#7201a8"
             ],
             [
              0.3333333333333333,
              "#9c179e"
             ],
             [
              0.4444444444444444,
              "#bd3786"
             ],
             [
              0.5555555555555556,
              "#d8576b"
             ],
             [
              0.6666666666666666,
              "#ed7953"
             ],
             [
              0.7777777777777778,
              "#fb9f3a"
             ],
             [
              0.8888888888888888,
              "#fdca26"
             ],
             [
              1,
              "#f0f921"
             ]
            ],
            "type": "heatmap"
           }
          ],
          "heatmapgl": [
           {
            "colorbar": {
             "outlinewidth": 0,
             "ticks": ""
            },
            "colorscale": [
             [
              0,
              "#0d0887"
             ],
             [
              0.1111111111111111,
              "#46039f"
             ],
             [
              0.2222222222222222,
              "#7201a8"
             ],
             [
              0.3333333333333333,
              "#9c179e"
             ],
             [
              0.4444444444444444,
              "#bd3786"
             ],
             [
              0.5555555555555556,
              "#d8576b"
             ],
             [
              0.6666666666666666,
              "#ed7953"
             ],
             [
              0.7777777777777778,
              "#fb9f3a"
             ],
             [
              0.8888888888888888,
              "#fdca26"
             ],
             [
              1,
              "#f0f921"
             ]
            ],
            "type": "heatmapgl"
           }
          ],
          "histogram": [
           {
            "marker": {
             "pattern": {
              "fillmode": "overlay",
              "size": 10,
              "solidity": 0.2
             }
            },
            "type": "histogram"
           }
          ],
          "histogram2d": [
           {
            "colorbar": {
             "outlinewidth": 0,
             "ticks": ""
            },
            "colorscale": [
             [
              0,
              "#0d0887"
             ],
             [
              0.1111111111111111,
              "#46039f"
             ],
             [
              0.2222222222222222,
              "#7201a8"
             ],
             [
              0.3333333333333333,
              "#9c179e"
             ],
             [
              0.4444444444444444,
              "#bd3786"
             ],
             [
              0.5555555555555556,
              "#d8576b"
             ],
             [
              0.6666666666666666,
              "#ed7953"
             ],
             [
              0.7777777777777778,
              "#fb9f3a"
             ],
             [
              0.8888888888888888,
              "#fdca26"
             ],
             [
              1,
              "#f0f921"
             ]
            ],
            "type": "histogram2d"
           }
          ],
          "histogram2dcontour": [
           {
            "colorbar": {
             "outlinewidth": 0,
             "ticks": ""
            },
            "colorscale": [
             [
              0,
              "#0d0887"
             ],
             [
              0.1111111111111111,
              "#46039f"
             ],
             [
              0.2222222222222222,
              "#7201a8"
             ],
             [
              0.3333333333333333,
              "#9c179e"
             ],
             [
              0.4444444444444444,
              "#bd3786"
             ],
             [
              0.5555555555555556,
              "#d8576b"
             ],
             [
              0.6666666666666666,
              "#ed7953"
             ],
             [
              0.7777777777777778,
              "#fb9f3a"
             ],
             [
              0.8888888888888888,
              "#fdca26"
             ],
             [
              1,
              "#f0f921"
             ]
            ],
            "type": "histogram2dcontour"
           }
          ],
          "mesh3d": [
           {
            "colorbar": {
             "outlinewidth": 0,
             "ticks": ""
            },
            "type": "mesh3d"
           }
          ],
          "parcoords": [
           {
            "line": {
             "colorbar": {
              "outlinewidth": 0,
              "ticks": ""
             }
            },
            "type": "parcoords"
           }
          ],
          "pie": [
           {
            "automargin": true,
            "type": "pie"
           }
          ],
          "scatter": [
           {
            "marker": {
             "colorbar": {
              "outlinewidth": 0,
              "ticks": ""
             }
            },
            "type": "scatter"
           }
          ],
          "scatter3d": [
           {
            "line": {
             "colorbar": {
              "outlinewidth": 0,
              "ticks": ""
             }
            },
            "marker": {
             "colorbar": {
              "outlinewidth": 0,
              "ticks": ""
             }
            },
            "type": "scatter3d"
           }
          ],
          "scattercarpet": [
           {
            "marker": {
             "colorbar": {
              "outlinewidth": 0,
              "ticks": ""
             }
            },
            "type": "scattercarpet"
           }
          ],
          "scattergeo": [
           {
            "marker": {
             "colorbar": {
              "outlinewidth": 0,
              "ticks": ""
             }
            },
            "type": "scattergeo"
           }
          ],
          "scattergl": [
           {
            "marker": {
             "colorbar": {
              "outlinewidth": 0,
              "ticks": ""
             }
            },
            "type": "scattergl"
           }
          ],
          "scattermapbox": [
           {
            "marker": {
             "colorbar": {
              "outlinewidth": 0,
              "ticks": ""
             }
            },
            "type": "scattermapbox"
           }
          ],
          "scatterpolar": [
           {
            "marker": {
             "colorbar": {
              "outlinewidth": 0,
              "ticks": ""
             }
            },
            "type": "scatterpolar"
           }
          ],
          "scatterpolargl": [
           {
            "marker": {
             "colorbar": {
              "outlinewidth": 0,
              "ticks": ""
             }
            },
            "type": "scatterpolargl"
           }
          ],
          "scatterternary": [
           {
            "marker": {
             "colorbar": {
              "outlinewidth": 0,
              "ticks": ""
             }
            },
            "type": "scatterternary"
           }
          ],
          "surface": [
           {
            "colorbar": {
             "outlinewidth": 0,
             "ticks": ""
            },
            "colorscale": [
             [
              0,
              "#0d0887"
             ],
             [
              0.1111111111111111,
              "#46039f"
             ],
             [
              0.2222222222222222,
              "#7201a8"
             ],
             [
              0.3333333333333333,
              "#9c179e"
             ],
             [
              0.4444444444444444,
              "#bd3786"
             ],
             [
              0.5555555555555556,
              "#d8576b"
             ],
             [
              0.6666666666666666,
              "#ed7953"
             ],
             [
              0.7777777777777778,
              "#fb9f3a"
             ],
             [
              0.8888888888888888,
              "#fdca26"
             ],
             [
              1,
              "#f0f921"
             ]
            ],
            "type": "surface"
           }
          ],
          "table": [
           {
            "cells": {
             "fill": {
              "color": "#EBF0F8"
             },
             "line": {
              "color": "white"
             }
            },
            "header": {
             "fill": {
              "color": "#C8D4E3"
             },
             "line": {
              "color": "white"
             }
            },
            "type": "table"
           }
          ]
         },
         "layout": {
          "annotationdefaults": {
           "arrowcolor": "#2a3f5f",
           "arrowhead": 0,
           "arrowwidth": 1
          },
          "autotypenumbers": "strict",
          "coloraxis": {
           "colorbar": {
            "outlinewidth": 0,
            "ticks": ""
           }
          },
          "colorscale": {
           "diverging": [
            [
             0,
             "#8e0152"
            ],
            [
             0.1,
             "#c51b7d"
            ],
            [
             0.2,
             "#de77ae"
            ],
            [
             0.3,
             "#f1b6da"
            ],
            [
             0.4,
             "#fde0ef"
            ],
            [
             0.5,
             "#f7f7f7"
            ],
            [
             0.6,
             "#e6f5d0"
            ],
            [
             0.7,
             "#b8e186"
            ],
            [
             0.8,
             "#7fbc41"
            ],
            [
             0.9,
             "#4d9221"
            ],
            [
             1,
             "#276419"
            ]
           ],
           "sequential": [
            [
             0,
             "#0d0887"
            ],
            [
             0.1111111111111111,
             "#46039f"
            ],
            [
             0.2222222222222222,
             "#7201a8"
            ],
            [
             0.3333333333333333,
             "#9c179e"
            ],
            [
             0.4444444444444444,
             "#bd3786"
            ],
            [
             0.5555555555555556,
             "#d8576b"
            ],
            [
             0.6666666666666666,
             "#ed7953"
            ],
            [
             0.7777777777777778,
             "#fb9f3a"
            ],
            [
             0.8888888888888888,
             "#fdca26"
            ],
            [
             1,
             "#f0f921"
            ]
           ],
           "sequentialminus": [
            [
             0,
             "#0d0887"
            ],
            [
             0.1111111111111111,
             "#46039f"
            ],
            [
             0.2222222222222222,
             "#7201a8"
            ],
            [
             0.3333333333333333,
             "#9c179e"
            ],
            [
             0.4444444444444444,
             "#bd3786"
            ],
            [
             0.5555555555555556,
             "#d8576b"
            ],
            [
             0.6666666666666666,
             "#ed7953"
            ],
            [
             0.7777777777777778,
             "#fb9f3a"
            ],
            [
             0.8888888888888888,
             "#fdca26"
            ],
            [
             1,
             "#f0f921"
            ]
           ]
          },
          "colorway": [
           "#636efa",
           "#EF553B",
           "#00cc96",
           "#ab63fa",
           "#FFA15A",
           "#19d3f3",
           "#FF6692",
           "#B6E880",
           "#FF97FF",
           "#FECB52"
          ],
          "font": {
           "color": "#2a3f5f"
          },
          "geo": {
           "bgcolor": "white",
           "lakecolor": "white",
           "landcolor": "#E5ECF6",
           "showlakes": true,
           "showland": true,
           "subunitcolor": "white"
          },
          "hoverlabel": {
           "align": "left"
          },
          "hovermode": "closest",
          "mapbox": {
           "style": "light"
          },
          "paper_bgcolor": "white",
          "plot_bgcolor": "#E5ECF6",
          "polar": {
           "angularaxis": {
            "gridcolor": "white",
            "linecolor": "white",
            "ticks": ""
           },
           "bgcolor": "#E5ECF6",
           "radialaxis": {
            "gridcolor": "white",
            "linecolor": "white",
            "ticks": ""
           }
          },
          "scene": {
           "xaxis": {
            "backgroundcolor": "#E5ECF6",
            "gridcolor": "white",
            "gridwidth": 2,
            "linecolor": "white",
            "showbackground": true,
            "ticks": "",
            "zerolinecolor": "white"
           },
           "yaxis": {
            "backgroundcolor": "#E5ECF6",
            "gridcolor": "white",
            "gridwidth": 2,
            "linecolor": "white",
            "showbackground": true,
            "ticks": "",
            "zerolinecolor": "white"
           },
           "zaxis": {
            "backgroundcolor": "#E5ECF6",
            "gridcolor": "white",
            "gridwidth": 2,
            "linecolor": "white",
            "showbackground": true,
            "ticks": "",
            "zerolinecolor": "white"
           }
          },
          "shapedefaults": {
           "line": {
            "color": "#2a3f5f"
           }
          },
          "ternary": {
           "aaxis": {
            "gridcolor": "white",
            "linecolor": "white",
            "ticks": ""
           },
           "baxis": {
            "gridcolor": "white",
            "linecolor": "white",
            "ticks": ""
           },
           "bgcolor": "#E5ECF6",
           "caxis": {
            "gridcolor": "white",
            "linecolor": "white",
            "ticks": ""
           }
          },
          "title": {
           "x": 0.05
          },
          "xaxis": {
           "automargin": true,
           "gridcolor": "white",
           "linecolor": "white",
           "ticks": "",
           "title": {
            "standoff": 15
           },
           "zerolinecolor": "white",
           "zerolinewidth": 2
          },
          "yaxis": {
           "automargin": true,
           "gridcolor": "white",
           "linecolor": "white",
           "ticks": "",
           "title": {
            "standoff": 15
           },
           "zerolinecolor": "white",
           "zerolinewidth": 2
          }
         }
        },
        "title": {
         "text": "Time Series"
        },
        "xaxis": {
         "anchor": "y",
         "domain": [
          0,
          1
         ],
         "title": {
          "text": "Date"
         }
        },
        "yaxis": {
         "anchor": "x",
         "domain": [
          0,
          1
         ],
         "title": {
          "text": "GDP"
         }
        }
       }
      }
     },
     "metadata": {},
     "output_type": "display_data"
    }
   ],
   "source": [
    "# Plot the GDP Trends\n",
    "fig = px.line(x=gdp.index, y=gdp['GDPC1'], title='Time Series', labels={'x':'Date', 'y':'GDP'})\n",
    "\n",
    "# Display the Chart\n",
    "fig.show()"
   ]
  },
  {
   "cell_type": "code",
   "execution_count": 16,
   "metadata": {},
   "outputs": [],
   "source": [
    "result = seasonal_decompose(gdp['GDPC1'], model='multiplicative')"
   ]
  },
  {
   "cell_type": "code",
   "execution_count": 19,
   "metadata": {},
   "outputs": [
    {
     "data": {
      "application/vnd.plotly.v1+json": {
       "config": {
        "plotlyServerURL": "https://plot.ly"
       },
       "data": [
        {
         "hovertemplate": "x=%{x}<br>y=%{y}<extra></extra>",
         "legendgroup": "",
         "line": {
          "color": "black",
          "dash": "solid"
         },
         "marker": {
          "symbol": "circle"
         },
         "mode": "lines",
         "name": "",
         "orientation": "v",
         "showlegend": false,
         "type": "scatter",
         "x": [
          "1947-01-01T00:00:00",
          "1947-04-01T00:00:00",
          "1947-07-01T00:00:00",
          "1947-10-01T00:00:00",
          "1948-01-01T00:00:00",
          "1948-04-01T00:00:00",
          "1948-07-01T00:00:00",
          "1948-10-01T00:00:00",
          "1949-01-01T00:00:00",
          "1949-04-01T00:00:00",
          "1949-07-01T00:00:00",
          "1949-10-01T00:00:00",
          "1950-01-01T00:00:00",
          "1950-04-01T00:00:00",
          "1950-07-01T00:00:00",
          "1950-10-01T00:00:00",
          "1951-01-01T00:00:00",
          "1951-04-01T00:00:00",
          "1951-07-01T00:00:00",
          "1951-10-01T00:00:00",
          "1952-01-01T00:00:00",
          "1952-04-01T00:00:00",
          "1952-07-01T00:00:00",
          "1952-10-01T00:00:00",
          "1953-01-01T00:00:00",
          "1953-04-01T00:00:00",
          "1953-07-01T00:00:00",
          "1953-10-01T00:00:00",
          "1954-01-01T00:00:00",
          "1954-04-01T00:00:00",
          "1954-07-01T00:00:00",
          "1954-10-01T00:00:00",
          "1955-01-01T00:00:00",
          "1955-04-01T00:00:00",
          "1955-07-01T00:00:00",
          "1955-10-01T00:00:00",
          "1956-01-01T00:00:00",
          "1956-04-01T00:00:00",
          "1956-07-01T00:00:00",
          "1956-10-01T00:00:00",
          "1957-01-01T00:00:00",
          "1957-04-01T00:00:00",
          "1957-07-01T00:00:00",
          "1957-10-01T00:00:00",
          "1958-01-01T00:00:00",
          "1958-04-01T00:00:00",
          "1958-07-01T00:00:00",
          "1958-10-01T00:00:00",
          "1959-01-01T00:00:00",
          "1959-04-01T00:00:00",
          "1959-07-01T00:00:00",
          "1959-10-01T00:00:00",
          "1960-01-01T00:00:00",
          "1960-04-01T00:00:00",
          "1960-07-01T00:00:00",
          "1960-10-01T00:00:00",
          "1961-01-01T00:00:00",
          "1961-04-01T00:00:00",
          "1961-07-01T00:00:00",
          "1961-10-01T00:00:00",
          "1962-01-01T00:00:00",
          "1962-04-01T00:00:00",
          "1962-07-01T00:00:00",
          "1962-10-01T00:00:00",
          "1963-01-01T00:00:00",
          "1963-04-01T00:00:00",
          "1963-07-01T00:00:00",
          "1963-10-01T00:00:00",
          "1964-01-01T00:00:00",
          "1964-04-01T00:00:00",
          "1964-07-01T00:00:00",
          "1964-10-01T00:00:00",
          "1965-01-01T00:00:00",
          "1965-04-01T00:00:00",
          "1965-07-01T00:00:00",
          "1965-10-01T00:00:00",
          "1966-01-01T00:00:00",
          "1966-04-01T00:00:00",
          "1966-07-01T00:00:00",
          "1966-10-01T00:00:00",
          "1967-01-01T00:00:00",
          "1967-04-01T00:00:00",
          "1967-07-01T00:00:00",
          "1967-10-01T00:00:00",
          "1968-01-01T00:00:00",
          "1968-04-01T00:00:00",
          "1968-07-01T00:00:00",
          "1968-10-01T00:00:00",
          "1969-01-01T00:00:00",
          "1969-04-01T00:00:00",
          "1969-07-01T00:00:00",
          "1969-10-01T00:00:00",
          "1970-01-01T00:00:00",
          "1970-04-01T00:00:00",
          "1970-07-01T00:00:00",
          "1970-10-01T00:00:00",
          "1971-01-01T00:00:00",
          "1971-04-01T00:00:00",
          "1971-07-01T00:00:00",
          "1971-10-01T00:00:00",
          "1972-01-01T00:00:00",
          "1972-04-01T00:00:00",
          "1972-07-01T00:00:00",
          "1972-10-01T00:00:00",
          "1973-01-01T00:00:00",
          "1973-04-01T00:00:00",
          "1973-07-01T00:00:00",
          "1973-10-01T00:00:00",
          "1974-01-01T00:00:00",
          "1974-04-01T00:00:00",
          "1974-07-01T00:00:00",
          "1974-10-01T00:00:00",
          "1975-01-01T00:00:00",
          "1975-04-01T00:00:00",
          "1975-07-01T00:00:00",
          "1975-10-01T00:00:00",
          "1976-01-01T00:00:00",
          "1976-04-01T00:00:00",
          "1976-07-01T00:00:00",
          "1976-10-01T00:00:00",
          "1977-01-01T00:00:00",
          "1977-04-01T00:00:00",
          "1977-07-01T00:00:00",
          "1977-10-01T00:00:00",
          "1978-01-01T00:00:00",
          "1978-04-01T00:00:00",
          "1978-07-01T00:00:00",
          "1978-10-01T00:00:00",
          "1979-01-01T00:00:00",
          "1979-04-01T00:00:00",
          "1979-07-01T00:00:00",
          "1979-10-01T00:00:00",
          "1980-01-01T00:00:00",
          "1980-04-01T00:00:00",
          "1980-07-01T00:00:00",
          "1980-10-01T00:00:00",
          "1981-01-01T00:00:00",
          "1981-04-01T00:00:00",
          "1981-07-01T00:00:00",
          "1981-10-01T00:00:00",
          "1982-01-01T00:00:00",
          "1982-04-01T00:00:00",
          "1982-07-01T00:00:00",
          "1982-10-01T00:00:00",
          "1983-01-01T00:00:00",
          "1983-04-01T00:00:00",
          "1983-07-01T00:00:00",
          "1983-10-01T00:00:00",
          "1984-01-01T00:00:00",
          "1984-04-01T00:00:00",
          "1984-07-01T00:00:00",
          "1984-10-01T00:00:00",
          "1985-01-01T00:00:00",
          "1985-04-01T00:00:00",
          "1985-07-01T00:00:00",
          "1985-10-01T00:00:00",
          "1986-01-01T00:00:00",
          "1986-04-01T00:00:00",
          "1986-07-01T00:00:00",
          "1986-10-01T00:00:00",
          "1987-01-01T00:00:00",
          "1987-04-01T00:00:00",
          "1987-07-01T00:00:00",
          "1987-10-01T00:00:00",
          "1988-01-01T00:00:00",
          "1988-04-01T00:00:00",
          "1988-07-01T00:00:00",
          "1988-10-01T00:00:00",
          "1989-01-01T00:00:00",
          "1989-04-01T00:00:00",
          "1989-07-01T00:00:00",
          "1989-10-01T00:00:00",
          "1990-01-01T00:00:00",
          "1990-04-01T00:00:00",
          "1990-07-01T00:00:00",
          "1990-10-01T00:00:00",
          "1991-01-01T00:00:00",
          "1991-04-01T00:00:00",
          "1991-07-01T00:00:00",
          "1991-10-01T00:00:00",
          "1992-01-01T00:00:00",
          "1992-04-01T00:00:00",
          "1992-07-01T00:00:00",
          "1992-10-01T00:00:00",
          "1993-01-01T00:00:00",
          "1993-04-01T00:00:00",
          "1993-07-01T00:00:00",
          "1993-10-01T00:00:00",
          "1994-01-01T00:00:00",
          "1994-04-01T00:00:00",
          "1994-07-01T00:00:00",
          "1994-10-01T00:00:00",
          "1995-01-01T00:00:00",
          "1995-04-01T00:00:00",
          "1995-07-01T00:00:00",
          "1995-10-01T00:00:00",
          "1996-01-01T00:00:00",
          "1996-04-01T00:00:00",
          "1996-07-01T00:00:00",
          "1996-10-01T00:00:00",
          "1997-01-01T00:00:00",
          "1997-04-01T00:00:00",
          "1997-07-01T00:00:00",
          "1997-10-01T00:00:00",
          "1998-01-01T00:00:00",
          "1998-04-01T00:00:00",
          "1998-07-01T00:00:00",
          "1998-10-01T00:00:00",
          "1999-01-01T00:00:00",
          "1999-04-01T00:00:00",
          "1999-07-01T00:00:00",
          "1999-10-01T00:00:00",
          "2000-01-01T00:00:00",
          "2000-04-01T00:00:00",
          "2000-07-01T00:00:00",
          "2000-10-01T00:00:00",
          "2001-01-01T00:00:00",
          "2001-04-01T00:00:00",
          "2001-07-01T00:00:00",
          "2001-10-01T00:00:00",
          "2002-01-01T00:00:00",
          "2002-04-01T00:00:00",
          "2002-07-01T00:00:00",
          "2002-10-01T00:00:00",
          "2003-01-01T00:00:00",
          "2003-04-01T00:00:00",
          "2003-07-01T00:00:00",
          "2003-10-01T00:00:00",
          "2004-01-01T00:00:00",
          "2004-04-01T00:00:00",
          "2004-07-01T00:00:00",
          "2004-10-01T00:00:00",
          "2005-01-01T00:00:00",
          "2005-04-01T00:00:00",
          "2005-07-01T00:00:00",
          "2005-10-01T00:00:00",
          "2006-01-01T00:00:00",
          "2006-04-01T00:00:00",
          "2006-07-01T00:00:00",
          "2006-10-01T00:00:00",
          "2007-01-01T00:00:00",
          "2007-04-01T00:00:00",
          "2007-07-01T00:00:00",
          "2007-10-01T00:00:00",
          "2008-01-01T00:00:00",
          "2008-04-01T00:00:00",
          "2008-07-01T00:00:00",
          "2008-10-01T00:00:00",
          "2009-01-01T00:00:00",
          "2009-04-01T00:00:00",
          "2009-07-01T00:00:00",
          "2009-10-01T00:00:00",
          "2010-01-01T00:00:00",
          "2010-04-01T00:00:00",
          "2010-07-01T00:00:00",
          "2010-10-01T00:00:00",
          "2011-01-01T00:00:00",
          "2011-04-01T00:00:00",
          "2011-07-01T00:00:00",
          "2011-10-01T00:00:00",
          "2012-01-01T00:00:00",
          "2012-04-01T00:00:00",
          "2012-07-01T00:00:00",
          "2012-10-01T00:00:00",
          "2013-01-01T00:00:00",
          "2013-04-01T00:00:00",
          "2013-07-01T00:00:00",
          "2013-10-01T00:00:00",
          "2014-01-01T00:00:00",
          "2014-04-01T00:00:00",
          "2014-07-01T00:00:00",
          "2014-10-01T00:00:00",
          "2015-01-01T00:00:00",
          "2015-04-01T00:00:00",
          "2015-07-01T00:00:00",
          "2015-10-01T00:00:00",
          "2016-01-01T00:00:00",
          "2016-04-01T00:00:00",
          "2016-07-01T00:00:00",
          "2016-10-01T00:00:00",
          "2017-01-01T00:00:00",
          "2017-04-01T00:00:00",
          "2017-07-01T00:00:00",
          "2017-10-01T00:00:00",
          "2018-01-01T00:00:00",
          "2018-04-01T00:00:00",
          "2018-07-01T00:00:00",
          "2018-10-01T00:00:00",
          "2019-01-01T00:00:00",
          "2019-04-01T00:00:00",
          "2019-07-01T00:00:00",
          "2019-10-01T00:00:00"
         ],
         "xaxis": "x",
         "y": [
          2033.061,
          2027.639,
          2023.452,
          2055.103,
          2086.017,
          2120.45,
          2132.598,
          2134.981,
          2105.562,
          2098.38,
          2120.044,
          2102.251,
          2184.872,
          2251.507,
          2338.514,
          2383.291,
          2415.66,
          2457.517,
          2508.166,
          2513.69,
          2540.55,
          2546.022,
          2564.401,
          2648.621,
          2697.855,
          2718.709,
          2703.411,
          2662.482,
          2649.755,
          2652.643,
          2682.601,
          2735.091,
          2813.212,
          2858.988,
          2897.598,
          2914.993,
          2903.671,
          2927.665,
          2925.035,
          2973.179,
          2992.219,
          2985.663,
          3014.919,
          2983.727,
          2906.274,
          2925.379,
          2993.068,
          3063.085,
          3121.936,
          3192.38,
          3194.653,
          3203.759,
          3275.757,
          3258.088,
          3274.029,
          3232.009,
          3253.826,
          3309.059,
          3372.581,
          3438.721,
          3500.054,
          3531.683,
          3575.07,
          3586.827,
          3625.981,
          3666.669,
          3747.278,
          3771.845,
          3851.366,
          3893.296,
          3954.121,
          3966.335,
          4062.311,
          4113.629,
          4205.086,
          4301.973,
          4406.693,
          4421.747,
          4459.195,
          4495.777,
          4535.591,
          4538.37,
          4581.309,
          4615.853,
          4709.993,
          4788.688,
          4825.799,
          4844.779,
          4920.605,
          4935.564,
          4968.164,
          4943.935,
          4936.594,
          4943.6,
          4989.159,
          4935.693,
          5069.746,
          5097.179,
          5139.128,
          5151.245,
          5245.974,
          5365.045,
          5415.712,
          5506.396,
          5642.669,
          5704.098,
          5674.1,
          5727.96,
          5678.713,
          5692.21,
          5638.411,
          5616.526,
          5548.156,
          5587.8,
          5683.444,
          5759.972,
          5889.5,
          5932.711,
          5965.265,
          6008.504,
          6079.494,
          6197.686,
          6309.514,
          6309.652,
          6329.791,
          6574.39,
          6640.497,
          6729.755,
          6741.854,
          6749.063,
          6799.2,
          6816.203,
          6837.641,
          6696.753,
          6688.794,
          6813.535,
          6947.042,
          6895.559,
          6978.135,
          6902.105,
          6794.878,
          6825.876,
          6799.781,
          6802.497,
          6892.144,
          7048.982,
          7189.896,
          7339.893,
          7483.371,
          7612.668,
          7686.059,
          7749.151,
          7824.247,
          7893.136,
          8013.674,
          8073.239,
          8148.603,
          8185.303,
          8263.639,
          8308.021,
          8369.93,
          8460.233,
          8533.635,
          8680.162,
          8725.006,
          8839.641,
          8891.435,
          9009.913,
          9101.508,
          9170.977,
          9238.923,
          9257.128,
          9358.289,
          9392.251,
          9398.499,
          9312.937,
          9269.367,
          9341.642,
          9388.845,
          9421.565,
          9534.346,
          9637.732,
          9732.979,
          9834.51,
          9850.973,
          9908.347,
          9955.641,
          10091.049,
          10188.954,
          10327.019,
          10387.382,
          10506.372,
          10543.644,
          10575.1,
          10665.06,
          10737.478,
          10817.896,
          10998.322,
          11096.976,
          11212.205,
          11284.587,
          11472.137,
          11615.636,
          11715.393,
          11832.486,
          11942.032,
          12091.614,
          12287,
          12403.293,
          12498.694,
          12662.385,
          12877.593,
          12924.179,
          13160.842,
          13178.419,
          13260.506,
          13222.69,
          13299.984,
          13244.784,
          13280.859,
          13397.002,
          13478.152,
          13538.072,
          13559.032,
          13634.253,
          13751.543,
          13985.073,
          14145.645,
          14221.147,
          14329.523,
          14464.984,
          14609.876,
          14771.602,
          14839.782,
          14972.054,
          15066.597,
          15267.026,
          15302.705,
          15326.368,
          15456.928,
          15493.328,
          15582.085,
          15666.738,
          15761.967,
          15671.383,
          15752.308,
          15667.032,
          15328.027,
          15155.94,
          15134.117,
          15189.222,
          15356.058,
          15415.145,
          15557.277,
          15671.967,
          15750.625,
          15712.754,
          15825.096,
          15820.7,
          16004.107,
          16129.418,
          16198.807,
          16220.667,
          16239.138,
          16382.964,
          16403.18,
          16531.685,
          16663.649,
          16616.54,
          16841.475,
          17047.098,
          17143.038,
          17277.58,
          17405.669,
          17463.222,
          17468.902,
          17556.839,
          17639.417,
          17735.074,
          17824.231,
          17925.256,
          18021.048,
          18163.558,
          18322.464,
          18438.254,
          18598.135,
          18732.72,
          18783.548,
          18927.281,
          19021.86,
          19121.112,
          19219.767
         ],
         "yaxis": "y"
        },
        {
         "hovertemplate": "x=%{x}<br>y=%{y}<extra></extra>",
         "legendgroup": "",
         "line": {
          "color": "blue",
          "dash": "solid"
         },
         "marker": {
          "symbol": "circle"
         },
         "mode": "lines",
         "name": "",
         "orientation": "v",
         "showlegend": false,
         "type": "scatter",
         "x": [
          "1947-01-01T00:00:00",
          "1947-04-01T00:00:00",
          "1947-07-01T00:00:00",
          "1947-10-01T00:00:00",
          "1948-01-01T00:00:00",
          "1948-04-01T00:00:00",
          "1948-07-01T00:00:00",
          "1948-10-01T00:00:00",
          "1949-01-01T00:00:00",
          "1949-04-01T00:00:00",
          "1949-07-01T00:00:00",
          "1949-10-01T00:00:00",
          "1950-01-01T00:00:00",
          "1950-04-01T00:00:00",
          "1950-07-01T00:00:00",
          "1950-10-01T00:00:00",
          "1951-01-01T00:00:00",
          "1951-04-01T00:00:00",
          "1951-07-01T00:00:00",
          "1951-10-01T00:00:00",
          "1952-01-01T00:00:00",
          "1952-04-01T00:00:00",
          "1952-07-01T00:00:00",
          "1952-10-01T00:00:00",
          "1953-01-01T00:00:00",
          "1953-04-01T00:00:00",
          "1953-07-01T00:00:00",
          "1953-10-01T00:00:00",
          "1954-01-01T00:00:00",
          "1954-04-01T00:00:00",
          "1954-07-01T00:00:00",
          "1954-10-01T00:00:00",
          "1955-01-01T00:00:00",
          "1955-04-01T00:00:00",
          "1955-07-01T00:00:00",
          "1955-10-01T00:00:00",
          "1956-01-01T00:00:00",
          "1956-04-01T00:00:00",
          "1956-07-01T00:00:00",
          "1956-10-01T00:00:00",
          "1957-01-01T00:00:00",
          "1957-04-01T00:00:00",
          "1957-07-01T00:00:00",
          "1957-10-01T00:00:00",
          "1958-01-01T00:00:00",
          "1958-04-01T00:00:00",
          "1958-07-01T00:00:00",
          "1958-10-01T00:00:00",
          "1959-01-01T00:00:00",
          "1959-04-01T00:00:00",
          "1959-07-01T00:00:00",
          "1959-10-01T00:00:00",
          "1960-01-01T00:00:00",
          "1960-04-01T00:00:00",
          "1960-07-01T00:00:00",
          "1960-10-01T00:00:00",
          "1961-01-01T00:00:00",
          "1961-04-01T00:00:00",
          "1961-07-01T00:00:00",
          "1961-10-01T00:00:00",
          "1962-01-01T00:00:00",
          "1962-04-01T00:00:00",
          "1962-07-01T00:00:00",
          "1962-10-01T00:00:00",
          "1963-01-01T00:00:00",
          "1963-04-01T00:00:00",
          "1963-07-01T00:00:00",
          "1963-10-01T00:00:00",
          "1964-01-01T00:00:00",
          "1964-04-01T00:00:00",
          "1964-07-01T00:00:00",
          "1964-10-01T00:00:00",
          "1965-01-01T00:00:00",
          "1965-04-01T00:00:00",
          "1965-07-01T00:00:00",
          "1965-10-01T00:00:00",
          "1966-01-01T00:00:00",
          "1966-04-01T00:00:00",
          "1966-07-01T00:00:00",
          "1966-10-01T00:00:00",
          "1967-01-01T00:00:00",
          "1967-04-01T00:00:00",
          "1967-07-01T00:00:00",
          "1967-10-01T00:00:00",
          "1968-01-01T00:00:00",
          "1968-04-01T00:00:00",
          "1968-07-01T00:00:00",
          "1968-10-01T00:00:00",
          "1969-01-01T00:00:00",
          "1969-04-01T00:00:00",
          "1969-07-01T00:00:00",
          "1969-10-01T00:00:00",
          "1970-01-01T00:00:00",
          "1970-04-01T00:00:00",
          "1970-07-01T00:00:00",
          "1970-10-01T00:00:00",
          "1971-01-01T00:00:00",
          "1971-04-01T00:00:00",
          "1971-07-01T00:00:00",
          "1971-10-01T00:00:00",
          "1972-01-01T00:00:00",
          "1972-04-01T00:00:00",
          "1972-07-01T00:00:00",
          "1972-10-01T00:00:00",
          "1973-01-01T00:00:00",
          "1973-04-01T00:00:00",
          "1973-07-01T00:00:00",
          "1973-10-01T00:00:00",
          "1974-01-01T00:00:00",
          "1974-04-01T00:00:00",
          "1974-07-01T00:00:00",
          "1974-10-01T00:00:00",
          "1975-01-01T00:00:00",
          "1975-04-01T00:00:00",
          "1975-07-01T00:00:00",
          "1975-10-01T00:00:00",
          "1976-01-01T00:00:00",
          "1976-04-01T00:00:00",
          "1976-07-01T00:00:00",
          "1976-10-01T00:00:00",
          "1977-01-01T00:00:00",
          "1977-04-01T00:00:00",
          "1977-07-01T00:00:00",
          "1977-10-01T00:00:00",
          "1978-01-01T00:00:00",
          "1978-04-01T00:00:00",
          "1978-07-01T00:00:00",
          "1978-10-01T00:00:00",
          "1979-01-01T00:00:00",
          "1979-04-01T00:00:00",
          "1979-07-01T00:00:00",
          "1979-10-01T00:00:00",
          "1980-01-01T00:00:00",
          "1980-04-01T00:00:00",
          "1980-07-01T00:00:00",
          "1980-10-01T00:00:00",
          "1981-01-01T00:00:00",
          "1981-04-01T00:00:00",
          "1981-07-01T00:00:00",
          "1981-10-01T00:00:00",
          "1982-01-01T00:00:00",
          "1982-04-01T00:00:00",
          "1982-07-01T00:00:00",
          "1982-10-01T00:00:00",
          "1983-01-01T00:00:00",
          "1983-04-01T00:00:00",
          "1983-07-01T00:00:00",
          "1983-10-01T00:00:00",
          "1984-01-01T00:00:00",
          "1984-04-01T00:00:00",
          "1984-07-01T00:00:00",
          "1984-10-01T00:00:00",
          "1985-01-01T00:00:00",
          "1985-04-01T00:00:00",
          "1985-07-01T00:00:00",
          "1985-10-01T00:00:00",
          "1986-01-01T00:00:00",
          "1986-04-01T00:00:00",
          "1986-07-01T00:00:00",
          "1986-10-01T00:00:00",
          "1987-01-01T00:00:00",
          "1987-04-01T00:00:00",
          "1987-07-01T00:00:00",
          "1987-10-01T00:00:00",
          "1988-01-01T00:00:00",
          "1988-04-01T00:00:00",
          "1988-07-01T00:00:00",
          "1988-10-01T00:00:00",
          "1989-01-01T00:00:00",
          "1989-04-01T00:00:00",
          "1989-07-01T00:00:00",
          "1989-10-01T00:00:00",
          "1990-01-01T00:00:00",
          "1990-04-01T00:00:00",
          "1990-07-01T00:00:00",
          "1990-10-01T00:00:00",
          "1991-01-01T00:00:00",
          "1991-04-01T00:00:00",
          "1991-07-01T00:00:00",
          "1991-10-01T00:00:00",
          "1992-01-01T00:00:00",
          "1992-04-01T00:00:00",
          "1992-07-01T00:00:00",
          "1992-10-01T00:00:00",
          "1993-01-01T00:00:00",
          "1993-04-01T00:00:00",
          "1993-07-01T00:00:00",
          "1993-10-01T00:00:00",
          "1994-01-01T00:00:00",
          "1994-04-01T00:00:00",
          "1994-07-01T00:00:00",
          "1994-10-01T00:00:00",
          "1995-01-01T00:00:00",
          "1995-04-01T00:00:00",
          "1995-07-01T00:00:00",
          "1995-10-01T00:00:00",
          "1996-01-01T00:00:00",
          "1996-04-01T00:00:00",
          "1996-07-01T00:00:00",
          "1996-10-01T00:00:00",
          "1997-01-01T00:00:00",
          "1997-04-01T00:00:00",
          "1997-07-01T00:00:00",
          "1997-10-01T00:00:00",
          "1998-01-01T00:00:00",
          "1998-04-01T00:00:00",
          "1998-07-01T00:00:00",
          "1998-10-01T00:00:00",
          "1999-01-01T00:00:00",
          "1999-04-01T00:00:00",
          "1999-07-01T00:00:00",
          "1999-10-01T00:00:00",
          "2000-01-01T00:00:00",
          "2000-04-01T00:00:00",
          "2000-07-01T00:00:00",
          "2000-10-01T00:00:00",
          "2001-01-01T00:00:00",
          "2001-04-01T00:00:00",
          "2001-07-01T00:00:00",
          "2001-10-01T00:00:00",
          "2002-01-01T00:00:00",
          "2002-04-01T00:00:00",
          "2002-07-01T00:00:00",
          "2002-10-01T00:00:00",
          "2003-01-01T00:00:00",
          "2003-04-01T00:00:00",
          "2003-07-01T00:00:00",
          "2003-10-01T00:00:00",
          "2004-01-01T00:00:00",
          "2004-04-01T00:00:00",
          "2004-07-01T00:00:00",
          "2004-10-01T00:00:00",
          "2005-01-01T00:00:00",
          "2005-04-01T00:00:00",
          "2005-07-01T00:00:00",
          "2005-10-01T00:00:00",
          "2006-01-01T00:00:00",
          "2006-04-01T00:00:00",
          "2006-07-01T00:00:00",
          "2006-10-01T00:00:00",
          "2007-01-01T00:00:00",
          "2007-04-01T00:00:00",
          "2007-07-01T00:00:00",
          "2007-10-01T00:00:00",
          "2008-01-01T00:00:00",
          "2008-04-01T00:00:00",
          "2008-07-01T00:00:00",
          "2008-10-01T00:00:00",
          "2009-01-01T00:00:00",
          "2009-04-01T00:00:00",
          "2009-07-01T00:00:00",
          "2009-10-01T00:00:00",
          "2010-01-01T00:00:00",
          "2010-04-01T00:00:00",
          "2010-07-01T00:00:00",
          "2010-10-01T00:00:00",
          "2011-01-01T00:00:00",
          "2011-04-01T00:00:00",
          "2011-07-01T00:00:00",
          "2011-10-01T00:00:00",
          "2012-01-01T00:00:00",
          "2012-04-01T00:00:00",
          "2012-07-01T00:00:00",
          "2012-10-01T00:00:00",
          "2013-01-01T00:00:00",
          "2013-04-01T00:00:00",
          "2013-07-01T00:00:00",
          "2013-10-01T00:00:00",
          "2014-01-01T00:00:00",
          "2014-04-01T00:00:00",
          "2014-07-01T00:00:00",
          "2014-10-01T00:00:00",
          "2015-01-01T00:00:00",
          "2015-04-01T00:00:00",
          "2015-07-01T00:00:00",
          "2015-10-01T00:00:00",
          "2016-01-01T00:00:00",
          "2016-04-01T00:00:00",
          "2016-07-01T00:00:00",
          "2016-10-01T00:00:00",
          "2017-01-01T00:00:00",
          "2017-04-01T00:00:00",
          "2017-07-01T00:00:00",
          "2017-10-01T00:00:00",
          "2018-01-01T00:00:00",
          "2018-04-01T00:00:00",
          "2018-07-01T00:00:00",
          "2018-10-01T00:00:00",
          "2019-01-01T00:00:00",
          "2019-04-01T00:00:00",
          "2019-07-01T00:00:00",
          "2019-10-01T00:00:00"
         ],
         "xaxis": "x2",
         "y": [
          null,
          null,
          2041.43325,
          2059.654125,
          2084.89875,
          2108.52675,
          2120.9546250000003,
          2120.639,
          2116.311,
          2110.6504999999997,
          2116.473,
          2145.527625,
          2191.97725,
          2254.416,
          2318.3945000000003,
          2372.9942499999997,
          2419.952,
          2457.4583749999997,
          2489.3695,
          2516.043875,
          2534.136375,
          2558.0321249999997,
          2594.561625,
          2635.8106249999996,
          2674.77275,
          2693.881625,
          2689.6017500000003,
          2675.3309999999997,
          2664.4715,
          2670.946375,
          2700.454625,
          2746.6798750000003,
          2799.3476249999994,
          2848.7099999999996,
          2882.5051249999997,
          2902.397125,
          2914.411375,
          2925.11425,
          2943.456,
          2961.7742500000004,
          2980.2595,
          2992.8134999999997,
          2983.388875,
          2965.11025,
          2954.8433749999995,
          2962.03175,
          2998.90925,
          3059.242125,
          3117.815375,
          3160.59775,
          3197.4096250000002,
          3224.85075,
          3242.98625,
          3256.4395000000004,
          3257.2293750000003,
          3260.859375,
          3279.54975,
          3317.70775,
          3374.32525,
          3432.93175,
          3486.0708750000003,
          3529.89525,
          3564.149375,
          3596.7635,
          3635.16275,
          3679.8160000000003,
          3731.1163749999996,
          3787.6178749999995,
          3841.8016249999996,
          3891.96825,
          3942.6476249999996,
          3996.557375,
          4055.469625,
          4128.795,
          4213.797500000001,
          4295.360000000001,
          4365.6383749999995,
          4421.6275000000005,
          4461.96525,
          4492.655375,
          4522.4975,
          4552.771250000001,
          4589.581,
          4642.671,
          4704.522,
          4763.6990000000005,
          4818.641250000001,
          4863.32725,
          4899.482375,
          4929.6725,
          4944.065625,
          4947.06875,
          4950.697625000001,
          4952.29175,
          4967.9055,
          5003.746875000001,
          5041.690375,
          5087.3805,
          5136.353,
          5191.86475,
          5259.921,
          5338.887875,
          5432.868625,
          5524.837125,
          5599.51725,
          5659.5112500000005,
          5691.7122500000005,
          5694.73175,
          5688.784625,
          5670.394249999999,
          5640.145375,
          5610.7745,
          5603.352375,
          5626.91225,
          5687.511,
          5773.292875,
          5851.634375,
          5917.9285,
          5972.74425,
          6029.615375,
          6105.768375000001,
          6186.443,
          6255.373625,
          6333.74875,
          6422.209625,
          6516.095375,
          6620.1161250000005,
          6693.458125,
          6735.130125,
          6765.774,
          6788.5533749999995,
          6793.987999999999,
          6773.6485,
          6759.51425,
          6772.855875,
          6811.3817500000005,
          6872.400125000001,
          6919.638999999999,
          6911.68975,
          6883.958875,
          6852.954250000001,
          6818.209,
          6817.91625,
          6857.962750000001,
          6934.615375,
          7050.554249999999,
          7191.632125,
          7335.996249999999,
          7468.4773749999995,
          7581.655000000001,
          7675.4217499999995,
          7753.08975,
          7829.100125000001,
          7910.563,
          7991.6185000000005,
          8068.683875,
          8136.450375,
          8197.04375,
          8254.057375,
          8316.0895,
          8384.205249999999,
          8464.472375,
          8555.3745,
          8647.185000000001,
          8739.336000000001,
          8825.279875,
          8913.5615,
          9002.04125,
          9086.89425,
          9161.232125,
          9224.231625,
          9283.988500000001,
          9331.59475,
          9358.517875000001,
          9354.37875,
          9336.937375000001,
          9329.4045,
          9341.77625,
          9388.477125000001,
          9458.61075,
          9538.638749999998,
          9633.273625,
          9724.470125,
          9797.875375,
          9859.535,
          9919.435125,
          9993.750125,
          10088.33175,
          10194.633375,
          10300.516375000001,
          10396.768,
          10472.114375000001,
          10537.83425,
          10601.43225,
          10664.601999999999,
          10751.78625,
          10858.678499999998,
          10972.008875000001,
          11089.686125,
          11207.249375000001,
          11331.30875,
          11459.03975,
          11590.425625,
          11717.649875,
          11835.884,
          11966.832125,
          12109.633875000001,
          12250.5675,
          12391.496624999998,
          12536.667125,
          12675.602,
          12823.48125,
          12970.754,
          13083.122374999999,
          13168.300375,
          13223.007,
          13248.695375000001,
          13259.535124999999,
          13283.86825,
          13327.928249999999,
          13386.86025,
          13458.292875,
          13522.720874999999,
          13586.551125000002,
          13676.600124999999,
          13805.801875,
          13952.490249999999,
          14098.099499999998,
          14230.335875,
          14348.353625000002,
          14475.189375,
          14607.778624999999,
          14734.94475,
          14855.418625,
          14974.43675,
          15094.230125,
          15196.384750000001,
          15289.465375,
          15366.5445,
          15429.75475,
          15507.2235,
          15587.899625,
          15648.286375,
          15691.821125,
          15713.135750000001,
          15658.93,
          15540.257125,
          15398.552875000001,
          15261.552749999999,
          15205.330375000001,
          15241.234875,
          15326.5305,
          15439.768625,
          15549.432625000001,
          15635.954625,
          15706.633125000002,
          15758.702125,
          15808.979000000001,
          15892.74725,
          15991.544124999999,
          16088.253875,
          16167.628625000001,
          16228.70075,
          16285.940625,
          16350.3645,
          16442.305625,
          16524.5665,
          16608.550375,
          16727.763875,
          16852.114125,
          16994.66775,
          17147.822,
          17270.36175,
          17363.11025,
          17438.750625,
          17502.8765,
          17566.0765,
          17644.474125,
          17734.942375,
          17828.698375,
          17929.96275,
          18045.802375000003,
          18172.20625,
          18308.466875000002,
          18451.748,
          18580.52875,
          18699.292625,
          18813.386625,
          18914.90125,
          19017.977625,
          null,
          null
         ],
         "yaxis": "y2"
        },
        {
         "hovertemplate": "x=%{x}<br>y=%{y}<extra></extra>",
         "legendgroup": "",
         "line": {
          "color": "green",
          "dash": "solid"
         },
         "marker": {
          "symbol": "circle"
         },
         "mode": "lines",
         "name": "",
         "orientation": "v",
         "showlegend": false,
         "type": "scatter",
         "x": [
          "1947-01-01T00:00:00",
          "1947-04-01T00:00:00",
          "1947-07-01T00:00:00",
          "1947-10-01T00:00:00",
          "1948-01-01T00:00:00",
          "1948-04-01T00:00:00",
          "1948-07-01T00:00:00",
          "1948-10-01T00:00:00",
          "1949-01-01T00:00:00",
          "1949-04-01T00:00:00",
          "1949-07-01T00:00:00",
          "1949-10-01T00:00:00",
          "1950-01-01T00:00:00",
          "1950-04-01T00:00:00",
          "1950-07-01T00:00:00",
          "1950-10-01T00:00:00",
          "1951-01-01T00:00:00",
          "1951-04-01T00:00:00",
          "1951-07-01T00:00:00",
          "1951-10-01T00:00:00",
          "1952-01-01T00:00:00",
          "1952-04-01T00:00:00",
          "1952-07-01T00:00:00",
          "1952-10-01T00:00:00",
          "1953-01-01T00:00:00",
          "1953-04-01T00:00:00",
          "1953-07-01T00:00:00",
          "1953-10-01T00:00:00",
          "1954-01-01T00:00:00",
          "1954-04-01T00:00:00",
          "1954-07-01T00:00:00",
          "1954-10-01T00:00:00",
          "1955-01-01T00:00:00",
          "1955-04-01T00:00:00",
          "1955-07-01T00:00:00",
          "1955-10-01T00:00:00",
          "1956-01-01T00:00:00",
          "1956-04-01T00:00:00",
          "1956-07-01T00:00:00",
          "1956-10-01T00:00:00",
          "1957-01-01T00:00:00",
          "1957-04-01T00:00:00",
          "1957-07-01T00:00:00",
          "1957-10-01T00:00:00",
          "1958-01-01T00:00:00",
          "1958-04-01T00:00:00",
          "1958-07-01T00:00:00",
          "1958-10-01T00:00:00",
          "1959-01-01T00:00:00",
          "1959-04-01T00:00:00",
          "1959-07-01T00:00:00",
          "1959-10-01T00:00:00",
          "1960-01-01T00:00:00",
          "1960-04-01T00:00:00",
          "1960-07-01T00:00:00",
          "1960-10-01T00:00:00",
          "1961-01-01T00:00:00",
          "1961-04-01T00:00:00",
          "1961-07-01T00:00:00",
          "1961-10-01T00:00:00",
          "1962-01-01T00:00:00",
          "1962-04-01T00:00:00",
          "1962-07-01T00:00:00",
          "1962-10-01T00:00:00",
          "1963-01-01T00:00:00",
          "1963-04-01T00:00:00",
          "1963-07-01T00:00:00",
          "1963-10-01T00:00:00",
          "1964-01-01T00:00:00",
          "1964-04-01T00:00:00",
          "1964-07-01T00:00:00",
          "1964-10-01T00:00:00",
          "1965-01-01T00:00:00",
          "1965-04-01T00:00:00",
          "1965-07-01T00:00:00",
          "1965-10-01T00:00:00",
          "1966-01-01T00:00:00",
          "1966-04-01T00:00:00",
          "1966-07-01T00:00:00",
          "1966-10-01T00:00:00",
          "1967-01-01T00:00:00",
          "1967-04-01T00:00:00",
          "1967-07-01T00:00:00",
          "1967-10-01T00:00:00",
          "1968-01-01T00:00:00",
          "1968-04-01T00:00:00",
          "1968-07-01T00:00:00",
          "1968-10-01T00:00:00",
          "1969-01-01T00:00:00",
          "1969-04-01T00:00:00",
          "1969-07-01T00:00:00",
          "1969-10-01T00:00:00",
          "1970-01-01T00:00:00",
          "1970-04-01T00:00:00",
          "1970-07-01T00:00:00",
          "1970-10-01T00:00:00",
          "1971-01-01T00:00:00",
          "1971-04-01T00:00:00",
          "1971-07-01T00:00:00",
          "1971-10-01T00:00:00",
          "1972-01-01T00:00:00",
          "1972-04-01T00:00:00",
          "1972-07-01T00:00:00",
          "1972-10-01T00:00:00",
          "1973-01-01T00:00:00",
          "1973-04-01T00:00:00",
          "1973-07-01T00:00:00",
          "1973-10-01T00:00:00",
          "1974-01-01T00:00:00",
          "1974-04-01T00:00:00",
          "1974-07-01T00:00:00",
          "1974-10-01T00:00:00",
          "1975-01-01T00:00:00",
          "1975-04-01T00:00:00",
          "1975-07-01T00:00:00",
          "1975-10-01T00:00:00",
          "1976-01-01T00:00:00",
          "1976-04-01T00:00:00",
          "1976-07-01T00:00:00",
          "1976-10-01T00:00:00",
          "1977-01-01T00:00:00",
          "1977-04-01T00:00:00",
          "1977-07-01T00:00:00",
          "1977-10-01T00:00:00",
          "1978-01-01T00:00:00",
          "1978-04-01T00:00:00",
          "1978-07-01T00:00:00",
          "1978-10-01T00:00:00",
          "1979-01-01T00:00:00",
          "1979-04-01T00:00:00",
          "1979-07-01T00:00:00",
          "1979-10-01T00:00:00",
          "1980-01-01T00:00:00",
          "1980-04-01T00:00:00",
          "1980-07-01T00:00:00",
          "1980-10-01T00:00:00",
          "1981-01-01T00:00:00",
          "1981-04-01T00:00:00",
          "1981-07-01T00:00:00",
          "1981-10-01T00:00:00",
          "1982-01-01T00:00:00",
          "1982-04-01T00:00:00",
          "1982-07-01T00:00:00",
          "1982-10-01T00:00:00",
          "1983-01-01T00:00:00",
          "1983-04-01T00:00:00",
          "1983-07-01T00:00:00",
          "1983-10-01T00:00:00",
          "1984-01-01T00:00:00",
          "1984-04-01T00:00:00",
          "1984-07-01T00:00:00",
          "1984-10-01T00:00:00",
          "1985-01-01T00:00:00",
          "1985-04-01T00:00:00",
          "1985-07-01T00:00:00",
          "1985-10-01T00:00:00",
          "1986-01-01T00:00:00",
          "1986-04-01T00:00:00",
          "1986-07-01T00:00:00",
          "1986-10-01T00:00:00",
          "1987-01-01T00:00:00",
          "1987-04-01T00:00:00",
          "1987-07-01T00:00:00",
          "1987-10-01T00:00:00",
          "1988-01-01T00:00:00",
          "1988-04-01T00:00:00",
          "1988-07-01T00:00:00",
          "1988-10-01T00:00:00",
          "1989-01-01T00:00:00",
          "1989-04-01T00:00:00",
          "1989-07-01T00:00:00",
          "1989-10-01T00:00:00",
          "1990-01-01T00:00:00",
          "1990-04-01T00:00:00",
          "1990-07-01T00:00:00",
          "1990-10-01T00:00:00",
          "1991-01-01T00:00:00",
          "1991-04-01T00:00:00",
          "1991-07-01T00:00:00",
          "1991-10-01T00:00:00",
          "1992-01-01T00:00:00",
          "1992-04-01T00:00:00",
          "1992-07-01T00:00:00",
          "1992-10-01T00:00:00",
          "1993-01-01T00:00:00",
          "1993-04-01T00:00:00",
          "1993-07-01T00:00:00",
          "1993-10-01T00:00:00",
          "1994-01-01T00:00:00",
          "1994-04-01T00:00:00",
          "1994-07-01T00:00:00",
          "1994-10-01T00:00:00",
          "1995-01-01T00:00:00",
          "1995-04-01T00:00:00",
          "1995-07-01T00:00:00",
          "1995-10-01T00:00:00",
          "1996-01-01T00:00:00",
          "1996-04-01T00:00:00",
          "1996-07-01T00:00:00",
          "1996-10-01T00:00:00",
          "1997-01-01T00:00:00",
          "1997-04-01T00:00:00",
          "1997-07-01T00:00:00",
          "1997-10-01T00:00:00",
          "1998-01-01T00:00:00",
          "1998-04-01T00:00:00",
          "1998-07-01T00:00:00",
          "1998-10-01T00:00:00",
          "1999-01-01T00:00:00",
          "1999-04-01T00:00:00",
          "1999-07-01T00:00:00",
          "1999-10-01T00:00:00",
          "2000-01-01T00:00:00",
          "2000-04-01T00:00:00",
          "2000-07-01T00:00:00",
          "2000-10-01T00:00:00",
          "2001-01-01T00:00:00",
          "2001-04-01T00:00:00",
          "2001-07-01T00:00:00",
          "2001-10-01T00:00:00",
          "2002-01-01T00:00:00",
          "2002-04-01T00:00:00",
          "2002-07-01T00:00:00",
          "2002-10-01T00:00:00",
          "2003-01-01T00:00:00",
          "2003-04-01T00:00:00",
          "2003-07-01T00:00:00",
          "2003-10-01T00:00:00",
          "2004-01-01T00:00:00",
          "2004-04-01T00:00:00",
          "2004-07-01T00:00:00",
          "2004-10-01T00:00:00",
          "2005-01-01T00:00:00",
          "2005-04-01T00:00:00",
          "2005-07-01T00:00:00",
          "2005-10-01T00:00:00",
          "2006-01-01T00:00:00",
          "2006-04-01T00:00:00",
          "2006-07-01T00:00:00",
          "2006-10-01T00:00:00",
          "2007-01-01T00:00:00",
          "2007-04-01T00:00:00",
          "2007-07-01T00:00:00",
          "2007-10-01T00:00:00",
          "2008-01-01T00:00:00",
          "2008-04-01T00:00:00",
          "2008-07-01T00:00:00",
          "2008-10-01T00:00:00",
          "2009-01-01T00:00:00",
          "2009-04-01T00:00:00",
          "2009-07-01T00:00:00",
          "2009-10-01T00:00:00",
          "2010-01-01T00:00:00",
          "2010-04-01T00:00:00",
          "2010-07-01T00:00:00",
          "2010-10-01T00:00:00",
          "2011-01-01T00:00:00",
          "2011-04-01T00:00:00",
          "2011-07-01T00:00:00",
          "2011-10-01T00:00:00",
          "2012-01-01T00:00:00",
          "2012-04-01T00:00:00",
          "2012-07-01T00:00:00",
          "2012-10-01T00:00:00",
          "2013-01-01T00:00:00",
          "2013-04-01T00:00:00",
          "2013-07-01T00:00:00",
          "2013-10-01T00:00:00",
          "2014-01-01T00:00:00",
          "2014-04-01T00:00:00",
          "2014-07-01T00:00:00",
          "2014-10-01T00:00:00",
          "2015-01-01T00:00:00",
          "2015-04-01T00:00:00",
          "2015-07-01T00:00:00",
          "2015-10-01T00:00:00",
          "2016-01-01T00:00:00",
          "2016-04-01T00:00:00",
          "2016-07-01T00:00:00",
          "2016-10-01T00:00:00",
          "2017-01-01T00:00:00",
          "2017-04-01T00:00:00",
          "2017-07-01T00:00:00",
          "2017-10-01T00:00:00",
          "2018-01-01T00:00:00",
          "2018-04-01T00:00:00",
          "2018-07-01T00:00:00",
          "2018-10-01T00:00:00",
          "2019-01-01T00:00:00",
          "2019-04-01T00:00:00",
          "2019-07-01T00:00:00",
          "2019-10-01T00:00:00"
         ],
         "xaxis": "x3",
         "y": [
          0.9997076991828474,
          1.0002545143305452,
          1.0006336934016449,
          0.9994040930849624,
          0.9997076991828474,
          1.0002545143305452,
          1.0006336934016449,
          0.9994040930849624,
          0.9997076991828474,
          1.0002545143305452,
          1.0006336934016449,
          0.9994040930849624,
          0.9997076991828474,
          1.0002545143305452,
          1.0006336934016449,
          0.9994040930849624,
          0.9997076991828474,
          1.0002545143305452,
          1.0006336934016449,
          0.9994040930849624,
          0.9997076991828474,
          1.0002545143305452,
          1.0006336934016449,
          0.9994040930849624,
          0.9997076991828474,
          1.0002545143305452,
          1.0006336934016449,
          0.9994040930849624,
          0.9997076991828474,
          1.0002545143305452,
          1.0006336934016449,
          0.9994040930849624,
          0.9997076991828474,
          1.0002545143305452,
          1.0006336934016449,
          0.9994040930849624,
          0.9997076991828474,
          1.0002545143305452,
          1.0006336934016449,
          0.9994040930849624,
          0.9997076991828474,
          1.0002545143305452,
          1.0006336934016449,
          0.9994040930849624,
          0.9997076991828474,
          1.0002545143305452,
          1.0006336934016449,
          0.9994040930849624,
          0.9997076991828474,
          1.0002545143305452,
          1.0006336934016449,
          0.9994040930849624,
          0.9997076991828474,
          1.0002545143305452,
          1.0006336934016449,
          0.9994040930849624,
          0.9997076991828474,
          1.0002545143305452,
          1.0006336934016449,
          0.9994040930849624,
          0.9997076991828474,
          1.0002545143305452,
          1.0006336934016449,
          0.9994040930849624,
          0.9997076991828474,
          1.0002545143305452,
          1.0006336934016449,
          0.9994040930849624,
          0.9997076991828474,
          1.0002545143305452,
          1.0006336934016449,
          0.9994040930849624,
          0.9997076991828474,
          1.0002545143305452,
          1.0006336934016449,
          0.9994040930849624,
          0.9997076991828474,
          1.0002545143305452,
          1.0006336934016449,
          0.9994040930849624,
          0.9997076991828474,
          1.0002545143305452,
          1.0006336934016449,
          0.9994040930849624,
          0.9997076991828474,
          1.0002545143305452,
          1.0006336934016449,
          0.9994040930849624,
          0.9997076991828474,
          1.0002545143305452,
          1.0006336934016449,
          0.9994040930849624,
          0.9997076991828474,
          1.0002545143305452,
          1.0006336934016449,
          0.9994040930849624,
          0.9997076991828474,
          1.0002545143305452,
          1.0006336934016449,
          0.9994040930849624,
          0.9997076991828474,
          1.0002545143305452,
          1.0006336934016449,
          0.9994040930849624,
          0.9997076991828474,
          1.0002545143305452,
          1.0006336934016449,
          0.9994040930849624,
          0.9997076991828474,
          1.0002545143305452,
          1.0006336934016449,
          0.9994040930849624,
          0.9997076991828474,
          1.0002545143305452,
          1.0006336934016449,
          0.9994040930849624,
          0.9997076991828474,
          1.0002545143305452,
          1.0006336934016449,
          0.9994040930849624,
          0.9997076991828474,
          1.0002545143305452,
          1.0006336934016449,
          0.9994040930849624,
          0.9997076991828474,
          1.0002545143305452,
          1.0006336934016449,
          0.9994040930849624,
          0.9997076991828474,
          1.0002545143305452,
          1.0006336934016449,
          0.9994040930849624,
          0.9997076991828474,
          1.0002545143305452,
          1.0006336934016449,
          0.9994040930849624,
          0.9997076991828474,
          1.0002545143305452,
          1.0006336934016449,
          0.9994040930849624,
          0.9997076991828474,
          1.0002545143305452,
          1.0006336934016449,
          0.9994040930849624,
          0.9997076991828474,
          1.0002545143305452,
          1.0006336934016449,
          0.9994040930849624,
          0.9997076991828474,
          1.0002545143305452,
          1.0006336934016449,
          0.9994040930849624,
          0.9997076991828474,
          1.0002545143305452,
          1.0006336934016449,
          0.9994040930849624,
          0.9997076991828474,
          1.0002545143305452,
          1.0006336934016449,
          0.9994040930849624,
          0.9997076991828474,
          1.0002545143305452,
          1.0006336934016449,
          0.9994040930849624,
          0.9997076991828474,
          1.0002545143305452,
          1.0006336934016449,
          0.9994040930849624,
          0.9997076991828474,
          1.0002545143305452,
          1.0006336934016449,
          0.9994040930849624,
          0.9997076991828474,
          1.0002545143305452,
          1.0006336934016449,
          0.9994040930849624,
          0.9997076991828474,
          1.0002545143305452,
          1.0006336934016449,
          0.9994040930849624,
          0.9997076991828474,
          1.0002545143305452,
          1.0006336934016449,
          0.9994040930849624,
          0.9997076991828474,
          1.0002545143305452,
          1.0006336934016449,
          0.9994040930849624,
          0.9997076991828474,
          1.0002545143305452,
          1.0006336934016449,
          0.9994040930849624,
          0.9997076991828474,
          1.0002545143305452,
          1.0006336934016449,
          0.9994040930849624,
          0.9997076991828474,
          1.0002545143305452,
          1.0006336934016449,
          0.9994040930849624,
          0.9997076991828474,
          1.0002545143305452,
          1.0006336934016449,
          0.9994040930849624,
          0.9997076991828474,
          1.0002545143305452,
          1.0006336934016449,
          0.9994040930849624,
          0.9997076991828474,
          1.0002545143305452,
          1.0006336934016449,
          0.9994040930849624,
          0.9997076991828474,
          1.0002545143305452,
          1.0006336934016449,
          0.9994040930849624,
          0.9997076991828474,
          1.0002545143305452,
          1.0006336934016449,
          0.9994040930849624,
          0.9997076991828474,
          1.0002545143305452,
          1.0006336934016449,
          0.9994040930849624,
          0.9997076991828474,
          1.0002545143305452,
          1.0006336934016449,
          0.9994040930849624,
          0.9997076991828474,
          1.0002545143305452,
          1.0006336934016449,
          0.9994040930849624,
          0.9997076991828474,
          1.0002545143305452,
          1.0006336934016449,
          0.9994040930849624,
          0.9997076991828474,
          1.0002545143305452,
          1.0006336934016449,
          0.9994040930849624,
          0.9997076991828474,
          1.0002545143305452,
          1.0006336934016449,
          0.9994040930849624,
          0.9997076991828474,
          1.0002545143305452,
          1.0006336934016449,
          0.9994040930849624,
          0.9997076991828474,
          1.0002545143305452,
          1.0006336934016449,
          0.9994040930849624,
          0.9997076991828474,
          1.0002545143305452,
          1.0006336934016449,
          0.9994040930849624,
          0.9997076991828474,
          1.0002545143305452,
          1.0006336934016449,
          0.9994040930849624,
          0.9997076991828474,
          1.0002545143305452,
          1.0006336934016449,
          0.9994040930849624,
          0.9997076991828474,
          1.0002545143305452,
          1.0006336934016449,
          0.9994040930849624,
          0.9997076991828474,
          1.0002545143305452,
          1.0006336934016449,
          0.9994040930849624,
          0.9997076991828474,
          1.0002545143305452,
          1.0006336934016449,
          0.9994040930849624,
          0.9997076991828474,
          1.0002545143305452,
          1.0006336934016449,
          0.9994040930849624,
          0.9997076991828474,
          1.0002545143305452,
          1.0006336934016449,
          0.9994040930849624,
          0.9997076991828474,
          1.0002545143305452,
          1.0006336934016449,
          0.9994040930849624,
          0.9997076991828474,
          1.0002545143305452,
          1.0006336934016449,
          0.9994040930849624
         ],
         "yaxis": "y3"
        },
        {
         "hovertemplate": "x=%{x}<br>y=%{y}<extra></extra>",
         "legendgroup": "",
         "line": {
          "color": "red",
          "dash": "solid"
         },
         "marker": {
          "symbol": "circle"
         },
         "mode": "lines",
         "name": "",
         "orientation": "v",
         "showlegend": false,
         "type": "scatter",
         "x": [
          "1947-01-01T00:00:00",
          "1947-04-01T00:00:00",
          "1947-07-01T00:00:00",
          "1947-10-01T00:00:00",
          "1948-01-01T00:00:00",
          "1948-04-01T00:00:00",
          "1948-07-01T00:00:00",
          "1948-10-01T00:00:00",
          "1949-01-01T00:00:00",
          "1949-04-01T00:00:00",
          "1949-07-01T00:00:00",
          "1949-10-01T00:00:00",
          "1950-01-01T00:00:00",
          "1950-04-01T00:00:00",
          "1950-07-01T00:00:00",
          "1950-10-01T00:00:00",
          "1951-01-01T00:00:00",
          "1951-04-01T00:00:00",
          "1951-07-01T00:00:00",
          "1951-10-01T00:00:00",
          "1952-01-01T00:00:00",
          "1952-04-01T00:00:00",
          "1952-07-01T00:00:00",
          "1952-10-01T00:00:00",
          "1953-01-01T00:00:00",
          "1953-04-01T00:00:00",
          "1953-07-01T00:00:00",
          "1953-10-01T00:00:00",
          "1954-01-01T00:00:00",
          "1954-04-01T00:00:00",
          "1954-07-01T00:00:00",
          "1954-10-01T00:00:00",
          "1955-01-01T00:00:00",
          "1955-04-01T00:00:00",
          "1955-07-01T00:00:00",
          "1955-10-01T00:00:00",
          "1956-01-01T00:00:00",
          "1956-04-01T00:00:00",
          "1956-07-01T00:00:00",
          "1956-10-01T00:00:00",
          "1957-01-01T00:00:00",
          "1957-04-01T00:00:00",
          "1957-07-01T00:00:00",
          "1957-10-01T00:00:00",
          "1958-01-01T00:00:00",
          "1958-04-01T00:00:00",
          "1958-07-01T00:00:00",
          "1958-10-01T00:00:00",
          "1959-01-01T00:00:00",
          "1959-04-01T00:00:00",
          "1959-07-01T00:00:00",
          "1959-10-01T00:00:00",
          "1960-01-01T00:00:00",
          "1960-04-01T00:00:00",
          "1960-07-01T00:00:00",
          "1960-10-01T00:00:00",
          "1961-01-01T00:00:00",
          "1961-04-01T00:00:00",
          "1961-07-01T00:00:00",
          "1961-10-01T00:00:00",
          "1962-01-01T00:00:00",
          "1962-04-01T00:00:00",
          "1962-07-01T00:00:00",
          "1962-10-01T00:00:00",
          "1963-01-01T00:00:00",
          "1963-04-01T00:00:00",
          "1963-07-01T00:00:00",
          "1963-10-01T00:00:00",
          "1964-01-01T00:00:00",
          "1964-04-01T00:00:00",
          "1964-07-01T00:00:00",
          "1964-10-01T00:00:00",
          "1965-01-01T00:00:00",
          "1965-04-01T00:00:00",
          "1965-07-01T00:00:00",
          "1965-10-01T00:00:00",
          "1966-01-01T00:00:00",
          "1966-04-01T00:00:00",
          "1966-07-01T00:00:00",
          "1966-10-01T00:00:00",
          "1967-01-01T00:00:00",
          "1967-04-01T00:00:00",
          "1967-07-01T00:00:00",
          "1967-10-01T00:00:00",
          "1968-01-01T00:00:00",
          "1968-04-01T00:00:00",
          "1968-07-01T00:00:00",
          "1968-10-01T00:00:00",
          "1969-01-01T00:00:00",
          "1969-04-01T00:00:00",
          "1969-07-01T00:00:00",
          "1969-10-01T00:00:00",
          "1970-01-01T00:00:00",
          "1970-04-01T00:00:00",
          "1970-07-01T00:00:00",
          "1970-10-01T00:00:00",
          "1971-01-01T00:00:00",
          "1971-04-01T00:00:00",
          "1971-07-01T00:00:00",
          "1971-10-01T00:00:00",
          "1972-01-01T00:00:00",
          "1972-04-01T00:00:00",
          "1972-07-01T00:00:00",
          "1972-10-01T00:00:00",
          "1973-01-01T00:00:00",
          "1973-04-01T00:00:00",
          "1973-07-01T00:00:00",
          "1973-10-01T00:00:00",
          "1974-01-01T00:00:00",
          "1974-04-01T00:00:00",
          "1974-07-01T00:00:00",
          "1974-10-01T00:00:00",
          "1975-01-01T00:00:00",
          "1975-04-01T00:00:00",
          "1975-07-01T00:00:00",
          "1975-10-01T00:00:00",
          "1976-01-01T00:00:00",
          "1976-04-01T00:00:00",
          "1976-07-01T00:00:00",
          "1976-10-01T00:00:00",
          "1977-01-01T00:00:00",
          "1977-04-01T00:00:00",
          "1977-07-01T00:00:00",
          "1977-10-01T00:00:00",
          "1978-01-01T00:00:00",
          "1978-04-01T00:00:00",
          "1978-07-01T00:00:00",
          "1978-10-01T00:00:00",
          "1979-01-01T00:00:00",
          "1979-04-01T00:00:00",
          "1979-07-01T00:00:00",
          "1979-10-01T00:00:00",
          "1980-01-01T00:00:00",
          "1980-04-01T00:00:00",
          "1980-07-01T00:00:00",
          "1980-10-01T00:00:00",
          "1981-01-01T00:00:00",
          "1981-04-01T00:00:00",
          "1981-07-01T00:00:00",
          "1981-10-01T00:00:00",
          "1982-01-01T00:00:00",
          "1982-04-01T00:00:00",
          "1982-07-01T00:00:00",
          "1982-10-01T00:00:00",
          "1983-01-01T00:00:00",
          "1983-04-01T00:00:00",
          "1983-07-01T00:00:00",
          "1983-10-01T00:00:00",
          "1984-01-01T00:00:00",
          "1984-04-01T00:00:00",
          "1984-07-01T00:00:00",
          "1984-10-01T00:00:00",
          "1985-01-01T00:00:00",
          "1985-04-01T00:00:00",
          "1985-07-01T00:00:00",
          "1985-10-01T00:00:00",
          "1986-01-01T00:00:00",
          "1986-04-01T00:00:00",
          "1986-07-01T00:00:00",
          "1986-10-01T00:00:00",
          "1987-01-01T00:00:00",
          "1987-04-01T00:00:00",
          "1987-07-01T00:00:00",
          "1987-10-01T00:00:00",
          "1988-01-01T00:00:00",
          "1988-04-01T00:00:00",
          "1988-07-01T00:00:00",
          "1988-10-01T00:00:00",
          "1989-01-01T00:00:00",
          "1989-04-01T00:00:00",
          "1989-07-01T00:00:00",
          "1989-10-01T00:00:00",
          "1990-01-01T00:00:00",
          "1990-04-01T00:00:00",
          "1990-07-01T00:00:00",
          "1990-10-01T00:00:00",
          "1991-01-01T00:00:00",
          "1991-04-01T00:00:00",
          "1991-07-01T00:00:00",
          "1991-10-01T00:00:00",
          "1992-01-01T00:00:00",
          "1992-04-01T00:00:00",
          "1992-07-01T00:00:00",
          "1992-10-01T00:00:00",
          "1993-01-01T00:00:00",
          "1993-04-01T00:00:00",
          "1993-07-01T00:00:00",
          "1993-10-01T00:00:00",
          "1994-01-01T00:00:00",
          "1994-04-01T00:00:00",
          "1994-07-01T00:00:00",
          "1994-10-01T00:00:00",
          "1995-01-01T00:00:00",
          "1995-04-01T00:00:00",
          "1995-07-01T00:00:00",
          "1995-10-01T00:00:00",
          "1996-01-01T00:00:00",
          "1996-04-01T00:00:00",
          "1996-07-01T00:00:00",
          "1996-10-01T00:00:00",
          "1997-01-01T00:00:00",
          "1997-04-01T00:00:00",
          "1997-07-01T00:00:00",
          "1997-10-01T00:00:00",
          "1998-01-01T00:00:00",
          "1998-04-01T00:00:00",
          "1998-07-01T00:00:00",
          "1998-10-01T00:00:00",
          "1999-01-01T00:00:00",
          "1999-04-01T00:00:00",
          "1999-07-01T00:00:00",
          "1999-10-01T00:00:00",
          "2000-01-01T00:00:00",
          "2000-04-01T00:00:00",
          "2000-07-01T00:00:00",
          "2000-10-01T00:00:00",
          "2001-01-01T00:00:00",
          "2001-04-01T00:00:00",
          "2001-07-01T00:00:00",
          "2001-10-01T00:00:00",
          "2002-01-01T00:00:00",
          "2002-04-01T00:00:00",
          "2002-07-01T00:00:00",
          "2002-10-01T00:00:00",
          "2003-01-01T00:00:00",
          "2003-04-01T00:00:00",
          "2003-07-01T00:00:00",
          "2003-10-01T00:00:00",
          "2004-01-01T00:00:00",
          "2004-04-01T00:00:00",
          "2004-07-01T00:00:00",
          "2004-10-01T00:00:00",
          "2005-01-01T00:00:00",
          "2005-04-01T00:00:00",
          "2005-07-01T00:00:00",
          "2005-10-01T00:00:00",
          "2006-01-01T00:00:00",
          "2006-04-01T00:00:00",
          "2006-07-01T00:00:00",
          "2006-10-01T00:00:00",
          "2007-01-01T00:00:00",
          "2007-04-01T00:00:00",
          "2007-07-01T00:00:00",
          "2007-10-01T00:00:00",
          "2008-01-01T00:00:00",
          "2008-04-01T00:00:00",
          "2008-07-01T00:00:00",
          "2008-10-01T00:00:00",
          "2009-01-01T00:00:00",
          "2009-04-01T00:00:00",
          "2009-07-01T00:00:00",
          "2009-10-01T00:00:00",
          "2010-01-01T00:00:00",
          "2010-04-01T00:00:00",
          "2010-07-01T00:00:00",
          "2010-10-01T00:00:00",
          "2011-01-01T00:00:00",
          "2011-04-01T00:00:00",
          "2011-07-01T00:00:00",
          "2011-10-01T00:00:00",
          "2012-01-01T00:00:00",
          "2012-04-01T00:00:00",
          "2012-07-01T00:00:00",
          "2012-10-01T00:00:00",
          "2013-01-01T00:00:00",
          "2013-04-01T00:00:00",
          "2013-07-01T00:00:00",
          "2013-10-01T00:00:00",
          "2014-01-01T00:00:00",
          "2014-04-01T00:00:00",
          "2014-07-01T00:00:00",
          "2014-10-01T00:00:00",
          "2015-01-01T00:00:00",
          "2015-04-01T00:00:00",
          "2015-07-01T00:00:00",
          "2015-10-01T00:00:00",
          "2016-01-01T00:00:00",
          "2016-04-01T00:00:00",
          "2016-07-01T00:00:00",
          "2016-10-01T00:00:00",
          "2017-01-01T00:00:00",
          "2017-04-01T00:00:00",
          "2017-07-01T00:00:00",
          "2017-10-01T00:00:00",
          "2018-01-01T00:00:00",
          "2018-04-01T00:00:00",
          "2018-07-01T00:00:00",
          "2018-10-01T00:00:00",
          "2019-01-01T00:00:00",
          "2019-04-01T00:00:00",
          "2019-07-01T00:00:00",
          "2019-10-01T00:00:00"
         ],
         "xaxis": "x4",
         "y": [
          null,
          null,
          0.9905641361806384,
          0.9983852897152864,
          1.0008289000866895,
          1.0053988892530714,
          1.0048529173783611,
          1.0073633506391062,
          0.9952117800476836,
          0.9939334191579268,
          1.0010528803850833,
          0.9804136140512829,
          0.9970499587076056,
          0.9984555224116405,
          1.0080394158908919,
          1.0049379876966613,
          0.9985182788112071,
          0.9997694003087039,
          1.0069126332250946,
          0.999660158314813,
          1.0028240180911674,
          0.995051680908114,
          0.9877495143845861,
          1.0054592873752901,
          1.0089245210803646,
          1.0089594139703146,
          1.0044977667051982,
          0.9957906283220707,
          0.9947675372066844,
          0.9928945264319119,
          0.992759554332359,
          0.9963745161470277,
          1.0052465508269564,
          1.0033525812505457,
          1.004599419094035,
          1.0049386678027161,
          0.9966060448716013,
          1.0006173457673178,
          0.9931123816614017,
          1.004449206196642,
          1.00430646518803,
          0.9973569349827605,
          1.0099285751507834,
          1.0068786088882111,
          0.9838503723227117,
          0.9873745068981363,
          0.9974201499144655,
          1.0018531638447443,
          1.001614411263648,
          1.0097987636305104,
          0.9985051106891539,
          0.9940519822480369,
          1.0104004561874549,
          1.0002516493584666,
          1.0045210842224965,
          0.9917435108343542,
          0.9924464094762079,
          0.9971393686987815,
          0.9988501171113977,
          1.0022836543307576,
          1.0043047009982304,
          1.000251881350048,
          1.0024287875007238,
          0.9978319924210166,
          0.9977658323833882,
          0.996173726526411,
          1.0036955436665291,
          0.9964294533586753,
          1.0027826688175194,
          1.000086614917511,
          1.002274933574168,
          0.9930296511154841,
          1.001979829650239,
          0.9960732583894176,
          0.9973006420702949,
          1.0021367484965706,
          1.0096991729375095,
          0.9997725698013876,
          0.9987462423838588,
          1.0012915050328797,
          1.0031884251099568,
          0.9965831719982292,
          0.997565506144187,
          0.9948164017677659,
          1.0014556499769909,
          1.0049899291286055,
          1.0008511963143127,
          0.9967800868714392,
          1.0046048420371463,
          1.0009403561524712,
          1.0042378232072513,
          0.9999624286032202,
          0.997442737651528,
          0.9979909004973914,
          1.003642159674011,
          0.9869875696547462,
          1.005858739229524,
          1.001671100677032,
          0.9999066323703137,
          0.9927678668517658,
          0.9976400502655483,
          1.004643662161474,
          0.9962107766660966,
          0.9972564134129602,
          1.0080009734783677,
          1.0076217437892023,
          0.9962742999454903,
          1.006434651854041,
          0.998521433350987,
          1.003591878927306,
          0.9990593972803887,
          1.0016219547457952,
          0.9904389075127995,
          0.9927963932075963,
          0.9986520852229817,
          0.9982875593783154,
          1.006765226852927,
          1.002242832815601,
          0.9981152708604486,
          0.9970928940065215,
          0.9959879227561598,
          1.001562448965505,
          1.0080162453446924,
          0.996789493297087,
          0.9858977071393407,
          1.0086895250969043,
          1.0024433862608941,
          1.0060222343941134,
          1.0012910070722925,
          0.9972762471559401,
          1.0009340348496572,
          1.003868014546589,
          1.0097424205624146,
          0.990463037204517,
          0.98696298327437,
          1.0009125760108388,
          1.0111566691964977,
          0.9962664855754908,
          1.0089740793575304,
          1.0032338353461747,
          0.9918152786609359,
          1.0008697531551838,
          0.9967084521591628,
          0.9925036516191635,
          0.9941660489509833,
          0.9995226105188545,
          0.9991254517548267,
          1.0011277610701528,
          1.0022871676735556,
          1.003835041281195,
          1.0007517149976262,
          1.0000879360476909,
          0.9996723221736815,
          0.9975431072280098,
          1.002124789071821,
          1.0011611425914482,
          1.001786425783229,
          0.9983135997261888,
          1.0005268109489036,
          0.9996254560684451,
          0.998589252417512,
          0.9992448344844909,
          0.9968272828345819,
          1.0044121471631196,
          0.9986521941785862,
          1.0013724077111108,
          0.9968859388649486,
          1.0014712241886168,
          1.001901079247601,
          1.000808987672126,
          1.00095839290643,
          0.9977013301773874,
          1.0031538537746372,
          1.0033491703702675,
          1.004080255456658,
          0.998024253386455,
          0.9938552064874786,
          0.999731183158538,
          0.9994058667677855,
          0.9966773104997668,
          0.9998422166870828,
          1.0002082426306877,
          1.0002411500442063,
          1.0043375293372216,
          0.999423734422423,
          0.9986280166706123,
          0.9955558270792255,
          1.0008657686537912,
          0.999735128814922,
          1.00231783714449,
          0.9984644990787381,
          1.0038695316309607,
          1.0008438704439535,
          0.9972623435251172,
          0.9994096265268285,
          0.9992646898645747,
          0.9965355364733787,
          1.0021431450675946,
          1.000023647909288,
          1.0010387061969854,
          0.9961679367739164,
          1.0008882218668713,
          1.001540433905923,
          1.0004035426410012,
          1.0000052092929599,
          0.9976736725634348,
          0.9978795891973297,
          1.00357197934238,
          1.0012446380118842,
          0.9967173562241802,
          0.9983246564349646,
          1.004818517775172,
          0.996700565953563,
          1.0056844881739526,
          1.0001346291059743,
          1.0034338436713137,
          0.9983289492884002,
          1.0027953242287644,
          0.9964263371158643,
          0.9970625310522581,
          1.0010501976819703,
          1.0012207800185928,
          1.0005011987727757,
          0.9985695864874392,
          0.9971951613626036,
          0.9958164002555568,
          1.0017004931367166,
          1.0039707489550846,
          0.9996464730876009,
          0.9984334951210644,
          0.998662129079792,
          1.0007399271681148,
          1.0027808902226465,
          0.9986932309596137,
          0.9992076875045937,
          0.9987644628382942,
          1.004942301751595,
          1.0006112612881872,
          0.9967538201186489,
          1.0023584064021778,
          0.9993960580092369,
          0.9993726236340257,
          1.000545107851786,
          1.005069146531032,
          0.9976344217230877,
          1.0057072757851928,
          1.0075193780027067,
          0.9960134986768027,
          0.9933701791218674,
          0.9950632940749133,
          0.9959562273247232,
          1.0025239722333186,
          0.9986971017146007,
          1.000249901887659,
          1.0016684265790825,
          1.0033987791903132,
          0.9973758034797867,
          1.0007647749507267,
          0.9948362373820209,
          1.0013823255206247,
          1.0028517790628324,
          1.0016735042695666,
          0.9988719879449774,
          0.9977207432356576,
          1.0022867780061107,
          0.9973665854365751,
          0.9997972179589599,
          1.003915725820417,
          0.9936413840220273,
          0.9991143882036096,
          1.002449854172792,
          1.0003171100153792,
          1.0007104644103046,
          1.0021960285033829,
          1.0007690949285228,
          0.9986540238968176,
          0.9997663609672403,
          0.9994590109632079,
          0.9993741250001997,
          1.0003455406910275,
          1.0000298020113834,
          0.9983741469458909,
          0.9988911039581275,
          1.0013612345832843,
          0.9995608596286824,
          1.0006928738535523,
          1.001153203602831,
          0.9990092849777953,
          1.0009470748528544,
          0.9999496408552657,
          null,
          null
         ],
         "yaxis": "y4"
        }
       ],
       "layout": {
        "annotations": [
         {
          "font": {
           "size": 16
          },
          "showarrow": false,
          "text": "Original Time Series",
          "x": 0.5,
          "xanchor": "center",
          "xref": "paper",
          "y": 1,
          "yanchor": "bottom",
          "yref": "paper"
         },
         {
          "font": {
           "size": 16
          },
          "showarrow": false,
          "text": "Trend Component",
          "x": 0.5,
          "xanchor": "center",
          "xref": "paper",
          "y": 0.71875,
          "yanchor": "bottom",
          "yref": "paper"
         },
         {
          "font": {
           "size": 16
          },
          "showarrow": false,
          "text": "Seasonal Component",
          "x": 0.5,
          "xanchor": "center",
          "xref": "paper",
          "y": 0.4375,
          "yanchor": "bottom",
          "yref": "paper"
         },
         {
          "font": {
           "size": 16
          },
          "showarrow": false,
          "text": "Residual Component",
          "x": 0.5,
          "xanchor": "center",
          "xref": "paper",
          "y": 0.15625,
          "yanchor": "bottom",
          "yref": "paper"
         }
        ],
        "height": 1000,
        "showlegend": false,
        "template": {
         "data": {
          "bar": [
           {
            "error_x": {
             "color": "#2a3f5f"
            },
            "error_y": {
             "color": "#2a3f5f"
            },
            "marker": {
             "line": {
              "color": "#E5ECF6",
              "width": 0.5
             },
             "pattern": {
              "fillmode": "overlay",
              "size": 10,
              "solidity": 0.2
             }
            },
            "type": "bar"
           }
          ],
          "barpolar": [
           {
            "marker": {
             "line": {
              "color": "#E5ECF6",
              "width": 0.5
             },
             "pattern": {
              "fillmode": "overlay",
              "size": 10,
              "solidity": 0.2
             }
            },
            "type": "barpolar"
           }
          ],
          "carpet": [
           {
            "aaxis": {
             "endlinecolor": "#2a3f5f",
             "gridcolor": "white",
             "linecolor": "white",
             "minorgridcolor": "white",
             "startlinecolor": "#2a3f5f"
            },
            "baxis": {
             "endlinecolor": "#2a3f5f",
             "gridcolor": "white",
             "linecolor": "white",
             "minorgridcolor": "white",
             "startlinecolor": "#2a3f5f"
            },
            "type": "carpet"
           }
          ],
          "choropleth": [
           {
            "colorbar": {
             "outlinewidth": 0,
             "ticks": ""
            },
            "type": "choropleth"
           }
          ],
          "contour": [
           {
            "colorbar": {
             "outlinewidth": 0,
             "ticks": ""
            },
            "colorscale": [
             [
              0,
              "#0d0887"
             ],
             [
              0.1111111111111111,
              "#46039f"
             ],
             [
              0.2222222222222222,
              "#7201a8"
             ],
             [
              0.3333333333333333,
              "#9c179e"
             ],
             [
              0.4444444444444444,
              "#bd3786"
             ],
             [
              0.5555555555555556,
              "#d8576b"
             ],
             [
              0.6666666666666666,
              "#ed7953"
             ],
             [
              0.7777777777777778,
              "#fb9f3a"
             ],
             [
              0.8888888888888888,
              "#fdca26"
             ],
             [
              1,
              "#f0f921"
             ]
            ],
            "type": "contour"
           }
          ],
          "contourcarpet": [
           {
            "colorbar": {
             "outlinewidth": 0,
             "ticks": ""
            },
            "type": "contourcarpet"
           }
          ],
          "heatmap": [
           {
            "colorbar": {
             "outlinewidth": 0,
             "ticks": ""
            },
            "colorscale": [
             [
              0,
              "#0d0887"
             ],
             [
              0.1111111111111111,
              "#46039f"
             ],
             [
              0.2222222222222222,
              "#7201a8"
             ],
             [
              0.3333333333333333,
              "#9c179e"
             ],
             [
              0.4444444444444444,
              "#bd3786"
             ],
             [
              0.5555555555555556,
              "#d8576b"
             ],
             [
              0.6666666666666666,
              "#ed7953"
             ],
             [
              0.7777777777777778,
              "#fb9f3a"
             ],
             [
              0.8888888888888888,
              "#fdca26"
             ],
             [
              1,
              "#f0f921"
             ]
            ],
            "type": "heatmap"
           }
          ],
          "heatmapgl": [
           {
            "colorbar": {
             "outlinewidth": 0,
             "ticks": ""
            },
            "colorscale": [
             [
              0,
              "#0d0887"
             ],
             [
              0.1111111111111111,
              "#46039f"
             ],
             [
              0.2222222222222222,
              "#7201a8"
             ],
             [
              0.3333333333333333,
              "#9c179e"
             ],
             [
              0.4444444444444444,
              "#bd3786"
             ],
             [
              0.5555555555555556,
              "#d8576b"
             ],
             [
              0.6666666666666666,
              "#ed7953"
             ],
             [
              0.7777777777777778,
              "#fb9f3a"
             ],
             [
              0.8888888888888888,
              "#fdca26"
             ],
             [
              1,
              "#f0f921"
             ]
            ],
            "type": "heatmapgl"
           }
          ],
          "histogram": [
           {
            "marker": {
             "pattern": {
              "fillmode": "overlay",
              "size": 10,
              "solidity": 0.2
             }
            },
            "type": "histogram"
           }
          ],
          "histogram2d": [
           {
            "colorbar": {
             "outlinewidth": 0,
             "ticks": ""
            },
            "colorscale": [
             [
              0,
              "#0d0887"
             ],
             [
              0.1111111111111111,
              "#46039f"
             ],
             [
              0.2222222222222222,
              "#7201a8"
             ],
             [
              0.3333333333333333,
              "#9c179e"
             ],
             [
              0.4444444444444444,
              "#bd3786"
             ],
             [
              0.5555555555555556,
              "#d8576b"
             ],
             [
              0.6666666666666666,
              "#ed7953"
             ],
             [
              0.7777777777777778,
              "#fb9f3a"
             ],
             [
              0.8888888888888888,
              "#fdca26"
             ],
             [
              1,
              "#f0f921"
             ]
            ],
            "type": "histogram2d"
           }
          ],
          "histogram2dcontour": [
           {
            "colorbar": {
             "outlinewidth": 0,
             "ticks": ""
            },
            "colorscale": [
             [
              0,
              "#0d0887"
             ],
             [
              0.1111111111111111,
              "#46039f"
             ],
             [
              0.2222222222222222,
              "#7201a8"
             ],
             [
              0.3333333333333333,
              "#9c179e"
             ],
             [
              0.4444444444444444,
              "#bd3786"
             ],
             [
              0.5555555555555556,
              "#d8576b"
             ],
             [
              0.6666666666666666,
              "#ed7953"
             ],
             [
              0.7777777777777778,
              "#fb9f3a"
             ],
             [
              0.8888888888888888,
              "#fdca26"
             ],
             [
              1,
              "#f0f921"
             ]
            ],
            "type": "histogram2dcontour"
           }
          ],
          "mesh3d": [
           {
            "colorbar": {
             "outlinewidth": 0,
             "ticks": ""
            },
            "type": "mesh3d"
           }
          ],
          "parcoords": [
           {
            "line": {
             "colorbar": {
              "outlinewidth": 0,
              "ticks": ""
             }
            },
            "type": "parcoords"
           }
          ],
          "pie": [
           {
            "automargin": true,
            "type": "pie"
           }
          ],
          "scatter": [
           {
            "marker": {
             "colorbar": {
              "outlinewidth": 0,
              "ticks": ""
             }
            },
            "type": "scatter"
           }
          ],
          "scatter3d": [
           {
            "line": {
             "colorbar": {
              "outlinewidth": 0,
              "ticks": ""
             }
            },
            "marker": {
             "colorbar": {
              "outlinewidth": 0,
              "ticks": ""
             }
            },
            "type": "scatter3d"
           }
          ],
          "scattercarpet": [
           {
            "marker": {
             "colorbar": {
              "outlinewidth": 0,
              "ticks": ""
             }
            },
            "type": "scattercarpet"
           }
          ],
          "scattergeo": [
           {
            "marker": {
             "colorbar": {
              "outlinewidth": 0,
              "ticks": ""
             }
            },
            "type": "scattergeo"
           }
          ],
          "scattergl": [
           {
            "marker": {
             "colorbar": {
              "outlinewidth": 0,
              "ticks": ""
             }
            },
            "type": "scattergl"
           }
          ],
          "scattermapbox": [
           {
            "marker": {
             "colorbar": {
              "outlinewidth": 0,
              "ticks": ""
             }
            },
            "type": "scattermapbox"
           }
          ],
          "scatterpolar": [
           {
            "marker": {
             "colorbar": {
              "outlinewidth": 0,
              "ticks": ""
             }
            },
            "type": "scatterpolar"
           }
          ],
          "scatterpolargl": [
           {
            "marker": {
             "colorbar": {
              "outlinewidth": 0,
              "ticks": ""
             }
            },
            "type": "scatterpolargl"
           }
          ],
          "scatterternary": [
           {
            "marker": {
             "colorbar": {
              "outlinewidth": 0,
              "ticks": ""
             }
            },
            "type": "scatterternary"
           }
          ],
          "surface": [
           {
            "colorbar": {
             "outlinewidth": 0,
             "ticks": ""
            },
            "colorscale": [
             [
              0,
              "#0d0887"
             ],
             [
              0.1111111111111111,
              "#46039f"
             ],
             [
              0.2222222222222222,
              "#7201a8"
             ],
             [
              0.3333333333333333,
              "#9c179e"
             ],
             [
              0.4444444444444444,
              "#bd3786"
             ],
             [
              0.5555555555555556,
              "#d8576b"
             ],
             [
              0.6666666666666666,
              "#ed7953"
             ],
             [
              0.7777777777777778,
              "#fb9f3a"
             ],
             [
              0.8888888888888888,
              "#fdca26"
             ],
             [
              1,
              "#f0f921"
             ]
            ],
            "type": "surface"
           }
          ],
          "table": [
           {
            "cells": {
             "fill": {
              "color": "#EBF0F8"
             },
             "line": {
              "color": "white"
             }
            },
            "header": {
             "fill": {
              "color": "#C8D4E3"
             },
             "line": {
              "color": "white"
             }
            },
            "type": "table"
           }
          ]
         },
         "layout": {
          "annotationdefaults": {
           "arrowcolor": "#2a3f5f",
           "arrowhead": 0,
           "arrowwidth": 1
          },
          "autotypenumbers": "strict",
          "coloraxis": {
           "colorbar": {
            "outlinewidth": 0,
            "ticks": ""
           }
          },
          "colorscale": {
           "diverging": [
            [
             0,
             "#8e0152"
            ],
            [
             0.1,
             "#c51b7d"
            ],
            [
             0.2,
             "#de77ae"
            ],
            [
             0.3,
             "#f1b6da"
            ],
            [
             0.4,
             "#fde0ef"
            ],
            [
             0.5,
             "#f7f7f7"
            ],
            [
             0.6,
             "#e6f5d0"
            ],
            [
             0.7,
             "#b8e186"
            ],
            [
             0.8,
             "#7fbc41"
            ],
            [
             0.9,
             "#4d9221"
            ],
            [
             1,
             "#276419"
            ]
           ],
           "sequential": [
            [
             0,
             "#0d0887"
            ],
            [
             0.1111111111111111,
             "#46039f"
            ],
            [
             0.2222222222222222,
             "#7201a8"
            ],
            [
             0.3333333333333333,
             "#9c179e"
            ],
            [
             0.4444444444444444,
             "#bd3786"
            ],
            [
             0.5555555555555556,
             "#d8576b"
            ],
            [
             0.6666666666666666,
             "#ed7953"
            ],
            [
             0.7777777777777778,
             "#fb9f3a"
            ],
            [
             0.8888888888888888,
             "#fdca26"
            ],
            [
             1,
             "#f0f921"
            ]
           ],
           "sequentialminus": [
            [
             0,
             "#0d0887"
            ],
            [
             0.1111111111111111,
             "#46039f"
            ],
            [
             0.2222222222222222,
             "#7201a8"
            ],
            [
             0.3333333333333333,
             "#9c179e"
            ],
            [
             0.4444444444444444,
             "#bd3786"
            ],
            [
             0.5555555555555556,
             "#d8576b"
            ],
            [
             0.6666666666666666,
             "#ed7953"
            ],
            [
             0.7777777777777778,
             "#fb9f3a"
            ],
            [
             0.8888888888888888,
             "#fdca26"
            ],
            [
             1,
             "#f0f921"
            ]
           ]
          },
          "colorway": [
           "#636efa",
           "#EF553B",
           "#00cc96",
           "#ab63fa",
           "#FFA15A",
           "#19d3f3",
           "#FF6692",
           "#B6E880",
           "#FF97FF",
           "#FECB52"
          ],
          "font": {
           "color": "#2a3f5f"
          },
          "geo": {
           "bgcolor": "white",
           "lakecolor": "white",
           "landcolor": "#E5ECF6",
           "showlakes": true,
           "showland": true,
           "subunitcolor": "white"
          },
          "hoverlabel": {
           "align": "left"
          },
          "hovermode": "closest",
          "mapbox": {
           "style": "light"
          },
          "paper_bgcolor": "white",
          "plot_bgcolor": "#E5ECF6",
          "polar": {
           "angularaxis": {
            "gridcolor": "white",
            "linecolor": "white",
            "ticks": ""
           },
           "bgcolor": "#E5ECF6",
           "radialaxis": {
            "gridcolor": "white",
            "linecolor": "white",
            "ticks": ""
           }
          },
          "scene": {
           "xaxis": {
            "backgroundcolor": "#E5ECF6",
            "gridcolor": "white",
            "gridwidth": 2,
            "linecolor": "white",
            "showbackground": true,
            "ticks": "",
            "zerolinecolor": "white"
           },
           "yaxis": {
            "backgroundcolor": "#E5ECF6",
            "gridcolor": "white",
            "gridwidth": 2,
            "linecolor": "white",
            "showbackground": true,
            "ticks": "",
            "zerolinecolor": "white"
           },
           "zaxis": {
            "backgroundcolor": "#E5ECF6",
            "gridcolor": "white",
            "gridwidth": 2,
            "linecolor": "white",
            "showbackground": true,
            "ticks": "",
            "zerolinecolor": "white"
           }
          },
          "shapedefaults": {
           "line": {
            "color": "#2a3f5f"
           }
          },
          "ternary": {
           "aaxis": {
            "gridcolor": "white",
            "linecolor": "white",
            "ticks": ""
           },
           "baxis": {
            "gridcolor": "white",
            "linecolor": "white",
            "ticks": ""
           },
           "bgcolor": "#E5ECF6",
           "caxis": {
            "gridcolor": "white",
            "linecolor": "white",
            "ticks": ""
           }
          },
          "title": {
           "x": 0.05
          },
          "xaxis": {
           "automargin": true,
           "gridcolor": "white",
           "linecolor": "white",
           "ticks": "",
           "title": {
            "standoff": 15
           },
           "zerolinecolor": "white",
           "zerolinewidth": 2
          },
          "yaxis": {
           "automargin": true,
           "gridcolor": "white",
           "linecolor": "white",
           "ticks": "",
           "title": {
            "standoff": 15
           },
           "zerolinecolor": "white",
           "zerolinewidth": 2
          }
         }
        },
        "title": {
         "text": "ETS Decomposition Components"
        },
        "xaxis": {
         "anchor": "y",
         "domain": [
          0,
          1
         ]
        },
        "xaxis2": {
         "anchor": "y2",
         "domain": [
          0,
          1
         ]
        },
        "xaxis3": {
         "anchor": "y3",
         "domain": [
          0,
          1
         ]
        },
        "xaxis4": {
         "anchor": "y4",
         "domain": [
          0,
          1
         ]
        },
        "yaxis": {
         "anchor": "x",
         "domain": [
          0.84375,
          1
         ]
        },
        "yaxis2": {
         "anchor": "x2",
         "domain": [
          0.5625,
          0.71875
         ]
        },
        "yaxis3": {
         "anchor": "x3",
         "domain": [
          0.28125,
          0.4375
         ]
        },
        "yaxis4": {
         "anchor": "x4",
         "domain": [
          0,
          0.15625
         ]
        }
       }
      }
     },
     "metadata": {},
     "output_type": "display_data"
    }
   ],
   "source": [
    "# Create subplots with one row and four columns\n",
    "fig = make_subplots(rows=4, cols=1, subplot_titles=['Original Time Series', 'Trend Component', 'Seasonal Component', 'Residual Component'])\n",
    "\n",
    "# Add the original time series subplot\n",
    "fig.add_trace(px.line(x=result.observed.index, y=result.observed, color_discrete_sequence=['black']).data[0], row=1, col=1)\n",
    "\n",
    "# Add the trend component subplot\n",
    "fig.add_trace(px.line(x=result.trend.index, y=result.trend, color_discrete_sequence=['blue']).data[0], row=2, col=1)\n",
    "\n",
    "# Add the seasonal component subplot\n",
    "fig.add_trace(px.line(x=result.seasonal.index, y=result.seasonal, color_discrete_sequence=['green']).data[0], row=3, col=1)\n",
    "\n",
    "# Add the residual component subplot\n",
    "fig.add_trace(px.line(x=result.resid.index, y=result.resid, color_discrete_sequence=['red']).data[0], row=4, col=1)\n",
    "\n",
    "# Update layout\n",
    "fig.update_layout(height=1000, title='ETS Decomposition Components', showlegend=False)\n",
    "\n",
    "# Show the figure\n",
    "fig.show()\n"
   ]
  }
 ],
 "metadata": {
  "kernelspec": {
   "display_name": "Python 3",
   "language": "python",
   "name": "python3"
  },
  "language_info": {
   "codemirror_mode": {
    "name": "ipython",
    "version": 3
   },
   "file_extension": ".py",
   "mimetype": "text/x-python",
   "name": "python",
   "nbconvert_exporter": "python",
   "pygments_lexer": "ipython3",
   "version": "3.9.12"
  },
  "orig_nbformat": 4
 },
 "nbformat": 4,
 "nbformat_minor": 2
}
